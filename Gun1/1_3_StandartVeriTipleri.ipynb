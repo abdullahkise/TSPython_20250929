{
 "cells": [
  {
   "cell_type": "markdown",
   "id": "dc560600",
   "metadata": {},
   "source": [
    "# Standart Veri Tipleri\n",
    "![alt text](PythonVeriTipleri.png)"
   ]
  },
  {
   "cell_type": "markdown",
   "id": "ab8dd633",
   "metadata": {},
   "source": [
    "## Değişken Tanımlamak\n",
    "* Python Dynamic Type özeliğine sahip. Verilen değere göre memoryde yer ayırır. hata vermez."
   ]
  },
  {
   "cell_type": "code",
   "execution_count": 5,
   "id": "b07aec1e",
   "metadata": {},
   "outputs": [
    {
     "name": "stdout",
     "output_type": "stream",
     "text": [
      "1\n",
      "merhaba\n"
     ]
    },
    {
     "data": {
      "text/plain": [
       "str"
      ]
     },
     "execution_count": 5,
     "metadata": {},
     "output_type": "execute_result"
    }
   ],
   "source": [
    "degisken = 1 #tam sayı atadık.\n",
    "print(degisken)\n",
    "\n",
    "#\n",
    "degisken = \"merhaba\" #str tipinden bir değer\n",
    "print(degisken)\n",
    "\n",
    "#\n",
    "degisken\n",
    "\n",
    "#\n",
    "type(degisken) #degiskenin tipi str'dir."
   ]
  },
  {
   "cell_type": "markdown",
   "id": "4f11f5a1",
   "metadata": {},
   "source": [
    "## Primitive Types\n",
    "### Numeric"
   ]
  },
  {
   "cell_type": "code",
   "execution_count": 7,
   "id": "0f5d1fa4",
   "metadata": {},
   "outputs": [
    {
     "name": "stdout",
     "output_type": "stream",
     "text": [
      "<class 'int'>\n",
      "<class 'float'>\n",
      "<class 'complex'>\n"
     ]
    }
   ],
   "source": [
    "#tiplerin fonksiyonu da kullanılabilir. direkt değer de verebilirz.\n",
    "i = 1      #int(1)\n",
    "f = 1.23   #float(1.23)\n",
    "c = 3 + 4j #complex(3,4)\n",
    "\n",
    "print(type(i) , type(f) , type(c) ,sep = \"\\n\") #\\n alt satır karakterdir."
   ]
  },
  {
   "cell_type": "markdown",
   "id": "3186a8a8",
   "metadata": {},
   "source": [
    "### Bool\n",
    "* True veya False"
   ]
  },
  {
   "cell_type": "code",
   "execution_count": 14,
   "id": "0be5dfa1",
   "metadata": {},
   "outputs": [
    {
     "data": {
      "text/plain": [
       "False"
      ]
     },
     "execution_count": 14,
     "metadata": {},
     "output_type": "execute_result"
    }
   ],
   "source": [
    "t = True #bool(True)\n",
    "\n",
    "#not: 0, None veya boş nesneler genel olar False kabul edilir. diğerleri True kabul edilir.\n",
    "bool(1)  #True\n",
    "bool(-1) #True\n",
    "bool(0)  #False\n",
    "\n",
    "#\n",
    "bool(321312) #True\n",
    "bool(\"\") #False"
   ]
  },
  {
   "cell_type": "markdown",
   "id": "aa7a8ce6",
   "metadata": {},
   "source": [
    "### NoneType"
   ]
  },
  {
   "cell_type": "code",
   "execution_count": 15,
   "id": "af122d77",
   "metadata": {},
   "outputs": [
    {
     "data": {
      "text/plain": [
       "NoneType"
      ]
     },
     "execution_count": 15,
     "metadata": {},
     "output_type": "execute_result"
    }
   ],
   "source": [
    "type(None)"
   ]
  },
  {
   "cell_type": "markdown",
   "id": "7469a4e5",
   "metadata": {},
   "source": [
    "## Container Types"
   ]
  },
  {
   "cell_type": "markdown",
   "id": "296442de",
   "metadata": {},
   "source": [
    "### Sequence\n",
    "* Sıralıdır. index veya sıra numarası 0'dan başlar\n",
    "* elemanlara sıra numarası ile erişebiliriz."
   ]
  },
  {
   "cell_type": "markdown",
   "id": "c20f0c90",
   "metadata": {},
   "source": [
    "#### str"
   ]
  },
  {
   "cell_type": "code",
   "execution_count": 18,
   "id": "4f8b3ff4",
   "metadata": {},
   "outputs": [
    {
     "name": "stdout",
     "output_type": "stream",
     "text": [
      "\n",
      "SELECT\n",
      "    kolon1, \n",
      "    kolon2\n",
      "FROM TabloAdi\n",
      "\n"
     ]
    }
   ],
   "source": [
    "#tek satırlık metinler için \" veya ' tırnak kullanılabilir.\n",
    "m = \"merhaba\" \n",
    "m = 'merhaba'\n",
    "\n",
    "#çok satırlı metinlerde bu tırnaklardan 3'er tane kullanmamız gerek\n",
    "sorgu = \"\"\"\n",
    "SELECT\n",
    "    kolon1, \n",
    "    kolon2\n",
    "FROM TabloAdi\n",
    "\"\"\"\n",
    "\n",
    "print(sorgu)"
   ]
  },
  {
   "cell_type": "markdown",
   "id": "8fcd28a7",
   "metadata": {},
   "source": [
    "#### Tuple\n",
    "* Farklı tipleri tutabilir.\n",
    "* (,,,,,) şeklinde veya ,,,,,, tanımlanır.\n",
    "* immutabledır. Yani elemanları değiştirilemez. eleman ekleyip çıkaramayız."
   ]
  },
  {
   "cell_type": "code",
   "execution_count": 21,
   "id": "43e14bca",
   "metadata": {},
   "outputs": [
    {
     "data": {
      "text/plain": [
       "1"
      ]
     },
     "execution_count": 21,
     "metadata": {},
     "output_type": "execute_result"
    }
   ],
   "source": [
    "t = (1,2,3,\"metin\",\"metin\",False, None)\n",
    "t = 1,2,3,\"metin\",\"metin\",False, None\n",
    "\n",
    "type(t)\n",
    "\n",
    "#\n",
    "t"
   ]
  },
  {
   "cell_type": "markdown",
   "id": "59ce4627",
   "metadata": {},
   "source": [
    "#### List\n",
    "* Farklı tipteki elemanları tutabilir.\n",
    "* [,,,,] şeklinde tanımlanır.\n",
    "* mutabledır yani elemanları güncellenebilir."
   ]
  },
  {
   "cell_type": "code",
   "execution_count": 24,
   "id": "c2ce1b90",
   "metadata": {},
   "outputs": [
    {
     "data": {
      "text/plain": [
       "[1, 2, 3, 'metin', False, None]"
      ]
     },
     "execution_count": 24,
     "metadata": {},
     "output_type": "execute_result"
    }
   ],
   "source": [
    "l = [1,2,3,\"metin\",False,None]\n",
    "type(l)\n",
    "\n",
    "#\n",
    "l"
   ]
  },
  {
   "cell_type": "markdown",
   "id": "61f2cec8",
   "metadata": {},
   "source": [
    "### Sequence Elemanlarına Ulaşmak\n",
    "* index:\n",
    "  * `nesne[index]`\n",
    "  * **index 0'dan başlar.**\n",
    "  * negatif indexler kullanılabilir. Tersten anlamına gelir.\n",
    "* slicer:\n",
    "  * `nesne[start:stop:step]`\n",
    "    * start belirtmezse en baştan\n",
    "    * stop belirtilmezse en sona\n",
    "    * step belirtilmezse 1 olarak kabul edilir."
   ]
  },
  {
   "cell_type": "code",
   "execution_count": 26,
   "id": "207b8ed7",
   "metadata": {},
   "outputs": [
    {
     "data": {
      "text/plain": [
       "'a'"
      ]
     },
     "execution_count": 26,
     "metadata": {},
     "output_type": "execute_result"
    }
   ],
   "source": [
    "m = \"merhaba\" #str sequencetir\n",
    "\n",
    "#\n",
    "m[0] #ilk karkerini alabiliriz.\n",
    "m[-1]"
   ]
  },
  {
   "cell_type": "code",
   "execution_count": 33,
   "id": "ac849b67",
   "metadata": {},
   "outputs": [
    {
     "data": {
      "text/plain": [
       "'snalubma'"
      ]
     },
     "execution_count": 33,
     "metadata": {},
     "output_type": "execute_result"
    }
   ],
   "source": [
    "l = [0,1,2,3,4,5,6,8,9]\n",
    "\n",
    "#slicer\n",
    "l[2:8]  #2. indexten başla, 8. indexe kadar 1'er atlayıp getir.\n",
    "l[2:8:3]  #2-8 arasındakiler 3'er atlayıp gelir.\n",
    "\n",
    "#\n",
    "l[:3] #ilk 3 eleman\n",
    "l[:-2] #son 2 tanesi alınmasın.\n",
    "\n",
    "#\n",
    "l[::]\n",
    "l[::-1]  #listeyi tersten sıralar. step -1\n",
    "\n",
    "#\n",
    "m=\"ambulans\"\n",
    "m[::-1]"
   ]
  },
  {
   "cell_type": "markdown",
   "id": "3b28a8eb",
   "metadata": {},
   "source": [
    "### Set Types\n",
    "* set : mutable\n",
    "* frozenset() : immutable. değiştirilemez."
   ]
  },
  {
   "cell_type": "markdown",
   "id": "612ffde3",
   "metadata": {},
   "source": [
    "#### set\n",
    "* Elemanları benzersiz tutar.\n",
    "* sıra garantisi yoktur.\n",
    "* matematikteki kümeler gibidir. kesişim, bileşim gibi küme işlemlerini destekler.\n",
    "* {,,,,,} ile tanımlanır\n",
    "* set mutabledır. fakat elemanları immutable olmak zorundır."
   ]
  },
  {
   "cell_type": "code",
   "execution_count": 37,
   "id": "372cd299",
   "metadata": {},
   "outputs": [
    {
     "data": {
      "text/plain": [
       "{0, 1, 2, 3, 'metin'}"
      ]
     },
     "execution_count": 37,
     "metadata": {},
     "output_type": "execute_result"
    }
   ],
   "source": [
    "s = {0,1,2,3,\"metin\",\"metin\",False,True}\n",
    "s #0 False olarak , 1 True olarak kabul edildi. elemanlar benzersiz tutuldu."
   ]
  },
  {
   "cell_type": "code",
   "execution_count": 40,
   "id": "86f34971",
   "metadata": {},
   "outputs": [
    {
     "data": {
      "text/plain": [
       "{frozenset({'ali', 'veli'}), frozenset({'ayşe', 'fatm'})}"
      ]
     },
     "execution_count": 40,
     "metadata": {},
     "output_type": "execute_result"
    }
   ],
   "source": [
    "#unhashable type: 'set' immutable istediğinin alemetidir.\n",
    "aSinifi = {\"ali\",\"veli\"}\n",
    "bSinifi = {\"ayşe\",\"fatma\"}\n",
    "\n",
    "s = {frozenset(aSinifi),frozenset(bSinifi)}\n",
    "\n",
    "s"
   ]
  },
  {
   "cell_type": "code",
   "execution_count": 42,
   "id": "830413ce",
   "metadata": {},
   "outputs": [
    {
     "data": {
      "text/plain": [
       "{'A', 'B', 'I', 'K', 'L'}"
      ]
     },
     "execution_count": 42,
     "metadata": {},
     "output_type": "execute_result"
    }
   ],
   "source": [
    "s = {\"K\",\"A\",\"L\",\"A\",\"B\",\"A\",\"L\",\"I\",\"K\"}\n",
    "\n",
    "s #sıra garantisi yok."
   ]
  },
  {
   "cell_type": "markdown",
   "id": "bb9c3c9c",
   "metadata": {},
   "source": [
    "### Mapping Type\n",
    "#### dict\n",
    "* {key:value , key:value} şeklinde değer \n",
    "* keyler immutable olmak zorundır."
   ]
  },
  {
   "cell_type": "code",
   "execution_count": 47,
   "id": "3afd4b0b",
   "metadata": {},
   "outputs": [],
   "source": [
    "personel= {\"ad\":\"Abdullah\",\n",
    "            \"soyad\":\"Kise\",\n",
    "            \"yas\":39,\n",
    "            \"AktifMi\":True,\n",
    "            \"Ehliyetler\":[\"A\",\"B\"],\n",
    "            \"Kardeşler\":(\"Ali\",\"Veli\"),\n",
    "            \"Telefonlar\":{\"iş\":\"231-321\" , \"ev\":[\"1321-321\",\"213-321\"]},\n",
    "\n",
    "            #[2025 , \"maaş\"]:1231.49 #list tipi mutabledır.\n",
    "            (2025 , \"maaş\"):1231.49  #tuple immutabledır.\n",
    "            }"
   ]
  },
  {
   "cell_type": "markdown",
   "id": "ed56cb0f",
   "metadata": {},
   "source": [
    "#### dict elemanlarına erişmek\n",
    "* `nesne[key]`\n",
    "  * keyu yoksa hata verir.\n",
    "* `nesne.get(key):`\n",
    "  * key yoksa hata vermez. varsayılan bir değer yazabilirz."
   ]
  },
  {
   "cell_type": "code",
   "execution_count": 53,
   "id": "6b6f2112",
   "metadata": {},
   "outputs": [
    {
     "data": {
      "text/plain": [
       "'213-321'"
      ]
     },
     "execution_count": 53,
     "metadata": {},
     "output_type": "execute_result"
    }
   ],
   "source": [
    "personel\n",
    "\n",
    "#\n",
    "personel[\"ad\"]\n",
    "personel[\"Telefonlar\"] #{'iş': '231-321', 'ev': ['1321-321', '213-321']}\n",
    "personel[\"Telefonlar\"][\"ev\"] #['1321-321', '213-321']\n",
    "personel[\"Telefonlar\"][\"ev\"][-1] #son telefon numarası"
   ]
  },
  {
   "cell_type": "markdown",
   "id": "417e932f",
   "metadata": {},
   "source": [
    "## Mutable vs Immutable\n",
    "* **mutable**: elemanları değiştirilebilir.\n",
    "  * list, set, dict\n",
    "  * `lb = la` şeklinde atama yapılırsa referansı kopyalanır ve her iki değişken de memoryde aynı yeri gösterir. lb'de yapılan değişiklikler la'yı da etkiler.\n",
    "  * `lb = la.copy()` şeklinde atama yapılmalıdır. Bu durumda referans değil değer kopyalanır.\n",
    "* **immutable**: elemanları değiştirilemez.\n",
    "  * diğer tipler"
   ]
  },
  {
   "cell_type": "code",
   "execution_count": 56,
   "id": "13510f06",
   "metadata": {},
   "outputs": [],
   "source": [
    "l = [0,1,2] #list  mutable\n",
    "t = (0,1,2) #tuple immutable"
   ]
  },
  {
   "cell_type": "code",
   "execution_count": null,
   "id": "4ae944ab",
   "metadata": {},
   "outputs": [
    {
     "data": {
      "text/plain": [
       "['X', 1, 2]"
      ]
     },
     "execution_count": 58,
     "metadata": {},
     "output_type": "execute_result"
    }
   ],
   "source": [
    "l[0]\n",
    "\n",
    "l[0] =\"X\" #elemanı güncelledik\n",
    "\n",
    "l"
   ]
  },
  {
   "cell_type": "code",
   "execution_count": 61,
   "id": "071eb60b",
   "metadata": {},
   "outputs": [
    {
     "ename": "TypeError",
     "evalue": "'tuple' object does not support item assignment",
     "output_type": "error",
     "traceback": [
      "\u001b[1;31m---------------------------------------------------------------------------\u001b[0m",
      "\u001b[1;31mTypeError\u001b[0m                                 Traceback (most recent call last)",
      "Cell \u001b[1;32mIn[61], line 3\u001b[0m\n\u001b[0;32m      1\u001b[0m t[\u001b[38;5;241m0\u001b[39m]\n\u001b[1;32m----> 3\u001b[0m \u001b[43mt\u001b[49m\u001b[43m[\u001b[49m\u001b[38;5;241;43m0\u001b[39;49m\u001b[43m]\u001b[49m \u001b[38;5;241m=\u001b[39m \u001b[38;5;124m\"\u001b[39m\u001b[38;5;124mX\u001b[39m\u001b[38;5;124m\"\u001b[39m \u001b[38;5;66;03m#immutable elemanları güncellenemez.\u001b[39;00m\n",
      "\u001b[1;31mTypeError\u001b[0m: 'tuple' object does not support item assignment"
     ]
    }
   ],
   "source": [
    "t[0]\n",
    "\n",
    "t[0] = \"X\" #immutable elemanları güncellenemez."
   ]
  },
  {
   "cell_type": "code",
   "execution_count": null,
   "id": "1071b556",
   "metadata": {},
   "outputs": [
    {
     "name": "stdout",
     "output_type": "stream",
     "text": [
      "1 1\n",
      "1 2\n"
     ]
    }
   ],
   "source": [
    "#immutable\n",
    "a = 1\n",
    "b = a\n",
    "\n",
    "print(a,b)\n",
    "\n",
    "#\n",
    "b = 2\n",
    "\n",
    "#\n",
    "print(a,b)"
   ]
  },
  {
   "cell_type": "code",
   "execution_count": null,
   "id": "d0a2e759",
   "metadata": {},
   "outputs": [
    {
     "name": "stdout",
     "output_type": "stream",
     "text": [
      "['A', 'B'] ['A', 'B']\n",
      "['X', 'B'] ['X', 'B']\n"
     ]
    }
   ],
   "source": [
    "#mutable atama\n",
    "la = [\"A\",\"B\"]\n",
    "#lb = la\n",
    "lb = la.copy() #sadece değerini kopyalarız. referansını değil.\n",
    "\n",
    "print(la, lb)\n",
    "\n",
    "lb[0] = \"X\"\n",
    "\n",
    "#\n",
    "print(la, lb)"
   ]
  }
 ],
 "metadata": {
  "kernelspec": {
   "display_name": "Python 3",
   "language": "python",
   "name": "python3"
  },
  "language_info": {
   "codemirror_mode": {
    "name": "ipython",
    "version": 3
   },
   "file_extension": ".py",
   "mimetype": "text/x-python",
   "name": "python",
   "nbconvert_exporter": "python",
   "pygments_lexer": "ipython3",
   "version": "3.11.3"
  }
 },
 "nbformat": 4,
 "nbformat_minor": 5
}
