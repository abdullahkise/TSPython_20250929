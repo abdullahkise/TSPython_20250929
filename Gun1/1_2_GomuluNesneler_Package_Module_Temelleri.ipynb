{
 "cells": [
  {
   "cell_type": "markdown",
   "id": "2f06772f",
   "metadata": {},
   "source": [
    "## Package Module Kavramı ve Gömülü Nesneler\n",
    "* Python kütüphanesi, Package adı verilen klasorde py dosyalarında bulunan modullerden oluşmaktadır. Packge = Folder, Module = .py\n",
    "* Herhangi bir paket yüklemeden gomulu nesneleri kullanabiliriz. builtins modulu otomatik yükleniyor.\n",
    "* Python engine kurulduğunda bazı ek Standart Paketler de gelir. \n",
    "* Harici paketleri python repositorysinden indirebiliriz.\n",
    "* Paketleri indirmek ve silmek için:\n",
    "```bash\n",
    "pip install paketAdi\n",
    "pip uninstall paketAdi\n",
    "```\n",
    "* Yüklü paketleri listelemek için:\n",
    "```bash\n",
    "pip list\n",
    "pip show paketAdi \n",
    "```\n",
    "* Bilgisayardaki yüklü paketleri çalışma ortamından çağırmak için \n",
    "```python\n",
    "import paketAdi\n",
    "import paketAdi1, paketAdi2\n",
    "import paketAdi as takmaAd\n",
    "\n",
    "from paketAdi import module\n",
    "```"
   ]
  },
  {
   "cell_type": "markdown",
   "id": "7553d552",
   "metadata": {},
   "source": [
    "## Gömülü Nesneleri\n",
    "* hiç bir paket import etmeden kullanılabilecek nesnelerdir."
   ]
  },
  {
   "cell_type": "code",
   "execution_count": null,
   "id": "a863fe22",
   "metadata": {},
   "outputs": [
    {
     "data": {
      "text/plain": [
       "['ArithmeticError',\n",
       " 'AssertionError',\n",
       " 'AttributeError',\n",
       " 'BaseException',\n",
       " 'BaseExceptionGroup',\n",
       " 'BlockingIOError',\n",
       " 'BrokenPipeError',\n",
       " 'BufferError',\n",
       " 'BytesWarning',\n",
       " 'ChildProcessError',\n",
       " 'ConnectionAbortedError',\n",
       " 'ConnectionError',\n",
       " 'ConnectionRefusedError',\n",
       " 'ConnectionResetError',\n",
       " 'DeprecationWarning',\n",
       " 'EOFError',\n",
       " 'Ellipsis',\n",
       " 'EncodingWarning',\n",
       " 'EnvironmentError',\n",
       " 'Exception',\n",
       " 'ExceptionGroup',\n",
       " 'False',\n",
       " 'FileExistsError',\n",
       " 'FileNotFoundError',\n",
       " 'FloatingPointError',\n",
       " 'FutureWarning',\n",
       " 'GeneratorExit',\n",
       " 'IOError',\n",
       " 'ImportError',\n",
       " 'ImportWarning',\n",
       " 'IndentationError',\n",
       " 'IndexError',\n",
       " 'InterruptedError',\n",
       " 'IsADirectoryError',\n",
       " 'KeyError',\n",
       " 'KeyboardInterrupt',\n",
       " 'LookupError',\n",
       " 'MemoryError',\n",
       " 'ModuleNotFoundError',\n",
       " 'NameError',\n",
       " 'None',\n",
       " 'NotADirectoryError',\n",
       " 'NotImplemented',\n",
       " 'NotImplementedError',\n",
       " 'OSError',\n",
       " 'OverflowError',\n",
       " 'PendingDeprecationWarning',\n",
       " 'PermissionError',\n",
       " 'ProcessLookupError',\n",
       " 'RecursionError',\n",
       " 'ReferenceError',\n",
       " 'ResourceWarning',\n",
       " 'RuntimeError',\n",
       " 'RuntimeWarning',\n",
       " 'StopAsyncIteration',\n",
       " 'StopIteration',\n",
       " 'SyntaxError',\n",
       " 'SyntaxWarning',\n",
       " 'SystemError',\n",
       " 'SystemExit',\n",
       " 'TabError',\n",
       " 'TimeoutError',\n",
       " 'True',\n",
       " 'TypeError',\n",
       " 'UnboundLocalError',\n",
       " 'UnicodeDecodeError',\n",
       " 'UnicodeEncodeError',\n",
       " 'UnicodeError',\n",
       " 'UnicodeTranslateError',\n",
       " 'UnicodeWarning',\n",
       " 'UserWarning',\n",
       " 'ValueError',\n",
       " 'Warning',\n",
       " 'WindowsError',\n",
       " 'ZeroDivisionError',\n",
       " '__IPYTHON__',\n",
       " '__build_class__',\n",
       " '__debug__',\n",
       " '__doc__',\n",
       " '__import__',\n",
       " '__loader__',\n",
       " '__name__',\n",
       " '__package__',\n",
       " '__spec__',\n",
       " 'abs',\n",
       " 'aiter',\n",
       " 'all',\n",
       " 'anext',\n",
       " 'any',\n",
       " 'ascii',\n",
       " 'bin',\n",
       " 'bool',\n",
       " 'breakpoint',\n",
       " 'bytearray',\n",
       " 'bytes',\n",
       " 'callable',\n",
       " 'chr',\n",
       " 'classmethod',\n",
       " 'compile',\n",
       " 'complex',\n",
       " 'copyright',\n",
       " 'credits',\n",
       " 'delattr',\n",
       " 'dict',\n",
       " 'dir',\n",
       " 'display',\n",
       " 'divmod',\n",
       " 'enumerate',\n",
       " 'eval',\n",
       " 'exec',\n",
       " 'execfile',\n",
       " 'filter',\n",
       " 'float',\n",
       " 'format',\n",
       " 'frozenset',\n",
       " 'get_ipython',\n",
       " 'getattr',\n",
       " 'globals',\n",
       " 'hasattr',\n",
       " 'hash',\n",
       " 'help',\n",
       " 'hex',\n",
       " 'id',\n",
       " 'input',\n",
       " 'int',\n",
       " 'isinstance',\n",
       " 'issubclass',\n",
       " 'iter',\n",
       " 'len',\n",
       " 'license',\n",
       " 'list',\n",
       " 'locals',\n",
       " 'map',\n",
       " 'max',\n",
       " 'memoryview',\n",
       " 'min',\n",
       " 'next',\n",
       " 'object',\n",
       " 'oct',\n",
       " 'open',\n",
       " 'ord',\n",
       " 'pow',\n",
       " 'print',\n",
       " 'property',\n",
       " 'range',\n",
       " 'repr',\n",
       " 'reversed',\n",
       " 'round',\n",
       " 'runfile',\n",
       " 'set',\n",
       " 'setattr',\n",
       " 'slice',\n",
       " 'sorted',\n",
       " 'staticmethod',\n",
       " 'str',\n",
       " 'sum',\n",
       " 'super',\n",
       " 'tuple',\n",
       " 'type',\n",
       " 'vars',\n",
       " 'zip']"
      ]
     },
     "execution_count": 2,
     "metadata": {},
     "output_type": "execute_result"
    }
   ],
   "source": [
    "# python kodlar arasına # ile yorum satırı ekleyebilir.\n",
    "# print, dir, pow, int, float, help, exit vs gömülü nesnelerdir.\n",
    "#__builtins__ ile gömülü nesneleri listelenebilir.\n",
    "dir(__builtins__) #başta ve sonda 2 _ var."
   ]
  },
  {
   "cell_type": "code",
   "execution_count": null,
   "id": "0e3aa853",
   "metadata": {},
   "outputs": [
    {
     "data": {
      "text/plain": [
       "9"
      ]
     },
     "execution_count": 5,
     "metadata": {},
     "output_type": "execute_result"
    }
   ],
   "source": [
    "#help(print)\n",
    "#help(pow)\n",
    "\n",
    "#\n",
    "pow(3,2) #3'ün karesi"
   ]
  },
  {
   "cell_type": "markdown",
   "id": "d054dc4c",
   "metadata": {},
   "source": [
    "## Bilgisayarda var olan kütüphaneleri çağıralım.\n",
    "* Bazı standart paketleri ilk yüklemede gelir. \n",
    "* math, datetime, json, csv vs."
   ]
  },
  {
   "cell_type": "code",
   "execution_count": 9,
   "id": "d100e82e",
   "metadata": {},
   "outputs": [
    {
     "name": "stdout",
     "output_type": "stream",
     "text": [
      "Help on built-in function pow in module math:\n",
      "\n",
      "pow(x, y, /)\n",
      "    Return x**y (x to the power of y).\n",
      "\n"
     ]
    },
    {
     "data": {
      "text/plain": [
       "9.0"
      ]
     },
     "execution_count": 9,
     "metadata": {},
     "output_type": "execute_result"
    }
   ],
   "source": [
    "#çalışma ortamına math paketi içierğini çağıralım.\n",
    "import math\n",
    "\n",
    "#math paketi keşfedelm.\n",
    "dir(math)\n",
    "#help(pow)  #göülü nesnelerde pow fonksiyonu\n",
    "help(math.pow) #math kütüphanesi içindeki pow.\n",
    "\n",
    "#\n",
    "math.pow(3,2) #9"
   ]
  },
  {
   "cell_type": "code",
   "execution_count": 15,
   "id": "050e4474",
   "metadata": {},
   "outputs": [],
   "source": [
    "import os #işletim sistemi odaklı işleri barındırır.\n",
    "\n",
    "#\n",
    "#help(os.makedirs)\n",
    "os.makedirs(\"GordugundeSil\",exist_ok=True)"
   ]
  },
  {
   "cell_type": "code",
   "execution_count": null,
   "id": "72ffd611",
   "metadata": {},
   "outputs": [
    {
     "data": {
      "text/plain": [
       "['.git',\n",
       " '.gitattributes',\n",
       " '.ipynb_checkpoints',\n",
       " '1_2_GomuluNesneler_Package_Module_Temelleri.ipynb',\n",
       " 'GordugundeSil',\n",
       " 'Gun1',\n",
       " 'TSPython_20250929.code-workspace']"
      ]
     },
     "execution_count": 17,
     "metadata": {},
     "output_type": "execute_result"
    }
   ],
   "source": [
    "os.getcwd() #çalışma yolu\n",
    "os.listdir() #mevcut çalışma yolundaki tüm yolları listeler."
   ]
  },
  {
   "cell_type": "code",
   "execution_count": null,
   "id": "f0ff3218",
   "metadata": {},
   "outputs": [
    {
     "name": "stdout",
     "output_type": "stream",
     "text": [
      "c:\\Users\\Abdullah\\Documents\\GitHub\\TSPython_20250929\n"
     ]
    }
   ],
   "source": [
    "#terminal komutlaırnı da notebook içerisinde çağırabiliriz.\n",
    "!cd \n",
    "!mkdir GordugundeSil2\n",
    "\n",
    "#!pip ile notebook içeriside paket yüklemeyelim."
   ]
  },
  {
   "cell_type": "markdown",
   "id": "c949d4d0",
   "metadata": {},
   "source": [
    "## Paket İndirmek ve Çalışma Ortamına Almak"
   ]
  },
  {
   "cell_type": "code",
   "execution_count": null,
   "id": "352a7263",
   "metadata": {},
   "outputs": [
    {
     "name": "stdout",
     "output_type": "stream",
     "text": [
      "Collecting emoji\n",
      "  Using cached emoji-2.15.0-py3-none-any.whl.metadata (5.7 kB)\n",
      "Using cached emoji-2.15.0-py3-none-any.whl (608 kB)\n",
      "Installing collected packages: emoji\n",
      "Successfully installed emoji-2.15.0\n"
     ]
    }
   ],
   "source": [
    "!pip install emoji\n",
    "#pakret yüklemeleri terminalden veya anoconda penceresinden yapalım."
   ]
  },
  {
   "cell_type": "code",
   "execution_count": 7,
   "id": "ea230153",
   "metadata": {},
   "outputs": [
    {
     "name": "stdout",
     "output_type": "stream",
     "text": [
      "Python is fun ❤️\n"
     ]
    }
   ],
   "source": [
    "import emoji as em #takma ad verdik.\n",
    "\n",
    "#\n",
    "#dir(emoji) #hata\n",
    "dir(em) #takma ad üzerinden kullanacağız\n",
    "\n",
    "#\n",
    "#help(em)\n",
    "#help(em.emojize)\n",
    "\n",
    "#\n",
    "print(em.emojize(\"Python is fun :red_heart:\", variant=\"emoji_type\"))"
   ]
  }
 ],
 "metadata": {
  "kernelspec": {
   "display_name": "Python 3",
   "language": "python",
   "name": "python3"
  },
  "language_info": {
   "codemirror_mode": {
    "name": "ipython",
    "version": 3
   },
   "file_extension": ".py",
   "mimetype": "text/x-python",
   "name": "python",
   "nbconvert_exporter": "python",
   "pygments_lexer": "ipython3",
   "version": "3.11.3"
  }
 },
 "nbformat": 4,
 "nbformat_minor": 5
}
