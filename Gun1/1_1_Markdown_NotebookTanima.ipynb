{
 "cells": [
  {
   "cell_type": "markdown",
   "id": "de1fca25-1ff3-4c5a-8c80-7909a783259e",
   "metadata": {},
   "source": [
    "# Python Dili Esaslar\n",
    "![pythonlog](https://www.python.org/static/img/python-logo.png)\n",
    "\n",
    "## Python Ortamının Hazırlanması\n",
    "\n",
    "**Python** ortamının hazırlanması için:\n",
    "1. Öncelikle [python.org](https://www.python.org/) sitesinden engine(interpreter) indirmek gerekli.\n",
    "2. Sonrasında Terminal üzerinden veya bir IDE ile çalışabiliriz.\n",
    "    * `Jupyter Notebook`, `Jupyter Lab`\n",
    "    * `VSCode`, `PyCharm`, `Spyder`\n",
    "3. Dilerseniz **Anaconda** kurarak. `Anaconda Navigator` ile derli toplu şekilde çalışabiliriz.\n",
    "4. ~Python2~ ile *Python3* arasında syntax farkı var. Python3 ile çalışıyoruz.\n",
    "\n",
    "**Not:**\n",
    "* Yukarıdaki (`) yatık tırnak işareti <kbd>AltGr</kbd> + <kbd>;</kbd> + <kbd>Space</kbd>\n",
    "* Tilda (~) işareti <kbd>AltGr</kbd> + <kbd>ü</kbd> + <kbd>Space</kbd> ile yaptık\n",
    "* Markdown içinde html kodları çalıştırılabilir. <font color='red'>Bu html kodları ile yazıldı</font>\n",
    "\n",
    "## Çalışma Modeları\n",
    "1. Interactive Mode\n",
    "2. Script Mode\n",
    "3. Dilerseniz setup haline getirebilirsiniz.\n",
    "\n",
    "## Kullanacağımız Bazı Kodlar\n",
    "\n",
    "* Komut satırı örnekleri\n",
    "```bash\n",
    "> python\n",
    "> python --version\n",
    "> py --version\n",
    "> py --list\n",
    "> py -3.11\n",
    ">>> print(\"merhaba\")\n",
    ">>> exit()\n",
    "```\n",
    "\n",
    "* Python kod örnekleri\n",
    "```python\n",
    "print(\"merhaba\",\"Dünyalı\",sep=\" \", end=\"\\n\")\n",
    "```\n",
    "\n",
    "## Matematiksel Formulleri de Destekler\n",
    "https://rmd4sci.njtierney.com/math\n",
    "* $x^2$\n",
    "* $x_i$\n",
    "* $\\infty$\n",
    "* $\\int_{i=0}^n x^{a-0}$\n",
    "* $\\frac{1-a}{b-a}$\n",
    "* $\\sum_{i=0}^n$\n",
    "* $\\sqrt{1-a}$\n",
    "\n",
    "## Tablo Oluşturulabilir.\n",
    "|Ad|Soyad|\n",
    "|-----|----|\n",
    "|Ali|Uçan|\n",
    "|Veli|Kaçan|"
   ]
  }
 ],
 "metadata": {
  "kernelspec": {
   "display_name": "Python 3 (ipykernel)",
   "language": "python",
   "name": "python3"
  },
  "language_info": {
   "codemirror_mode": {
    "name": "ipython",
    "version": 3
   },
   "file_extension": ".py",
   "mimetype": "text/x-python",
   "name": "python",
   "nbconvert_exporter": "python",
   "pygments_lexer": "ipython3",
   "version": "3.11.3"
  }
 },
 "nbformat": 4,
 "nbformat_minor": 5
}
