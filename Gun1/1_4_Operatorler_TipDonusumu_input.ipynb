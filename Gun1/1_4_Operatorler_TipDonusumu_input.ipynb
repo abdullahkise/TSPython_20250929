{
 "cells": [
  {
   "cell_type": "markdown",
   "id": "373b90dc",
   "metadata": {},
   "source": [
    "# Operatorler\n",
    "![alt text](Operatorler.png)"
   ]
  },
  {
   "cell_type": "markdown",
   "id": "991047fd",
   "metadata": {},
   "source": [
    "## Aritmatik"
   ]
  },
  {
   "cell_type": "code",
   "execution_count": 4,
   "id": "17952954",
   "metadata": {},
   "outputs": [
    {
     "data": {
      "text/plain": [
       "15.0"
      ]
     },
     "execution_count": 4,
     "metadata": {},
     "output_type": "execute_result"
    }
   ],
   "source": [
    "8/2*(2+2)-1\n",
    "\n",
    "#önce parantez içi\n",
    "#çarpma bölme arasında işlem önceliği yok. soldan sağa yapar.\n",
    "#toplama, çıkarma"
   ]
  },
  {
   "cell_type": "code",
   "execution_count": 5,
   "id": "a04543d2",
   "metadata": {},
   "outputs": [
    {
     "name": "stdout",
     "output_type": "stream",
     "text": [
      "Ücret :  17954.300000000003\n"
     ]
    }
   ],
   "source": [
    "#soru:\n",
    "# haftalık çalıpşma saati min 40 saat olsun\n",
    "# mesai ücreti saatlik ücretin 1.5 katı olsun.\n",
    "# çalışma süresi girildiğinde mesai hücretini hesaplayalım\n",
    "# hakediş\n",
    "calismaSaati = 60\n",
    "saatlikUcret = 256.49\n",
    "\n",
    "hakedis = 40 * saatlikUcret + (calismaSaati - 40)*(saatlikUcret*1.5)\n",
    "\n",
    "print(\"Ücret : \", hakedis)"
   ]
  },
  {
   "cell_type": "code",
   "execution_count": null,
   "id": "ad2d8ebb",
   "metadata": {},
   "outputs": [],
   "source": [
    "#soru:\n",
    "#iki dik kenarı verilen ücgenin hipotenüsünü hesaplayalım\n",
    "# h^2 = x^2 + y^2\n",
    "# h = ?\n",
    "\n",
    "x=3\n",
    "y=4\n",
    "\n",
    "#h=?"
   ]
  },
  {
   "cell_type": "code",
   "execution_count": null,
   "id": "bbc2a9a4",
   "metadata": {},
   "outputs": [],
   "source": [
    "#soru:\n",
    "# ay olarak yaşı girilen bir çocuğun yıl ve ay olarak yaşını hesaplayalım.\n",
    "# 56 aylık çocuğunuz doğalı 4 yol 8 ay oldu.\n",
    "\n",
    "kacAylik = 56"
   ]
  }
 ],
 "metadata": {
  "kernelspec": {
   "display_name": "Python 3",
   "language": "python",
   "name": "python3"
  },
  "language_info": {
   "codemirror_mode": {
    "name": "ipython",
    "version": 3
   },
   "file_extension": ".py",
   "mimetype": "text/x-python",
   "name": "python",
   "nbconvert_exporter": "python",
   "pygments_lexer": "ipython3",
   "version": "3.11.3"
  }
 },
 "nbformat": 4,
 "nbformat_minor": 5
}
