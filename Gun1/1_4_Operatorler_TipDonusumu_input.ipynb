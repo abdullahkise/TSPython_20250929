{
 "cells": [
  {
   "cell_type": "markdown",
   "id": "373b90dc",
   "metadata": {},
   "source": [
    "# Operatorler\n",
    "![alt text](Operatorler.png)"
   ]
  },
  {
   "cell_type": "markdown",
   "id": "991047fd",
   "metadata": {},
   "source": [
    "## Aritmatik"
   ]
  },
  {
   "cell_type": "code",
   "execution_count": 57,
   "id": "17952954",
   "metadata": {},
   "outputs": [
    {
     "data": {
      "text/plain": [
       "15.0"
      ]
     },
     "execution_count": 57,
     "metadata": {},
     "output_type": "execute_result"
    }
   ],
   "source": [
    "8/2*(2+2)-1\n",
    "\n",
    "#önce parantez içi\n",
    "#çarpma bölme arasında işlem önceliği yok. soldan sağa yapar.\n",
    "#toplama, çıkarma"
   ]
  },
  {
   "cell_type": "code",
   "execution_count": 58,
   "id": "a04543d2",
   "metadata": {},
   "outputs": [
    {
     "name": "stdout",
     "output_type": "stream",
     "text": [
      "Ücret :  17954.300000000003\n"
     ]
    }
   ],
   "source": [
    "#soru:\n",
    "# haftalık çalıpşma saati min 40 saat olsun\n",
    "# mesai ücreti saatlik ücretin 1.5 katı olsun.\n",
    "# çalışma süresi girildiğinde mesai hücretini hesaplayalım\n",
    "# hakediş\n",
    "calismaSaati = 60\n",
    "saatlikUcret = 256.49\n",
    "\n",
    "hakedis = 40 * saatlikUcret + (calismaSaati - 40)*(saatlikUcret*1.5)\n",
    "\n",
    "print(\"Ücret : \", hakedis)"
   ]
  },
  {
   "cell_type": "markdown",
   "id": "fb3e6d25",
   "metadata": {},
   "source": [
    "* $h^2 = x^2 + y^2$\n",
    "* $h = \\sqrt{x^2 + y^2}$"
   ]
  },
  {
   "cell_type": "code",
   "execution_count": 59,
   "id": "ad2d8ebb",
   "metadata": {},
   "outputs": [
    {
     "name": "stdout",
     "output_type": "stream",
     "text": [
      "Hipotenüs :  5.0\n"
     ]
    }
   ],
   "source": [
    "#soru:\n",
    "#iki dik kenarı verilen ücgenin hipotenüsünü hesaplayalım\n",
    "# h^2 = x^2 + y^2\n",
    "# h = ?\n",
    "\n",
    "\"\"\"\n",
    "Bu 3 tırnak yöntemi metin tanımlamak için kullanılıyr. \n",
    "Ancak çok satırlı yorum için de kullanabiliriz\n",
    "\n",
    "markdown dilinde aşağıdaki şekilde formulu okunaklı hale getirebilriz.\n",
    "* $h^2 = x^2 + y^2$\n",
    "* $h = \\sqrt{x^2 + y^2}$\n",
    "\"\"\"\n",
    "\n",
    "x=3\n",
    "y=4\n",
    "\n",
    "#h=?\n",
    "#pow, math.pow, **\n",
    "#h = (x**2 + y**2)**0.5\n",
    "\n",
    "#veya math.sqrt ile\n",
    "import math\n",
    "h = math.sqrt(x**2 + y**2)\n",
    "\n",
    "#\n",
    "print(\"Hipotenüs : \", h)"
   ]
  },
  {
   "cell_type": "code",
   "execution_count": 60,
   "id": "bbc2a9a4",
   "metadata": {},
   "outputs": [
    {
     "name": "stdout",
     "output_type": "stream",
     "text": [
      "56 aylık olan çocuğunuz doğalı 4 yıl ve 8 ay oldu.\n"
     ]
    }
   ],
   "source": [
    "#soru:\n",
    "# ay olarak yaşı girilen bir çocuğun yıl ve ay olarak yaşını hesaplayalım.\n",
    "# 56 aylık çocuğunuz doğalı 4 yıl 8 ay oldu.\n",
    "\n",
    "kacAylik = 56\n",
    "yil = kacAylik // 12 #// sonucun tam kısmını verir\n",
    "ay = kacAylik % 12\n",
    "\n",
    "#\n",
    "print(kacAylik,\"aylık olan çocuğunuz doğalı\",yil,\"yıl ve\",ay,\"ay oldu.\" )"
   ]
  },
  {
   "cell_type": "markdown",
   "id": "6cf361d9",
   "metadata": {},
   "source": [
    "## Atama "
   ]
  },
  {
   "cell_type": "code",
   "execution_count": 61,
   "id": "a798eaa6",
   "metadata": {},
   "outputs": [
    {
     "name": "stdout",
     "output_type": "stream",
     "text": [
      "1 2 3\n"
     ]
    }
   ],
   "source": [
    "a = 1 #klasik atama\n",
    "a = b = 1 #zincir atama\n",
    "\n",
    "#unpacking (değişken ile değer deseni uyumlu ise değerler değişkene atanır.)\n",
    "a,b,c = 1,2,3\n",
    "\n",
    "#\n",
    "print(a,b,c)"
   ]
  },
  {
   "cell_type": "code",
   "execution_count": 62,
   "id": "5798b399",
   "metadata": {},
   "outputs": [
    {
     "name": "stdout",
     "output_type": "stream",
     "text": [
      "5\n"
     ]
    }
   ],
   "source": [
    "x = 2\n",
    "\n",
    "#kümülatif\n",
    "#x = x+3 #x'in önceki değerine 3 ekledik. ve tekrar x'e atadık\n",
    "x += 3 #aynı sonucu verir.\n",
    "\n",
    "#önce sağ taraf hesaplanır sonra sol taraf\n",
    "\n",
    "print(x)"
   ]
  },
  {
   "cell_type": "code",
   "execution_count": 63,
   "id": "bb975aaf",
   "metadata": {},
   "outputs": [
    {
     "name": "stdout",
     "output_type": "stream",
     "text": [
      "Veli Ali\n"
     ]
    }
   ],
   "source": [
    "#soru:\n",
    "a = \"Ali\"\n",
    "b = \"Veli\"\n",
    "\n",
    "#a ile b'nin değerini yer değiştirelim.\n",
    "#b=\"Veli\" a=\"Ali\"\n",
    "\n",
    "a, b = b , a #önce sağ sonra sola atanır, desen de aynı olduğu için değerler atanır\n",
    "\n",
    "print(a,b) #Veli Ali olmalı"
   ]
  },
  {
   "cell_type": "markdown",
   "id": "f170ddd8",
   "metadata": {},
   "source": [
    "## Karşılaştırma\n",
    "* True /False döner."
   ]
  },
  {
   "cell_type": "code",
   "execution_count": 64,
   "id": "7ee04968",
   "metadata": {},
   "outputs": [
    {
     "data": {
      "text/plain": [
       "True"
      ]
     },
     "execution_count": 64,
     "metadata": {},
     "output_type": "execute_result"
    }
   ],
   "source": [
    "x = 6\n",
    "\n",
    "#x çift mi?\n",
    "x%2 == 0 #2'ye bölümünden kalan 0 mı?\n",
    "\n",
    "#\n",
    "#print(x%2 == 0) #içindeki hesapanır sonuç yazılır."
   ]
  },
  {
   "cell_type": "code",
   "execution_count": 65,
   "id": "f1d9cf76",
   "metadata": {},
   "outputs": [
    {
     "data": {
      "text/plain": [
       "False"
      ]
     },
     "execution_count": 65,
     "metadata": {},
     "output_type": "execute_result"
    }
   ],
   "source": [
    "degisken = \"yedi\"\n",
    "\n",
    "type(degisken) == int #tipi int mi?"
   ]
  },
  {
   "cell_type": "markdown",
   "id": "10526255",
   "metadata": {},
   "source": [
    "### Mantıksal\n",
    "Sonuç True / False\n",
    "* `and` her iki tarafındaki mantıksal durum True ise sonuç True\n",
    "* `or` herhangi bir taraf True ise sonuç True\n",
    "* `not(şart)` Verilen mantıksal şartın tersini üretir."
   ]
  },
  {
   "cell_type": "code",
   "execution_count": 66,
   "id": "8fc6b1da",
   "metadata": {},
   "outputs": [
    {
     "data": {
      "text/plain": [
       "True"
      ]
     },
     "execution_count": 66,
     "metadata": {},
     "output_type": "execute_result"
    }
   ],
   "source": [
    "kadi=\"admin\"\n",
    "ksifre=\"1234\"\n",
    "\n",
    "kadi == \"admin\" and ksifre ==\"1234\" #giriş başarılı ise True üretir.\n",
    "\n",
    "#\n",
    "#not ile aynı sonucu alalım.\n",
    "#not(True) #False\n",
    "\n",
    "not(kadi != \"admin\" or ksifre !=\"1234\") #anlaşılması zor."
   ]
  },
  {
   "cell_type": "markdown",
   "id": "cc26aba1",
   "metadata": {},
   "source": [
    "## Üyelik\n",
    "* `in`  : grup içinde var mı?\n",
    "* `not in`"
   ]
  },
  {
   "cell_type": "code",
   "execution_count": 67,
   "id": "e38c6b44",
   "metadata": {},
   "outputs": [
    {
     "data": {
      "text/plain": [
       "False"
      ]
     },
     "execution_count": 67,
     "metadata": {},
     "output_type": "execute_result"
    }
   ],
   "source": [
    "\"m\" in \"merhaba\" #str container\n",
    "\n",
    "#\n",
    "100 in [1,2,3,4] #100 bu listede var mı?"
   ]
  },
  {
   "cell_type": "code",
   "execution_count": 68,
   "id": "9575ed7e",
   "metadata": {},
   "outputs": [
    {
     "data": {
      "text/plain": [
       "False"
      ]
     },
     "execution_count": 68,
     "metadata": {},
     "output_type": "execute_result"
    }
   ],
   "source": [
    "#soru:\n",
    "#sqrt fonksiyonu gömülü nesneler arasında var mı?\n",
    "#__builtins__, dir, in\n",
    "type(dir(__builtins__)) #list\n",
    "\n",
    "#\n",
    "type(dir(__builtins__)[0]) #str\n",
    "\n",
    "#\n",
    "\"pow\" in dir(__builtins__) #True\n",
    "\"sqrt\" in dir(__builtins__) #False"
   ]
  },
  {
   "cell_type": "markdown",
   "id": "98e2cc94",
   "metadata": {},
   "source": [
    "## Tip Dönüşümü\n",
    "![alt text](TipDonusu.png)"
   ]
  },
  {
   "cell_type": "code",
   "execution_count": 69,
   "id": "ede5636a",
   "metadata": {},
   "outputs": [
    {
     "data": {
      "text/plain": [
       "'BirKişi'"
      ]
     },
     "execution_count": 69,
     "metadata": {},
     "output_type": "execute_result"
    }
   ],
   "source": [
    "1+2 #int + int\n",
    "\n",
    "\"Bir\" + \"Kişi\" #str + str"
   ]
  },
  {
   "cell_type": "code",
   "execution_count": 70,
   "id": "ef168f87",
   "metadata": {},
   "outputs": [
    {
     "ename": "TypeError",
     "evalue": "unsupported operand type(s) for +: 'int' and 'str'",
     "output_type": "error",
     "traceback": [
      "\u001b[1;31m---------------------------------------------------------------------------\u001b[0m",
      "\u001b[1;31mTypeError\u001b[0m                                 Traceback (most recent call last)",
      "Cell \u001b[1;32mIn[70], line 1\u001b[0m\n\u001b[1;32m----> 1\u001b[0m \u001b[38;5;241;43m1\u001b[39;49m\u001b[43m \u001b[49m\u001b[38;5;241;43m+\u001b[39;49m\u001b[43m \u001b[49m\u001b[38;5;124;43m\"\u001b[39;49m\u001b[38;5;124;43mkişi\u001b[39;49m\u001b[38;5;124;43m\"\u001b[39;49m \u001b[38;5;66;03m#str ve int arasında + ile ne yapacağımız belli değil.\u001b[39;00m\n",
      "\u001b[1;31mTypeError\u001b[0m: unsupported operand type(s) for +: 'int' and 'str'"
     ]
    }
   ],
   "source": [
    "1 + \"kişi\" #str ve int arasında + ile ne yapacağımız belli değil."
   ]
  },
  {
   "cell_type": "code",
   "execution_count": null,
   "id": "0a365ddc",
   "metadata": {},
   "outputs": [
    {
     "data": {
      "text/plain": [
       "2.23"
      ]
     },
     "execution_count": 44,
     "metadata": {},
     "output_type": "execute_result"
    }
   ],
   "source": [
    "#implicit\n",
    "1 + 1.23 #int + float = float"
   ]
  },
  {
   "cell_type": "code",
   "execution_count": null,
   "id": "434f17e7",
   "metadata": {},
   "outputs": [
    {
     "data": {
      "text/plain": [
       "'1 kişi'"
      ]
     },
     "execution_count": 47,
     "metadata": {},
     "output_type": "execute_result"
    }
   ],
   "source": [
    "#explicit\n",
    "str(1) + \" kişi\" #str + str = str dönsün str(1) ile tip dönüşümü"
   ]
  },
  {
   "cell_type": "code",
   "execution_count": null,
   "id": "860b15b7",
   "metadata": {},
   "outputs": [
    {
     "data": {
      "text/plain": [
       "{'A', 'B', 'I', 'K', 'L'}"
      ]
     },
     "execution_count": 50,
     "metadata": {},
     "output_type": "execute_result"
    }
   ],
   "source": [
    "#containerlarda tip dönüşümü\n",
    "#diğer containerin elemanı haline gelir.\n",
    "m = \"KALABALIK\" #str container\n",
    "\n",
    "#\n",
    "list(m)  #list tipine çevirdilk\n",
    "tuple(m) #tuple\n",
    "set(m)   #set"
   ]
  },
  {
   "cell_type": "markdown",
   "id": "601a3426",
   "metadata": {},
   "source": [
    "## Kullanıcıdan Bilgi Almak `input` kullanırız\n",
    "* Gelen değer str tipindedir."
   ]
  },
  {
   "cell_type": "code",
   "execution_count": null,
   "id": "3fe809c7",
   "metadata": {},
   "outputs": [
    {
     "name": "stdout",
     "output_type": "stream",
     "text": [
      "1020\n",
      "30.0\n"
     ]
    }
   ],
   "source": [
    "s1 = input(\"1. Sayıyı giriniz: \")\n",
    "s2 = input(\"2. Sayıyı giriniz: \")\n",
    "\n",
    "#\n",
    "print(s1 + s2) #1020 girişler str tipinden değerler birleşti.\n",
    "\n",
    "#tip dönüşümü\n",
    "s1 = float(s1)\n",
    "s2 = float(s2)\n",
    "\n",
    "print(s1 + s2)"
   ]
  },
  {
   "cell_type": "markdown",
   "id": "c756c8cc",
   "metadata": {},
   "source": [
    "## Değişkeni Memoryden Kaldırmak"
   ]
  },
  {
   "cell_type": "code",
   "execution_count": null,
   "id": "d488089a",
   "metadata": {},
   "outputs": [
    {
     "name": "stdout",
     "output_type": "stream",
     "text": [
      "100\n"
     ]
    }
   ],
   "source": [
    "a = 100\n",
    "\n",
    "print(a)"
   ]
  },
  {
   "cell_type": "code",
   "execution_count": null,
   "id": "7a569f70",
   "metadata": {},
   "outputs": [
    {
     "ename": "NameError",
     "evalue": "name 'a' is not defined",
     "output_type": "error",
     "traceback": [
      "\u001b[1;31m---------------------------------------------------------------------------\u001b[0m",
      "\u001b[1;31mNameError\u001b[0m                                 Traceback (most recent call last)",
      "Cell \u001b[1;32mIn[56], line 1\u001b[0m\n\u001b[1;32m----> 1\u001b[0m \u001b[38;5;28;01mdel\u001b[39;00m \u001b[43ma\u001b[49m \u001b[38;5;66;03m#a değişkeni siliniyor.\u001b[39;00m\n\u001b[0;32m      3\u001b[0m \u001b[38;5;28mprint\u001b[39m(a)\n",
      "\u001b[1;31mNameError\u001b[0m: name 'a' is not defined"
     ]
    }
   ],
   "source": [
    "del a #a değişkeni siliniyor.\n",
    "\n",
    "print(a) #a değişkeni artık yok."
   ]
  }
 ],
 "metadata": {
  "kernelspec": {
   "display_name": "Python 3",
   "language": "python",
   "name": "python3"
  },
  "language_info": {
   "codemirror_mode": {
    "name": "ipython",
    "version": 3
   },
   "file_extension": ".py",
   "mimetype": "text/x-python",
   "name": "python",
   "nbconvert_exporter": "python",
   "pygments_lexer": "ipython3",
   "version": "3.11.3"
  }
 },
 "nbformat": 4,
 "nbformat_minor": 5
}
