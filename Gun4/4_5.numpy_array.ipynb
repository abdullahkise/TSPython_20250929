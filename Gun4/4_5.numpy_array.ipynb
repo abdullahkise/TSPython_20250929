{
 "cells": [
  {
   "cell_type": "markdown",
   "id": "cfdb3e50",
   "metadata": {},
   "source": [
    "# Numpy Kütüphanesi\n",
    "![alt text](./NumpyGiris.png)"
   ]
  },
  {
   "cell_type": "code",
   "execution_count": 1,
   "id": "2c740e30",
   "metadata": {},
   "outputs": [],
   "source": [
    "import numpy as np"
   ]
  },
  {
   "cell_type": "code",
   "execution_count": 3,
   "id": "e3868a55",
   "metadata": {},
   "outputs": [
    {
     "data": {
      "text/plain": [
       "array([False,  True, False, False,  True])"
      ]
     },
     "execution_count": 3,
     "metadata": {},
     "output_type": "execute_result"
    }
   ],
   "source": [
    "#tek tip veri tutar\n",
    "np.array([0,1,0,0,1], dtype=bool)"
   ]
  },
  {
   "cell_type": "code",
   "execution_count": 5,
   "id": "0a184077",
   "metadata": {},
   "outputs": [
    {
     "data": {
      "text/plain": [
       "array([  6,   8, 460,  70])"
      ]
     },
     "execution_count": 5,
     "metadata": {},
     "output_type": "execute_result"
    }
   ],
   "source": [
    "a = np.array([1,3,455,65]) \n",
    "a + 5 #broadcast: belirtilen işlemi tüm elemanlara uygular."
   ]
  },
  {
   "cell_type": "code",
   "execution_count": 7,
   "id": "4d8dadc2",
   "metadata": {},
   "outputs": [
    {
     "data": {
      "text/plain": [
       "array([False, False, False, False])"
      ]
     },
     "execution_count": 7,
     "metadata": {},
     "output_type": "execute_result"
    }
   ],
   "source": [
    "a %2==0 #broadcast"
   ]
  },
  {
   "cell_type": "code",
   "execution_count": null,
   "id": "a9b9ba16",
   "metadata": {},
   "outputs": [
    {
     "data": {
      "text/plain": [
       "4"
      ]
     },
     "execution_count": 13,
     "metadata": {},
     "output_type": "execute_result"
    }
   ],
   "source": [
    "a.shape #(4,) 4 elemanlı bir boyutlu\n",
    "a.ndim  #1 boyur\n",
    "a.dtype #int32\n",
    "len(a) #elaman sayısı\n",
    "a.size #eleman sayısı"
   ]
  },
  {
   "cell_type": "code",
   "execution_count": null,
   "id": "1060f47c",
   "metadata": {},
   "outputs": [
    {
     "data": {
      "text/plain": [
       "(2, 3)"
      ]
     },
     "execution_count": 15,
     "metadata": {},
     "output_type": "execute_result"
    }
   ],
   "source": [
    "##iki boyutlu dizi\n",
    "ikiBoyutluDizi = np.array([\n",
    "                            (1,2,3),\n",
    "                            (4,5,6)\n",
    "                ])\n",
    "\n",
    "#\n",
    "ikiBoyutluDizi.shape #(2, 3) 2 satır 3 sunuluk bir dizi"
   ]
  },
  {
   "cell_type": "code",
   "execution_count": 20,
   "id": "daa8847c",
   "metadata": {},
   "outputs": [
    {
     "data": {
      "text/plain": [
       "3"
      ]
     },
     "execution_count": 20,
     "metadata": {},
     "output_type": "execute_result"
    }
   ],
   "source": [
    "#bir resim bu şekilde tutulabilir. EnxBoyxPikselRengler(RGB)\n",
    "ucBoyutluDizi = np.array([\n",
    "                            [(0,255,255) , (152,56,46), (255,255,78)],\n",
    "                            [(48,54,97) , (255,44,36), (44,89,23)],\n",
    "])\n",
    "\n",
    "ucBoyutluDizi.shape #(2, 3, 3)\n",
    "ucBoyutluDizi.ndim  #3 boyutlu"
   ]
  },
  {
   "cell_type": "code",
   "execution_count": 23,
   "id": "2246f6c9",
   "metadata": {},
   "outputs": [
    {
     "data": {
      "image/png": "[encoded data removed]",
      "text/plain": [
       "<Figure size 640x480 with 1 Axes>"
      ]
     },
     "metadata": {},
     "output_type": "display_data"
    }
   ],
   "source": [
    "import matplotlib.pyplot as plt\n",
    "\n",
    "plt.imshow(ucBoyutluDizi)\n",
    "plt.show()"
   ]
  },
  {
   "cell_type": "markdown",
   "id": "af65bd0f",
   "metadata": {},
   "source": [
    "## Dizi Elemanlarına Ulaşmak"
   ]
  },
  {
   "cell_type": "code",
   "execution_count": null,
   "id": "44ddf06d",
   "metadata": {},
   "outputs": [
    {
     "data": {
      "text/plain": [
       "array([[ 0,  1,  2,  3,  4,  5,  6,  7],\n",
       "       [ 8,  9, 10, 11, 12, 13, 14, 15],\n",
       "       [16, 17, 18, 19, 20, 21, 22, 23]])"
      ]
     },
     "execution_count": 31,
     "metadata": {},
     "output_type": "execute_result"
    }
   ],
   "source": [
    "#dizi elemanlarına ulaşmak\n",
    "dizi = np.arange(0,24).reshape(3,8) #0-24 arasındaki sayılardan 3x8'lik bir array\n",
    "dizi"
   ]
  },
  {
   "cell_type": "code",
   "execution_count": null,
   "id": "74157db9",
   "metadata": {},
   "outputs": [
    {
     "data": {
      "text/plain": [
       "array([10, 12])"
      ]
     },
     "execution_count": 36,
     "metadata": {},
     "output_type": "execute_result"
    }
   ],
   "source": [
    "#index\n",
    "dizi[2] #ilk boyutun 2. indexteki elemanlarını getir.\n",
    "dizi[1,4] #ilk boyutta 1.index ikinci boyutta 4. indexteki eleman gelsin.\n",
    "\n",
    "#slicer\n",
    "#ilk boyutta 1. indextekiler. ikinci boyutta 2-6 index arasını 2 adımda bir getir.\n",
    "dizi[1, 2:6:2]"
   ]
  },
  {
   "cell_type": "code",
   "execution_count": null,
   "id": "937a574b",
   "metadata": {},
   "outputs": [
    {
     "data": {
      "text/plain": [
       "array([15, 18, 21])"
      ]
     },
     "execution_count": 43,
     "metadata": {},
     "output_type": "execute_result"
    }
   ],
   "source": [
    "#boolen eleman ile.\n",
    "filtre_1 = dizi%3==0\n",
    "filtre_2 = dizi >13\n",
    "\n",
    "filtre = filtre_1 & filtre_2\n",
    "#np.logical_and(filtre_1,filtre_2) #&\n",
    "#np.logical_or   #|\n",
    "#np.local_not    #~\n",
    "\n",
    "dizi[filtre] #Karşılığı True olan elemanlar gelir."
   ]
  },
  {
   "cell_type": "markdown",
   "id": "cac39bb3",
   "metadata": {},
   "source": [
    "![alt text](Gun4/arrayElemanBulma.png)"
   ]
  }
 ],
 "metadata": {
  "kernelspec": {
   "display_name": "Python 3",
   "language": "python",
   "name": "python3"
  },
  "language_info": {
   "codemirror_mode": {
    "name": "ipython",
    "version": 3
   },
   "file_extension": ".py",
   "mimetype": "text/x-python",
   "name": "python",
   "nbconvert_exporter": "python",
   "pygments_lexer": "ipython3",
   "version": "3.10.11"
  }
 },
 "nbformat": 4,
 "nbformat_minor": 5
}
