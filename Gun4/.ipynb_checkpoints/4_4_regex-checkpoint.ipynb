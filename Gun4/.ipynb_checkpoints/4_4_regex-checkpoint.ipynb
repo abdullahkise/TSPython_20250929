{
 "cells": [
  {
   "cell_type": "markdown",
   "id": "e144350a",
   "metadata": {},
   "source": [
    "# Regex\n",
    "![alt text](RegexIleMetinselCalismalar.png)"
   ]
  },
  {
   "cell_type": "code",
   "execution_count": 1,
   "id": "d540b945",
   "metadata": {},
   "outputs": [],
   "source": [
    "import re"
   ]
  },
  {
   "cell_type": "code",
   "execution_count": 6,
   "id": "0a2ed907",
   "metadata": {},
   "outputs": [],
   "source": [
    "metin =\"\"\"\n",
    "Veri odaklı çalışmalarınızla alkalı sorularınızı abdullahkise@hotmail \n",
    "adresine gönderebilirsiniz\n",
    "\n",
    "Alternatif mail adresim abdullahkise@gmail.com.\n",
    "\"\"\"\n",
    "\n",
    "mail_paterni = r\"[\\w\\.-_]+@[\\w\\.-_]+\" #raw string olacak şekilde regex ifadesi yazdık"
   ]
  },
  {
   "cell_type": "code",
   "execution_count": 7,
   "id": "6d910b8f",
   "metadata": {},
   "outputs": [
    {
     "data": {
      "text/plain": [
       "['abdullahkise@hotmail', 'abdullahkise@gmail.com.']"
      ]
     },
     "execution_count": 7,
     "metadata": {},
     "output_type": "execute_result"
    }
   ],
   "source": [
    "re.findall(mail_paterni, metin)"
   ]
  },
  {
   "cell_type": "code",
   "execution_count": null,
   "id": "bf8fb4e4",
   "metadata": {},
   "outputs": [
    {
     "data": {
      "text/plain": [
       "['Ali', '33', 'Ankara', 'Yazılımcı']"
      ]
     },
     "execution_count": 15,
     "metadata": {},
     "output_type": "execute_result"
    }
   ],
   "source": [
    "metin = \"Ali,,,,33        Ankara-Yazılımcı\"\n",
    "\n",
    "#metin.split()\n",
    "re.split(r\"[\\s,-]+\", metin) #metni belirtilen regex ifadesine göre parçalar."
   ]
  },
  {
   "cell_type": "code",
   "execution_count": 18,
   "id": "2e856df3",
   "metadata": {},
   "outputs": [
    {
     "data": {
      "text/plain": [
       "['Ali', '33', 'Ankara', 'Yazılımcı']"
      ]
     },
     "execution_count": 18,
     "metadata": {},
     "output_type": "execute_result"
    }
   ],
   "source": [
    "#re.findall(r\"[a-zA-Z]+\",metin)\n",
    "re.findall(r\"\\w+\",metin)"
   ]
  }
 ],
 "metadata": {
  "kernelspec": {
   "display_name": "Python 3",
   "language": "python",
   "name": "python3"
  },
  "language_info": {
   "codemirror_mode": {
    "name": "ipython",
    "version": 3
   },
   "file_extension": ".py",
   "mimetype": "text/x-python",
   "name": "python",
   "nbconvert_exporter": "python",
   "pygments_lexer": "ipython3",
   "version": "3.11.3"
  }
 },
 "nbformat": 4,
 "nbformat_minor": 5
}
