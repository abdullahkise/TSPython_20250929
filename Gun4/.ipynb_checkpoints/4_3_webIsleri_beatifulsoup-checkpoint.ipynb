{
 "cells": [
  {
   "cell_type": "markdown",
   "id": "f73b5cd1",
   "metadata": {},
   "source": [
    "# Web İşleri\n",
    "![alt text](WebdenIcerikOkuma.png)"
   ]
  },
  {
   "cell_type": "code",
   "execution_count": 2,
   "id": "732f7811",
   "metadata": {},
   "outputs": [],
   "source": [
    "from urllib.request import urlretrieve, urlopen"
   ]
  },
  {
   "cell_type": "markdown",
   "id": "36e8ee41",
   "metadata": {},
   "source": [
    "## Webden Dosya İndirmek"
   ]
  },
  {
   "cell_type": "code",
   "execution_count": 3,
   "id": "c2668c0c",
   "metadata": {},
   "outputs": [
    {
     "data": {
      "text/plain": [
       "('./data/pylogo.png', <http.client.HTTPMessage at 0x20cd6cbe950>)"
      ]
     },
     "execution_count": 3,
     "metadata": {},
     "output_type": "execute_result"
    }
   ],
   "source": [
    "urlretrieve(url=\"https://www.python.org/static/img/python-logo.png\",filename=\"./data/pylogo.png\")"
   ]
  },
  {
   "cell_type": "markdown",
   "id": "f58e3a9c",
   "metadata": {},
   "source": [
    "## Web İçeriğini Açıp Okumak"
   ]
  },
  {
   "cell_type": "code",
   "execution_count": 4,
   "id": "fdf147cd",
   "metadata": {},
   "outputs": [
    {
     "name": "stdout",
     "output_type": "stream",
     "text": [
      "\n",
      "\n",
      "<!doctype html>\n",
      "<!--[if lt IE 7]>   <html class=\"no-js ie6 lt-ie7 lt-ie8 lt-ie9\">   <![endif]-->\n",
      "<!--[if IE 7]>      <html class=\"no-js ie7 lt-ie8 lt-ie9\">          <![endif]-->\n",
      "<!--[if IE 8]>      <html class=\"no-js ie8 lt-ie9\">                 <![endif]-->\n",
      "<!--[if gt IE 8]><!--><html class=\"no-js\" lang=\"en\" dir=\"ltr\">  <!--<![endif]-->\n",
      "\n",
      "<head>\n",
      "    <script defer data-domain=\"python.org\" src=\"https://analytics.python.org/js/script.outbound-links.js\"></script>\n",
      "\n",
      "    <meta charset=\"utf-8\">\n",
      "    <m\n"
     ]
    }
   ],
   "source": [
    "cevap = urlopen(\"https://www.python.org/jobs/\")\n",
    "\n",
    "#\n",
    "htmlMetin = cevap.read(500).decode() #read(100) 100 karakter okuduk\n",
    "print(htmlMetin)"
   ]
  },
  {
   "cell_type": "code",
   "execution_count": 5,
   "id": "0db120fd",
   "metadata": {},
   "outputs": [
    {
     "name": "stdout",
     "output_type": "stream",
     "text": [
      "Connection: close\n",
      "Content-Length: 71790\n",
      "via: 1.1 varnish, 1.1 varnish, 1.1 varnish\n",
      "content-type: text/html; charset=utf-8\n",
      "x-frame-options: SAMEORIGIN\n",
      "Accept-Ranges: bytes\n",
      "Age: 2297\n",
      "Date: Tue, 07 Oct 2025 11:33:39 GMT\n",
      "X-Served-By: cache-iad-kcgs7200031-IAD, cache-iad-kcgs7200098-IAD, cache-vie6357-VIE\n",
      "X-Cache: MISS, HIT, HIT\n",
      "X-Cache-Hits: 0, 2, 0\n",
      "X-Timer: S1759836819.249343,VS0,VE1\n",
      "Vary: Cookie\n",
      "Strict-Transport-Security: max-age=63072000; includeSubDomains; preload\n",
      "\n",
      "\n"
     ]
    }
   ],
   "source": [
    "print(cevap.info())"
   ]
  },
  {
   "cell_type": "markdown",
   "id": "21fdc075",
   "metadata": {},
   "source": [
    "## Request Kütüphanesi\n",
    "![alt text](get_post.png)"
   ]
  },
  {
   "cell_type": "code",
   "execution_count": 6,
   "id": "269c5ec2",
   "metadata": {},
   "outputs": [],
   "source": [
    "import requests"
   ]
  },
  {
   "cell_type": "markdown",
   "id": "7752a7a9",
   "metadata": {},
   "source": [
    "### get"
   ]
  },
  {
   "cell_type": "code",
   "execution_count": 7,
   "id": "6d878610",
   "metadata": {},
   "outputs": [
    {
     "data": {
      "text/plain": [
       "200"
      ]
     },
     "execution_count": 7,
     "metadata": {},
     "output_type": "execute_result"
    }
   ],
   "source": [
    "istek = requests.get(\"https://www.python.org/jobs/\")\n",
    "\n",
    "#\n",
    "istek.status_code #200 başarılı şekilde cevap geldi anlamına gelir."
   ]
  },
  {
   "cell_type": "code",
   "execution_count": 8,
   "id": "196df04a",
   "metadata": {},
   "outputs": [
    {
     "name": "stdout",
     "output_type": "stream",
     "text": [
      "\n",
      "\n",
      "<!doctype html>\n",
      "<!--[if lt IE 7]>   <html class=\"no-js ie6 lt-ie7 lt-ie8 lt-ie9\">   <![endif]-->\n",
      "<\n"
     ]
    }
   ],
   "source": [
    "html_metin = istek.content.decode()\n",
    "print(html_metin[:100]) #dönen html'in ilk 100 karakteri gelsin."
   ]
  },
  {
   "cell_type": "markdown",
   "id": "f0651d87",
   "metadata": {},
   "source": [
    "## post\n",
    "![alt text](PostOrnegi.png)"
   ]
  },
  {
   "cell_type": "markdown",
   "id": "36b7cb91",
   "metadata": {},
   "source": [
    "### BeautifulSoup\n",
    "![alt text](BeatifulSoup.png)"
   ]
  },
  {
   "cell_type": "code",
   "execution_count": 9,
   "id": "4d4290c1",
   "metadata": {},
   "outputs": [],
   "source": [
    "from bs4 import BeautifulSoup"
   ]
  },
  {
   "cell_type": "code",
   "execution_count": 10,
   "id": "d20ad173",
   "metadata": {},
   "outputs": [],
   "source": [
    "htmlMetin = urlopen(\"https://www.python.org/jobs/\").read().decode()\n",
    "#html metni siteden okuyalım."
   ]
  },
  {
   "cell_type": "code",
   "execution_count": 11,
   "id": "4716299b",
   "metadata": {},
   "outputs": [],
   "source": [
    "soup = BeautifulSoup(htmlMetin , \"html.parser\") \n",
    "#html metni python nesneleri parse ettik."
   ]
  },
  {
   "cell_type": "code",
   "execution_count": 12,
   "id": "193abab6",
   "metadata": {},
   "outputs": [
    {
     "data": {
      "text/plain": [
       "<a href=\"/jobs/7975/\">Associate Director, Senior Python Developer</a>"
      ]
     },
     "execution_count": 12,
     "metadata": {},
     "output_type": "execute_result"
    }
   ],
   "source": [
    "#. ile gidildiğin ilk bulduğunu getirir.\n",
    "soup.h1 #ilk bulduğu h1 etiketini getirdi.\n",
    "soup.title\n",
    "\n",
    "soup.a\n",
    "soup.body.section.a #ilk sectiondaki ilk a etiketini getirdi."
   ]
  },
  {
   "cell_type": "code",
   "execution_count": 13,
   "id": "1bb2983b",
   "metadata": {},
   "outputs": [
    {
     "name": "stdout",
     "output_type": "stream",
     "text": [
      "Associate Director, Senior Python Developer\n",
      "Boston, MA, USA\n",
      "Back end\n",
      "Cloud\n",
      "Developer / Engineer\n"
     ]
    }
   ],
   "source": [
    "#belirtilen etiketten tümünü getirelim.\n",
    "lst_a_etiketleri = soup.body.section.li(\"a\") #ilk sectionda bulunan tüm a etiketi\n",
    "\n",
    "#\n",
    "for aEtiketi in lst_a_etiketleri:\n",
    "    print(aEtiketi.string)"
   ]
  },
  {
   "cell_type": "code",
   "execution_count": 25,
   "id": "1bdecbdd",
   "metadata": {},
   "outputs": [
    {
     "name": "stdout",
     "output_type": "stream",
     "text": [
      "/jobs/7975/ ---> Associate Director, Senior Python Developer\n",
      "/jobs/7974/ ---> Senior Software Engineer (Python and Solidity)\n",
      "/jobs/7973/ ---> Senior Platform / Site Reliability Engineer (SRE) - FULLY REMOTE / EU / UK CANDIDATES / DUBAI\n",
      "/jobs/7972/ ---> Senior Python Software Engineer\n",
      "/jobs/7962/ ---> Senior Python Developer/DevOps Engineer\n",
      "/jobs/7960/ ---> Senior  Software Data  Engineer - Python\n",
      "/jobs/7959/ ---> Senior  Software Data  Engineer - Python\n",
      "/jobs/7957/ ---> Senior Software Engineer, Machine Learning\n",
      "/jobs/7956/ ---> Senior Software Engineer, Applied Research\n",
      "/jobs/7950/ ---> Senior Full Stack Engineer\n",
      "/jobs/7944/ ---> Senior Python Developer\n",
      "/jobs/7943/ ---> Senior Back-end Software Engineer\n",
      "/jobs/7942/ ---> Senior Python Developer\n",
      "/jobs/7939/ ---> Senior Software Developer (Python)\n"
     ]
    }
   ],
   "source": [
    "#<a href=\"/jobs/7975/\">Associate Director, Senior Python Developer</a>\n",
    "for aEtiketi in soup.body(\"a\"):\n",
    "    #print(type(aEtiketi.text))\n",
    "    if aEtiketi.text.lower().__contains__(\"senior\"):\n",
    "        #print(aEtiketi.text)\n",
    "        print(aEtiketi.get(\"href\"),\"--->\", aEtiketi.text)"
   ]
  },
  {
   "cell_type": "markdown",
   "id": "f62bd108",
   "metadata": {},
   "source": [
    "## Find ve Find_All\n",
    "![alt text](Bs4BirdenFazlaEtiket.png)"
   ]
  },
  {
   "cell_type": "code",
   "execution_count": 34,
   "id": "fbb537be",
   "metadata": {},
   "outputs": [
    {
     "data": {
      "text/plain": [
       "[<a href=\"/community/\">Community</a>]"
      ]
     },
     "execution_count": 34,
     "metadata": {},
     "output_type": "execute_result"
    }
   ],
   "source": [
    "#tüm a ekiketlerinden href attirbute /community/ lardan 1 tane gelsin.\n",
    "soup.find_all(\"a\"\n",
    "            ,attrs={\"href\":\"/community/\"}\n",
    "            ,limit=1)"
   ]
  }
 ],
 "metadata": {
  "kernelspec": {
   "display_name": "Python 3",
   "language": "python",
   "name": "python3"
  },
  "language_info": {
   "codemirror_mode": {
    "name": "ipython",
    "version": 3
   },
   "file_extension": ".py",
   "mimetype": "text/x-python",
   "name": "python",
   "nbconvert_exporter": "python",
   "pygments_lexer": "ipython3",
   "version": "3.11.3"
  }
 },
 "nbformat": 4,
 "nbformat_minor": 5
}
