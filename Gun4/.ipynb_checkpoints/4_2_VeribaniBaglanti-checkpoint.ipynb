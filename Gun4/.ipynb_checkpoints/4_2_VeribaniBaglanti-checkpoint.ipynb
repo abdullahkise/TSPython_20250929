{
 "cells": [
  {
   "cell_type": "markdown",
   "id": "ea5b2927",
   "metadata": {},
   "source": [
    "## Veritabanı Bağlantı\n",
    "![alt text](DBAPI.png)"
   ]
  },
  {
   "cell_type": "code",
   "execution_count": 2,
   "id": "06e3bb5b",
   "metadata": {},
   "outputs": [],
   "source": [
    "import sqlite3\n",
    "#sqlite3'e bağlanmak için kullanılan dbapi tabanlı kütüphanedir."
   ]
  },
  {
   "cell_type": "code",
   "execution_count": 4,
   "id": "d737d280",
   "metadata": {},
   "outputs": [],
   "source": [
    "#Data Source=c:\\mydb.db;Version=3;\n",
    "con = sqlite3.connect(\"./data/mesajlar.db\")\n",
    "\n",
    "#dir(con)"
   ]
  },
  {
   "cell_type": "code",
   "execution_count": 7,
   "id": "b634b325",
   "metadata": {},
   "outputs": [
    {
     "data": {
      "text/plain": [
       "<sqlite3.Cursor at 0x235d4701240>"
      ]
     },
     "execution_count": 7,
     "metadata": {},
     "output_type": "execute_result"
    }
   ],
   "source": [
    "con.execute(\"\"\"\n",
    "CREATE TABLE mesaj\n",
    "(\n",
    "    id int,\n",
    "    metin nvarchar(100)      \n",
    ")\n",
    "\"\"\")"
   ]
  },
  {
   "cell_type": "code",
   "execution_count": null,
   "id": "036ab159",
   "metadata": {},
   "outputs": [
    {
     "data": {
      "text/plain": [
       "<sqlite3.Cursor at 0x235d4702740>"
      ]
     },
     "execution_count": 6,
     "metadata": {},
     "output_type": "execute_result"
    }
   ],
   "source": [
    "#con.execute(\"DROP TABLE mesaj\")"
   ]
  },
  {
   "cell_type": "code",
   "execution_count": 9,
   "id": "1e1ff3c3",
   "metadata": {},
   "outputs": [],
   "source": [
    "con.execute(\"INSERT INTO mesaj(id,metin) VALUES(1,'mesaj var 1')\")\n",
    "con.execute(\"INSERT INTO mesaj(id,metin) VALUES(2,'mesaj var 2')\")\n",
    "con.execute(\"INSERT INTO mesaj(id,metin) VALUES(3,'mesaj var 3')\")\n",
    "con.execute(\"INSERT INTO mesaj(id,metin) VALUES(4,'mesaj var 4')\")\n",
    "\n",
    "#autocommit IUD işleri otomaitk kalıcı hale gelir.\n",
    "#bu özellik yoksa commit etmek gerek.\n",
    "con.commit() #commit etmezsek rollback eder."
   ]
  },
  {
   "cell_type": "code",
   "execution_count": 10,
   "id": "ecd13b5e",
   "metadata": {},
   "outputs": [],
   "source": [
    "#verileri okumak\n",
    "imlec = con.execute(\"SELECT * FROM mesaj LIMIT 3\") #sqlite ürününde limit 3, mssql'deki top 3'e denk gelir.\n",
    "\n",
    "#dir(imlec)"
   ]
  },
  {
   "cell_type": "code",
   "execution_count": null,
   "id": "12c02ec3",
   "metadata": {},
   "outputs": [
    {
     "data": {
      "text/plain": [
       "[(1, 'mesaj var 1'), (2, 'mesaj var 2'), (3, 'mesaj var 3')]"
      ]
     },
     "execution_count": 11,
     "metadata": {},
     "output_type": "execute_result"
    }
   ],
   "source": [
    "imlec.fetchall() #cursor nesnesi sona gelir. boş dönmeye başlar."
   ]
  },
  {
   "cell_type": "markdown",
   "id": "11d890b4",
   "metadata": {},
   "source": [
    "## MSSQL'e Bağlanmak\n",
    "![alt text](MSSQLveOracleBaglanti.png)"
   ]
  },
  {
   "cell_type": "code",
   "execution_count": 13,
   "id": "1df68f11",
   "metadata": {},
   "outputs": [
    {
     "data": {
      "text/plain": [
       "['SQL Server',\n",
       " 'SQL Server Native Client 11.0',\n",
       " 'Oracle in OraDB19Home1',\n",
       " 'ODBC Driver 17 for SQL Server',\n",
       " 'Microsoft Access Driver (*.mdb, *.accdb)',\n",
       " 'Microsoft Excel Driver (*.xls, *.xlsx, *.xlsm, *.xlsb)',\n",
       " 'Microsoft Access Text Driver (*.txt, *.csv)',\n",
       " 'Microsoft Access dBASE Driver (*.dbf, *.ndx, *.mdx)']"
      ]
     },
     "execution_count": 13,
     "metadata": {},
     "output_type": "execute_result"
    }
   ],
   "source": [
    "import pyodbc #mssql'e bağlanmak için kullanılır\n",
    "\n",
    "#\n",
    "pyodbc.drivers() #bilgisayardaki yüklü driverlar."
   ]
  },
  {
   "cell_type": "code",
   "execution_count": 18,
   "id": "fc4e114b",
   "metadata": {},
   "outputs": [
    {
     "data": {
      "text/plain": [
       "'Driver={ODBC Driver 17 for SQL Server};Server=localhost;Database=master;Trusted_Connection=yes;'"
      ]
     },
     "execution_count": 18,
     "metadata": {},
     "output_type": "execute_result"
    }
   ],
   "source": [
    "#Driver={ODBC Driver 17 for SQL Server};Server=myServerAddress;Database=myDataBase;UID=myUsername;PWD=myPassword;\n",
    "#Driver={ODBC Driver 17 for SQL Server};Server=myServerAddress;Database=myDataBase;Trusted_Connection=yes;\n",
    "config = {\n",
    "            \"driver\":\"{ODBC Driver 17 for SQL Server}\",\n",
    "            \"server\" : \"localhost\",\n",
    "            \"database\":\"master\"\n",
    "            }\n",
    "\n",
    "con_str=\"Driver={driver};Server={server};Database={database};Trusted_Connection=yes;\".format_map(config)\n",
    "con_str"
   ]
  },
  {
   "cell_type": "code",
   "execution_count": 19,
   "id": "3defe7d6",
   "metadata": {},
   "outputs": [],
   "source": [
    "con = pyodbc.connect(con_str)"
   ]
  },
  {
   "cell_type": "code",
   "execution_count": null,
   "id": "b8a31121",
   "metadata": {},
   "outputs": [
    {
     "name": "stdout",
     "output_type": "stream",
     "text": [
      "Microsoft SQL Server 2019 (RTM-CU32-GDR) (KB5065222) - 15.0.4445.1 (X64) \n",
      "\tAug 13 2025 11:07:18 \n",
      "\tCopyright (C) 2019 Microsoft Corporation\n",
      "\tEnterprise Edition (64-bit) on Windows 10 Pro 10.0 <X64> (Build 19045: ) (Hypervisor)\n",
      "\n"
     ]
    }
   ],
   "source": [
    "imlec = con.execute(\"SELECT @@version\") #sql versiyonunu döndürür\n",
    "\n",
    "#cursor ile okuyalım.\n",
    "sonuc = imlec.fetchone() #tek satır tek hücrelik veri için bir tuple döndür.\n",
    "\n",
    "#\n",
    "print(sonuc[0])"
   ]
  },
  {
   "cell_type": "markdown",
   "id": "23e8a997",
   "metadata": {},
   "source": [
    "## Pandas ile bağlanmak"
   ]
  },
  {
   "cell_type": "code",
   "execution_count": 24,
   "id": "bd6daea1",
   "metadata": {},
   "outputs": [],
   "source": [
    "import pandas as pd"
   ]
  },
  {
   "cell_type": "code",
   "execution_count": 28,
   "id": "548e1802",
   "metadata": {},
   "outputs": [
    {
     "name": "stderr",
     "output_type": "stream",
     "text": [
      "C:\\Users\\Abdullah\\AppData\\Local\\Temp\\ipykernel_7296\\2534923682.py:1: UserWarning: pandas only supports SQLAlchemy connectable (engine/connection) or database string URI or sqlite3 DBAPI2 connection. Other DBAPI2 objects are not tested. Please consider using SQLAlchemy.\n",
      "  df = pd.read_sql(\"\"\"\n"
     ]
    },
    {
     "data": {
      "text/html": [
       "<div>\n",
       "<style scoped>\n",
       "    .dataframe tbody tr th:only-of-type {\n",
       "        vertical-align: middle;\n",
       "    }\n",
       "\n",
       "    .dataframe tbody tr th {\n",
       "        vertical-align: top;\n",
       "    }\n",
       "\n",
       "    .dataframe thead th {\n",
       "        text-align: right;\n",
       "    }\n",
       "</style>\n",
       "<table border=\"1\" class=\"dataframe\">\n",
       "  <thead>\n",
       "    <tr style=\"text-align: right;\">\n",
       "      <th></th>\n",
       "      <th>count</th>\n",
       "      <th>mean</th>\n",
       "      <th>std</th>\n",
       "      <th>min</th>\n",
       "      <th>25%</th>\n",
       "      <th>50%</th>\n",
       "      <th>75%</th>\n",
       "      <th>max</th>\n",
       "    </tr>\n",
       "  </thead>\n",
       "  <tbody>\n",
       "    <tr>\n",
       "      <th>ListPrice</th>\n",
       "      <td>504.0</td>\n",
       "      <td>438.66625</td>\n",
       "      <td>773.602843</td>\n",
       "      <td>0.0</td>\n",
       "      <td>0.0</td>\n",
       "      <td>49.99</td>\n",
       "      <td>564.99</td>\n",
       "      <td>3578.27</td>\n",
       "    </tr>\n",
       "  </tbody>\n",
       "</table>\n",
       "</div>"
      ],
      "text/plain": [
       "           count       mean         std  min  25%    50%     75%      max\n",
       "ListPrice  504.0  438.66625  773.602843  0.0  0.0  49.99  564.99  3578.27"
      ]
     },
     "execution_count": 28,
     "metadata": {},
     "output_type": "execute_result"
    }
   ],
   "source": [
    "df = pd.read_sql(\"\"\"\n",
    "SELECT \n",
    "    Name, \n",
    "    Color, \n",
    "    ListPrice \n",
    "FROM AdventureWorks2012.Production.Product\"\"\", con) #pyodbc connection destekleniyor.\n",
    "\n",
    "#dataframe nesnesi olarak döner.\n",
    "df.head(3)\n",
    "df.tail(2)\n",
    "df.sample(3)\n",
    "df.describe()\n",
    "df.describe().T"
   ]
  },
  {
   "cell_type": "markdown",
   "id": "9a549027",
   "metadata": {},
   "source": [
    "## BONUS (pandas ile klasorlerdeki tüm csv'leri çekmek)"
   ]
  },
  {
   "cell_type": "code",
   "execution_count": 70,
   "id": "691f8273",
   "metadata": {},
   "outputs": [
    {
     "data": {
      "text/html": [
       "<div>\n",
       "<style scoped>\n",
       "    .dataframe tbody tr th:only-of-type {\n",
       "        vertical-align: middle;\n",
       "    }\n",
       "\n",
       "    .dataframe tbody tr th {\n",
       "        vertical-align: top;\n",
       "    }\n",
       "\n",
       "    .dataframe thead th {\n",
       "        text-align: right;\n",
       "    }\n",
       "</style>\n",
       "<table border=\"1\" class=\"dataframe\">\n",
       "  <thead>\n",
       "    <tr style=\"text-align: right;\">\n",
       "      <th></th>\n",
       "      <th>ProductID</th>\n",
       "      <th>Name</th>\n",
       "      <th>Color</th>\n",
       "      <th>ListPrice</th>\n",
       "    </tr>\n",
       "  </thead>\n",
       "  <tbody>\n",
       "    <tr>\n",
       "      <th>0</th>\n",
       "      <td>855</td>\n",
       "      <td>Men's Bib-Shorts, S</td>\n",
       "      <td>Multi</td>\n",
       "      <td>89.99</td>\n",
       "    </tr>\n",
       "    <tr>\n",
       "      <th>1</th>\n",
       "      <td>856</td>\n",
       "      <td>Men's Bib-Shorts, M</td>\n",
       "      <td>Multi</td>\n",
       "      <td>89.99</td>\n",
       "    </tr>\n",
       "    <tr>\n",
       "      <th>2</th>\n",
       "      <td>857</td>\n",
       "      <td>Men's Bib-Shorts, L</td>\n",
       "      <td>Multi</td>\n",
       "      <td>89.99</td>\n",
       "    </tr>\n",
       "  </tbody>\n",
       "</table>\n",
       "</div>"
      ],
      "text/plain": [
       "   ProductID                 Name  Color  ListPrice\n",
       "0        855  Men's Bib-Shorts, S  Multi      89.99\n",
       "1        856  Men's Bib-Shorts, M  Multi      89.99\n",
       "2        857  Men's Bib-Shorts, L  Multi      89.99"
      ]
     },
     "execution_count": 70,
     "metadata": {},
     "output_type": "execute_result"
    }
   ],
   "source": [
    "pd.read_csv(r\".\\data\\Urunler\\FirmaA\\Bib-Shorts.csv\",delimiter=\":\",encoding=\"utf-16\")"
   ]
  },
  {
   "cell_type": "code",
   "execution_count": 88,
   "id": "20957fc8",
   "metadata": {},
   "outputs": [
    {
     "data": {
      "text/plain": [
       "['./data/Urunler\\\\FirmaA\\\\Bib-Shorts.csv',\n",
       " './data/Urunler\\\\FirmaA\\\\Bike Racks.csv',\n",
       " './data/Urunler\\\\FirmaA\\\\Bike Stands.csv']"
      ]
     },
     "execution_count": 88,
     "metadata": {},
     "output_type": "execute_result"
    }
   ],
   "source": [
    "import glob\n",
    "\n",
    "#\n",
    "lst = glob.glob(\"./data/Urunler/*/*.csv\",recursive=True)\n",
    "lst[:3]"
   ]
  },
  {
   "cell_type": "code",
   "execution_count": 76,
   "id": "3dc6c8fe",
   "metadata": {},
   "outputs": [],
   "source": [
    "import glob\n",
    "import pandas as pd\n",
    "lst_df = []\n",
    "\n",
    "#for g in glob.glob(\"./data/Urunler/*/*.csv\",recursive=True):\n",
    "for firma in glob.glob(\"./data/Urunler/*\"):\n",
    "    #print(firma.split(\"\\\\\")[-1])\n",
    "    for urun in glob.glob(firma+\"/*.csv\"):\n",
    "        #print(\"-->\", urun)\n",
    "        lst_df.append(pd.read_csv(urun,delimiter=\":\",encoding=\"utf-16\"))\n",
    "    #print(\"=\"*100)\n",
    "\n",
    "#--------\n",
    "df = pd.concat(lst_df) #listedeki tüm dfleri üst üste birleştirir."
   ]
  },
  {
   "cell_type": "code",
   "execution_count": 91,
   "id": "9e8ca159",
   "metadata": {},
   "outputs": [
    {
     "data": {
      "text/html": [
       "<div>\n",
       "<style scoped>\n",
       "    .dataframe tbody tr th:only-of-type {\n",
       "        vertical-align: middle;\n",
       "    }\n",
       "\n",
       "    .dataframe tbody tr th {\n",
       "        vertical-align: top;\n",
       "    }\n",
       "\n",
       "    .dataframe thead th {\n",
       "        text-align: right;\n",
       "    }\n",
       "</style>\n",
       "<table border=\"1\" class=\"dataframe\">\n",
       "  <thead>\n",
       "    <tr style=\"text-align: right;\">\n",
       "      <th></th>\n",
       "      <th>ProductID</th>\n",
       "      <th>Name</th>\n",
       "      <th>Color</th>\n",
       "      <th>ListPrice</th>\n",
       "    </tr>\n",
       "  </thead>\n",
       "  <tbody>\n",
       "    <tr>\n",
       "      <th>0</th>\n",
       "      <td>855</td>\n",
       "      <td>Men's Bib-Shorts, S</td>\n",
       "      <td>Multi</td>\n",
       "      <td>89.990</td>\n",
       "    </tr>\n",
       "    <tr>\n",
       "      <th>1</th>\n",
       "      <td>856</td>\n",
       "      <td>Men's Bib-Shorts, M</td>\n",
       "      <td>Multi</td>\n",
       "      <td>89.990</td>\n",
       "    </tr>\n",
       "    <tr>\n",
       "      <th>2</th>\n",
       "      <td>857</td>\n",
       "      <td>Men's Bib-Shorts, L</td>\n",
       "      <td>Multi</td>\n",
       "      <td>89.990</td>\n",
       "    </tr>\n",
       "    <tr>\n",
       "      <th>0</th>\n",
       "      <td>876</td>\n",
       "      <td>Hitch Rack - 4-Bike</td>\n",
       "      <td>NaN</td>\n",
       "      <td>120.000</td>\n",
       "    </tr>\n",
       "    <tr>\n",
       "      <th>0</th>\n",
       "      <td>879</td>\n",
       "      <td>All-Purpose Bike Stand</td>\n",
       "      <td>NaN</td>\n",
       "      <td>159.000</td>\n",
       "    </tr>\n",
       "    <tr>\n",
       "      <th>...</th>\n",
       "      <td>...</td>\n",
       "      <td>...</td>\n",
       "      <td>...</td>\n",
       "      <td>...</td>\n",
       "    </tr>\n",
       "    <tr>\n",
       "      <th>9</th>\n",
       "      <td>825</td>\n",
       "      <td>HL Mountain Rear Wheel</td>\n",
       "      <td>Black</td>\n",
       "      <td>327.215</td>\n",
       "    </tr>\n",
       "    <tr>\n",
       "      <th>10</th>\n",
       "      <td>826</td>\n",
       "      <td>LL Road Rear Wheel</td>\n",
       "      <td>Black</td>\n",
       "      <td>112.565</td>\n",
       "    </tr>\n",
       "    <tr>\n",
       "      <th>11</th>\n",
       "      <td>827</td>\n",
       "      <td>ML Road Rear Wheel</td>\n",
       "      <td>Black</td>\n",
       "      <td>275.385</td>\n",
       "    </tr>\n",
       "    <tr>\n",
       "      <th>12</th>\n",
       "      <td>828</td>\n",
       "      <td>HL Road Rear Wheel</td>\n",
       "      <td>Black</td>\n",
       "      <td>357.060</td>\n",
       "    </tr>\n",
       "    <tr>\n",
       "      <th>13</th>\n",
       "      <td>829</td>\n",
       "      <td>Touring Rear Wheel</td>\n",
       "      <td>Black</td>\n",
       "      <td>245.010</td>\n",
       "    </tr>\n",
       "  </tbody>\n",
       "</table>\n",
       "<p>295 rows × 4 columns</p>\n",
       "</div>"
      ],
      "text/plain": [
       "    ProductID                    Name  Color  ListPrice\n",
       "0         855     Men's Bib-Shorts, S  Multi     89.990\n",
       "1         856     Men's Bib-Shorts, M  Multi     89.990\n",
       "2         857     Men's Bib-Shorts, L  Multi     89.990\n",
       "0         876     Hitch Rack - 4-Bike    NaN    120.000\n",
       "0         879  All-Purpose Bike Stand    NaN    159.000\n",
       "..        ...                     ...    ...        ...\n",
       "9         825  HL Mountain Rear Wheel  Black    327.215\n",
       "10        826      LL Road Rear Wheel  Black    112.565\n",
       "11        827      ML Road Rear Wheel  Black    275.385\n",
       "12        828      HL Road Rear Wheel  Black    357.060\n",
       "13        829      Touring Rear Wheel  Black    245.010\n",
       "\n",
       "[295 rows x 4 columns]"
      ]
     },
     "execution_count": 91,
     "metadata": {},
     "output_type": "execute_result"
    }
   ],
   "source": [
    "df"
   ]
  }
 ],
 "metadata": {
  "kernelspec": {
   "display_name": "Python 3",
   "language": "python",
   "name": "python3"
  },
  "language_info": {
   "codemirror_mode": {
    "name": "ipython",
    "version": 3
   },
   "file_extension": ".py",
   "mimetype": "text/x-python",
   "name": "python",
   "nbconvert_exporter": "python",
   "pygments_lexer": "ipython3",
   "version": "3.11.3"
  }
 },
 "nbformat": 4,
 "nbformat_minor": 5
}
