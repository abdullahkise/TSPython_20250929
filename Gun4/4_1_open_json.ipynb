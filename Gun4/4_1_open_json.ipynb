{
 "cells": [
  {
   "cell_type": "markdown",
   "id": "428d0c4f",
   "metadata": {},
   "source": [
    "## Ham Dosyalar Çalışmak\n",
    "![alt text](DosyalarlaCalismak.png)"
   ]
  },
  {
   "cell_type": "code",
   "execution_count": 34,
   "id": "94905008",
   "metadata": {},
   "outputs": [],
   "source": [
    "import os #işletim sistemi odaklı işler\n",
    "\n",
    "os.makedirs(\"./data\",exist_ok=True) #klasor oluştur varsa hata verme."
   ]
  },
  {
   "cell_type": "code",
   "execution_count": 35,
   "id": "5dcb9b22",
   "metadata": {},
   "outputs": [
    {
     "data": {
      "text/plain": [
       "'c:\\\\Users\\\\Abdullah\\\\Documents\\\\GitHub\\\\TSPython_20250929\\\\Gun4'"
      ]
     },
     "execution_count": 35,
     "metadata": {},
     "output_type": "execute_result"
    }
   ],
   "source": [
    "os.getcwd() #çalışma yolu\n",
    "#!cd"
   ]
  },
  {
   "cell_type": "code",
   "execution_count": 36,
   "id": "b064e216",
   "metadata": {},
   "outputs": [
    {
     "data": {
      "text/plain": [
       "True"
      ]
     },
     "execution_count": 36,
     "metadata": {},
     "output_type": "execute_result"
    }
   ],
   "source": [
    "os.listdir(\".\")  #hangi dosya ve klasorler var. listeler.\n",
    "\n",
    "\"data\" in os.listdir(\".\")  #True. içinde data isimli bir şey var mı?"
   ]
  },
  {
   "cell_type": "code",
   "execution_count": 37,
   "id": "e31e0355",
   "metadata": {},
   "outputs": [
    {
     "data": {
      "text/plain": [
       "False"
      ]
     },
     "execution_count": 37,
     "metadata": {},
     "output_type": "execute_result"
    }
   ],
   "source": [
    "os.path.exists(\"./data\") #True. Böyle bir yol var mı?\n",
    "\n",
    "#\n",
    "os.path.isdir(\"./data\") #True bu bir klasor mü?\n",
    "os.path.isfile(\"./data\") #False bu bi dosya mı?"
   ]
  },
  {
   "cell_type": "code",
   "execution_count": 38,
   "id": "e9dd4900",
   "metadata": {},
   "outputs": [
    {
     "name": "stdout",
     "output_type": "stream",
     "text": [
      "4_1_open_json.ipynb\n",
      "arrayElemanBulma.png\n",
      "BeatifulSoup.png\n",
      "BeautifulSoup parser.png\n",
      "Bs4BirdenFazlaEtiket.png\n",
      "DBAPI.png\n",
      "DosyalarlaCalismak.png\n",
      "FileArgumanModes.png\n"
     ]
    }
   ],
   "source": [
    "#os.walk() alternatif yöntemdir.\n",
    "for sc in os.scandir(\".\"):\n",
    "    #print(type(sc)) #nt.DirEntry\n",
    "    if sc.is_file():\n",
    "        print(sc.name) #o dosya ise adını yaza"
   ]
  },
  {
   "cell_type": "code",
   "execution_count": 39,
   "id": "a994ee83",
   "metadata": {},
   "outputs": [
    {
     "name": "stdout",
     "output_type": "stream",
     "text": [
      ".\\4_1_open_json.ipynb\n"
     ]
    }
   ],
   "source": [
    "import glob\n",
    "\n",
    "# glob fonksiyonu wildcardlar verebilmemizi sağlar.\n",
    "for file in glob.glob(\"./*.ipynb\"):\n",
    "    print(file)"
   ]
  },
  {
   "cell_type": "markdown",
   "id": "21c38879",
   "metadata": {},
   "source": [
    "## Dosyalara Yazmak"
   ]
  },
  {
   "cell_type": "code",
   "execution_count": 45,
   "id": "9e3ce335",
   "metadata": {},
   "outputs": [],
   "source": [
    "#dosyayı yazmak için açıyoru. mode=w olur.\n",
    "#filehandle oluşacak.\n",
    "fh = open(\"./data/notlarim.txt\",mode=\"w\", encoding=\"UTF-8\")"
   ]
  },
  {
   "cell_type": "code",
   "execution_count": 46,
   "id": "63752ae2",
   "metadata": {},
   "outputs": [
    {
     "data": {
      "text/plain": [
       "15"
      ]
     },
     "execution_count": 46,
     "metadata": {},
     "output_type": "execute_result"
    }
   ],
   "source": [
    "fh.write(\"Merhaba dünyalı\") #15 karakter yazmış."
   ]
  },
  {
   "cell_type": "code",
   "execution_count": 59,
   "id": "ea4a5bf9",
   "metadata": {},
   "outputs": [],
   "source": [
    "fh.writelines(\"Nasılsın. Nasıl gidiyor?\\n\") #sadece yazar"
   ]
  },
  {
   "cell_type": "code",
   "execution_count": 60,
   "id": "d45e74f2",
   "metadata": {},
   "outputs": [],
   "source": [
    "fh.close() #dosyayı kapatır. öncesinde bufferdakileri flush eder."
   ]
  },
  {
   "cell_type": "markdown",
   "id": "93d80e91",
   "metadata": {},
   "source": [
    "## with kullanımı ve üzerine ekleme işlemi"
   ]
  },
  {
   "cell_type": "code",
   "execution_count": 68,
   "id": "368ef3bb",
   "metadata": {},
   "outputs": [],
   "source": [
    "try:\n",
    "    fh = open(\"./data/notlarim.txt\", mode=\"a\",encoding=\"UTF-8\") #a ile append\n",
    "    fh.writelines(\"Ekleme modunda çalıştı.\\n\")\n",
    "finally:\n",
    "    fh.close()"
   ]
  },
  {
   "cell_type": "code",
   "execution_count": 72,
   "id": "bf137eb9",
   "metadata": {},
   "outputs": [],
   "source": [
    "#with blogu tamamlandığında dosya kapanır.\n",
    "with open(\"./data/notlarim.txt\", mode=\"a\",encoding=\"UTF-8\") as fh:\n",
    "    fh.write(\"with içinden yazdık\\n\")"
   ]
  },
  {
   "cell_type": "markdown",
   "id": "56bb4195",
   "metadata": {},
   "source": [
    "## Dosyadan Okuyalım"
   ]
  },
  {
   "cell_type": "code",
   "execution_count": 75,
   "id": "c90a4595",
   "metadata": {},
   "outputs": [],
   "source": [
    "fh = open(\"./data/notlarim.txt\", mode=\"r\", encoding=\"UTF-8\")\n",
    "\n",
    "#\n",
    "#fh.read() #düz metin olarak sonuna kadar okur.\n",
    "#fh.read() #imlec sona geldiği için kaldığı yerde başka karakter yok. boş döner"
   ]
  },
  {
   "cell_type": "code",
   "execution_count": 79,
   "id": "feb37daf",
   "metadata": {},
   "outputs": [],
   "source": [
    "fh.read(5) #5 karaketer oku\n",
    "\n",
    "#\n",
    "fh.tell() #11. karakterde\n",
    "\n",
    "#\n",
    "fh.seek(3) #3. karaktere atla\n",
    "\n",
    "#\n",
    "fh.readlines() #imlecin kaldığı yerden itibaren okur.\n",
    "#her satırı listeini bir elemanı olarak getir.\n",
    "\n",
    "fh.close()"
   ]
  },
  {
   "cell_type": "markdown",
   "id": "fffa3455",
   "metadata": {},
   "source": [
    "## Json veri ile çalışma"
   ]
  },
  {
   "cell_type": "code",
   "execution_count": 85,
   "id": "0d275b24",
   "metadata": {},
   "outputs": [],
   "source": [
    "#json metinleri dicte benzerdir.\n",
    "str_json = \"\"\"\n",
    "{\n",
    "    \"ad\":\"ali\",\n",
    "    \"yas\":33,\n",
    "    \"aktifMi\":true,\n",
    "    \"ehliyetler\":[\"A\",\"B\"]\n",
    "}\n",
    "\"\"\""
   ]
  },
  {
   "cell_type": "code",
   "execution_count": 82,
   "id": "4bc8c184",
   "metadata": {},
   "outputs": [],
   "source": [
    "import json\n",
    "\n",
    "#loads, json metnini python nesnesine çevirir\n",
    "# dump ise python nesnesini json metnine çevirir"
   ]
  },
  {
   "cell_type": "code",
   "execution_count": null,
   "id": "df9dfb70",
   "metadata": {},
   "outputs": [
    {
     "data": {
      "text/plain": [
       "dict"
      ]
     },
     "execution_count": 86,
     "metadata": {},
     "output_type": "execute_result"
    }
   ],
   "source": [
    "py_nesne = json.loads(str_json)\n",
    "type(py_nesne) #dict"
   ]
  },
  {
   "cell_type": "code",
   "execution_count": 88,
   "id": "42aa2e45",
   "metadata": {},
   "outputs": [
    {
     "data": {
      "text/plain": [
       "'B'"
      ]
     },
     "execution_count": 88,
     "metadata": {},
     "output_type": "execute_result"
    }
   ],
   "source": [
    "py_nesne[\"ehliyetler\"]\n",
    "py_nesne[\"ehliyetler\"][-1]"
   ]
  },
  {
   "cell_type": "code",
   "execution_count": null,
   "id": "b3d516fd",
   "metadata": {},
   "outputs": [
    {
     "data": {
      "text/plain": [
       "dict_keys(['ad', 'yas', 'aktifMi', 'ehliyetler', 'yeniKey'])"
      ]
     },
     "execution_count": 91,
     "metadata": {},
     "output_type": "execute_result"
    }
   ],
   "source": [
    "py_nesne #{'ad': 'ali', 'yas': 33, 'aktifMi': True, 'ehliyetler': ['A', 'B']}\n",
    "py_nesne[\"yeniKey\"] = \"Yeni Value\"\n",
    "\n",
    "py_nesne.keys()"
   ]
  },
  {
   "cell_type": "code",
   "execution_count": 94,
   "id": "282dfe3a",
   "metadata": {},
   "outputs": [
    {
     "data": {
      "text/plain": [
       "str"
      ]
     },
     "execution_count": 94,
     "metadata": {},
     "output_type": "execute_result"
    }
   ],
   "source": [
    "str_yeni_json = json.dumps(py_nesne)\n",
    "type(str_yeni_json)"
   ]
  }
 ],
 "metadata": {
  "kernelspec": {
   "display_name": "Python 3 (ipykernel)",
   "language": "python",
   "name": "python3"
  },
  "language_info": {
   "codemirror_mode": {
    "name": "ipython",
    "version": 3
   },
   "file_extension": ".py",
   "mimetype": "text/x-python",
   "name": "python",
   "nbconvert_exporter": "python",
   "pygments_lexer": "ipython3",
   "version": "3.11.3"
  }
 },
 "nbformat": 4,
 "nbformat_minor": 5
}
