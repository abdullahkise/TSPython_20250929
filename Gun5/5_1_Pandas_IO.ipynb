{
 "cells": [
  {
   "cell_type": "markdown",
   "id": "434c5a2f",
   "metadata": {},
   "source": [
    "# Pandas IO İşlemleri\n",
    "![alt text](Pandas_read_to.png)"
   ]
  },
  {
   "cell_type": "code",
   "execution_count": 248,
   "id": "7df62d23",
   "metadata": {},
   "outputs": [],
   "source": [
    "import numpy as np\n",
    "import pandas as pd"
   ]
  },
  {
   "cell_type": "code",
   "execution_count": 249,
   "id": "44d8f1b1",
   "metadata": {},
   "outputs": [],
   "source": [
    "#Yas kolonundan önce boşluk var.\n",
    "#Bir satır atlanmış.\n",
    "#Ayraçlar |\n",
    "#None değerler var. Ali de kilo eksik.\n",
    "#? işareti None yerine kullanışmış.\n",
    "veri = \"\"\"\n",
    "Ad|Soyad| Yas|Tarih|Kilo\n",
    "Abdullah|Kise|66|2025-05-06|70,5\n",
    "\n",
    "Ali|Uçan|22|2024-12-06|\n",
    "Veli|Kaçan|35|?|?\n",
    "\"\"\""
   ]
  },
  {
   "cell_type": "code",
   "execution_count": 250,
   "id": "63d0a830",
   "metadata": {},
   "outputs": [
    {
     "data": {
      "text/plain": [
       "'\\nAd|Soyad| Yas|Tarih|Kilo\\nAbdullah|Kise|66|2025-05-06|70,5\\n\\nAli|Uçan|22|2024-12-06|\\nVeli|Kaçan|35|?|?\\n'"
      ]
     },
     "execution_count": 250,
     "metadata": {},
     "output_type": "execute_result"
    }
   ],
   "source": [
    "import io\n",
    "\n",
    "vh = io.StringIO(veri)\n",
    "vh.read()"
   ]
  },
  {
   "cell_type": "code",
   "execution_count": 251,
   "id": "4d97c6c2",
   "metadata": {},
   "outputs": [
    {
     "name": "stderr",
     "output_type": "stream",
     "text": [
      "C:\\Users\\Abdullah\\AppData\\Local\\Temp\\ipykernel_15104\\3155534242.py:3: ParserWarning: Both a converter and dtype were specified for column Soyad - only the converter will be used.\n",
      "  df = pd.read_csv(io.StringIO(veri),sep=\"|\"\n"
     ]
    },
    {
     "data": {
      "text/html": [
       "<div>\n",
       "<style scoped>\n",
       "    .dataframe tbody tr th:only-of-type {\n",
       "        vertical-align: middle;\n",
       "    }\n",
       "\n",
       "    .dataframe tbody tr th {\n",
       "        vertical-align: top;\n",
       "    }\n",
       "\n",
       "    .dataframe thead th {\n",
       "        text-align: right;\n",
       "    }\n",
       "</style>\n",
       "<table border=\"1\" class=\"dataframe\">\n",
       "  <thead>\n",
       "    <tr style=\"text-align: right;\">\n",
       "      <th></th>\n",
       "      <th>Ad</th>\n",
       "      <th>Soyad</th>\n",
       "      <th>Yas</th>\n",
       "      <th>Tarih</th>\n",
       "      <th>Kilo</th>\n",
       "    </tr>\n",
       "  </thead>\n",
       "  <tbody>\n",
       "    <tr>\n",
       "      <th>0</th>\n",
       "      <td>Abdullah</td>\n",
       "      <td>Kis***</td>\n",
       "      <td>66</td>\n",
       "      <td>2025-05-06</td>\n",
       "      <td>70.5</td>\n",
       "    </tr>\n",
       "    <tr>\n",
       "      <th>1</th>\n",
       "      <td>Ali</td>\n",
       "      <td>Uça***</td>\n",
       "      <td>22</td>\n",
       "      <td>2024-12-06</td>\n",
       "      <td>NaN</td>\n",
       "    </tr>\n",
       "    <tr>\n",
       "      <th>2</th>\n",
       "      <td>Veli</td>\n",
       "      <td>Kaç***</td>\n",
       "      <td>35</td>\n",
       "      <td>NaT</td>\n",
       "      <td>NaN</td>\n",
       "    </tr>\n",
       "  </tbody>\n",
       "</table>\n",
       "</div>"
      ],
      "text/plain": [
       "         Ad   Soyad   Yas      Tarih  Kilo\n",
       "0  Abdullah  Kis***    66 2025-05-06  70.5\n",
       "1       Ali  Uça***    22 2024-12-06   NaN\n",
       "2      Veli  Kaç***    35        NaT   NaN"
      ]
     },
     "execution_count": 251,
     "metadata": {},
     "output_type": "execute_result"
    }
   ],
   "source": [
    "#248.0+ bytes\n",
    "# 215.0+ bytes\n",
    "df = pd.read_csv(io.StringIO(veri),sep=\"|\"\n",
    "                 #,usecols=[\"Ad\",\"Soyad\"]\n",
    "                 ,na_values=\"?\"\n",
    "                 ,parse_dates=[\"Tarih\"] #bu kolon tarih tipine çevrilir\n",
    "                 ,decimal=\",\" #kilo alanında ondalık kısım için , kullanıldı.\n",
    "                 ,dtype={\n",
    "                         \"Ad\":str,\n",
    "                         \"Soyad\":str,\n",
    "                         \" Yas\":np.uint8,\n",
    "                         \"Kilo\":np.float32\n",
    "                        }\n",
    "                ,converters={\n",
    "                             #\"Soyad\":str.upper #bizden bir fonksiyon bekler. kolona uygular.\n",
    "                             #\"Soyad\":lambda v:f\"{v :.3s}***\"\n",
    "                             \"Soyad\":\"{:.3s}***\".format\n",
    "                            }\n",
    "                )\n",
    "#\n",
    "#df.info()\n",
    "df"
   ]
  },
  {
   "cell_type": "markdown",
   "id": "3269fcf5",
   "metadata": {},
   "source": [
    "### CSV Dosyası Olarak Kaydedelim"
   ]
  },
  {
   "cell_type": "code",
   "execution_count": 252,
   "id": "dccbd7a8",
   "metadata": {},
   "outputs": [],
   "source": [
    "import os\n",
    "\n",
    "os.makedirs(\"databases\",exist_ok=True)"
   ]
  },
  {
   "cell_type": "code",
   "execution_count": 253,
   "id": "7b8665a4",
   "metadata": {},
   "outputs": [
    {
     "data": {
      "text/plain": [
       "['kisiler.csv', 'kisiler.xlsx']"
      ]
     },
     "execution_count": 253,
     "metadata": {},
     "output_type": "execute_result"
    }
   ],
   "source": [
    "df.to_csv(\"./databases/kisiler.csv\",index=False)\n",
    "\n",
    "#\n",
    "os.listdir(\"./databases\")"
   ]
  },
  {
   "cell_type": "code",
   "execution_count": 254,
   "id": "30571afe",
   "metadata": {},
   "outputs": [
    {
     "name": "stdout",
     "output_type": "stream",
     "text": [
      "c:\\Users\\Abdullah\\Documents\\GitHub\\TSPython_20250929\\Gun5\n"
     ]
    }
   ],
   "source": [
    "!cd"
   ]
  },
  {
   "cell_type": "markdown",
   "id": "9af8ea38",
   "metadata": {},
   "source": [
    "## Excel Olarak Kaydedelim"
   ]
  },
  {
   "cell_type": "code",
   "execution_count": 255,
   "id": "e8a3b43e",
   "metadata": {},
   "outputs": [],
   "source": [
    "df.to_excel(\"./databases/kisiler.xlsx\",sheet_name=\"Personeller\",index=False)"
   ]
  },
  {
   "cell_type": "markdown",
   "id": "ac89c645",
   "metadata": {},
   "source": [
    "## Excelden Okuyalım"
   ]
  },
  {
   "cell_type": "code",
   "execution_count": 256,
   "id": "f756b9a2",
   "metadata": {},
   "outputs": [
    {
     "data": {
      "text/html": [
       "<div>\n",
       "<style scoped>\n",
       "    .dataframe tbody tr th:only-of-type {\n",
       "        vertical-align: middle;\n",
       "    }\n",
       "\n",
       "    .dataframe tbody tr th {\n",
       "        vertical-align: top;\n",
       "    }\n",
       "\n",
       "    .dataframe thead th {\n",
       "        text-align: right;\n",
       "    }\n",
       "</style>\n",
       "<table border=\"1\" class=\"dataframe\">\n",
       "  <thead>\n",
       "    <tr style=\"text-align: right;\">\n",
       "      <th></th>\n",
       "      <th>Ad</th>\n",
       "      <th>Soyad</th>\n",
       "      <th>Yas</th>\n",
       "      <th>Tarih</th>\n",
       "      <th>Kilo</th>\n",
       "    </tr>\n",
       "  </thead>\n",
       "  <tbody>\n",
       "    <tr>\n",
       "      <th>0</th>\n",
       "      <td>Abdullah</td>\n",
       "      <td>Kis***</td>\n",
       "      <td>66</td>\n",
       "      <td>2025-05-06</td>\n",
       "      <td>70.5</td>\n",
       "    </tr>\n",
       "    <tr>\n",
       "      <th>1</th>\n",
       "      <td>Ali</td>\n",
       "      <td>Uça***</td>\n",
       "      <td>22</td>\n",
       "      <td>2024-12-06</td>\n",
       "      <td>NaN</td>\n",
       "    </tr>\n",
       "    <tr>\n",
       "      <th>2</th>\n",
       "      <td>Veli</td>\n",
       "      <td>Kaç***</td>\n",
       "      <td>35</td>\n",
       "      <td>NaT</td>\n",
       "      <td>NaN</td>\n",
       "    </tr>\n",
       "  </tbody>\n",
       "</table>\n",
       "</div>"
      ],
      "text/plain": [
       "         Ad   Soyad   Yas      Tarih  Kilo\n",
       "0  Abdullah  Kis***    66 2025-05-06  70.5\n",
       "1       Ali  Uça***    22 2024-12-06   NaN\n",
       "2      Veli  Kaç***    35        NaT   NaN"
      ]
     },
     "execution_count": 256,
     "metadata": {},
     "output_type": "execute_result"
    }
   ],
   "source": [
    "df_dict = pd.read_excel(\"./databases/kisiler.xlsx\"\n",
    "              #,sheet_name=\"Personeller\"\n",
    "              ,sheet_name=None #bütün sayfaları getirir.\n",
    "              ,\n",
    "              )\n",
    "\n",
    "df_dict\n",
    "\n",
    "#\n",
    "df_dict[\"Personeller\"] #df olarak elde ettik."
   ]
  },
  {
   "cell_type": "code",
   "execution_count": 257,
   "id": "42229a9e",
   "metadata": {},
   "outputs": [
    {
     "data": {
      "text/html": [
       "<div>\n",
       "<style scoped>\n",
       "    .dataframe tbody tr th:only-of-type {\n",
       "        vertical-align: middle;\n",
       "    }\n",
       "\n",
       "    .dataframe tbody tr th {\n",
       "        vertical-align: top;\n",
       "    }\n",
       "\n",
       "    .dataframe thead th {\n",
       "        text-align: right;\n",
       "    }\n",
       "</style>\n",
       "<table border=\"1\" class=\"dataframe\">\n",
       "  <thead>\n",
       "    <tr style=\"text-align: right;\">\n",
       "      <th></th>\n",
       "      <th>Ad</th>\n",
       "      <th>Soyad</th>\n",
       "      <th>Yas</th>\n",
       "      <th>Tarih</th>\n",
       "      <th>Kilo</th>\n",
       "    </tr>\n",
       "  </thead>\n",
       "  <tbody>\n",
       "    <tr>\n",
       "      <th>0</th>\n",
       "      <td>Abdullah</td>\n",
       "      <td>Kis***</td>\n",
       "      <td>66</td>\n",
       "      <td>2025-05-06</td>\n",
       "      <td>70.5</td>\n",
       "    </tr>\n",
       "    <tr>\n",
       "      <th>1</th>\n",
       "      <td>Ali</td>\n",
       "      <td>Uça***</td>\n",
       "      <td>22</td>\n",
       "      <td>2024-12-06</td>\n",
       "      <td>NaN</td>\n",
       "    </tr>\n",
       "    <tr>\n",
       "      <th>2</th>\n",
       "      <td>Veli</td>\n",
       "      <td>Kaç***</td>\n",
       "      <td>35</td>\n",
       "      <td>NaT</td>\n",
       "      <td>NaN</td>\n",
       "    </tr>\n",
       "  </tbody>\n",
       "</table>\n",
       "</div>"
      ],
      "text/plain": [
       "         Ad   Soyad   Yas      Tarih  Kilo\n",
       "0  Abdullah  Kis***    66 2025-05-06  70.5\n",
       "1       Ali  Uça***    22 2024-12-06   NaN\n",
       "2      Veli  Kaç***    35        NaT   NaN"
      ]
     },
     "execution_count": 257,
     "metadata": {},
     "output_type": "execute_result"
    }
   ],
   "source": [
    "#import re\n",
    "#dilersek regex ile arama yapabiliriz. belli bir kalıptaki keye ulaşabiliri.\n",
    "\n",
    "#\n",
    "key = [k for k in df_dict.keys() if k.__contains__(\"Per\")][0]\n",
    "\n",
    "df_dict.get(key)"
   ]
  },
  {
   "cell_type": "markdown",
   "id": "6fbb9f06",
   "metadata": {},
   "source": [
    "## RDMBS (MSSQL, Oracle) Bağlanma\n",
    "![alt text](RDBMSe_Baglanti.png)"
   ]
  },
  {
   "cell_type": "markdown",
   "id": "aed7353a",
   "metadata": {},
   "source": [
    "#### Bağlantı Cümleleri:\n",
    "* **DBAPI**:\n",
    "  * `Driver={ODBC Driver 17 for SQL Server};Server=localhost;Database=AdventureWorks2012;Trusted_Connection=yes;`\n",
    "* **SqlAlchemy (URI)**:\n",
    "  * `mssql+pyodbc://localhost/AdventureWorks2012?driver=ODBC Driver 17 for SQL Server`\n"
   ]
  },
  {
   "cell_type": "markdown",
   "id": "83809bb7",
   "metadata": {},
   "source": [
    "### DBAPI"
   ]
  },
  {
   "cell_type": "code",
   "execution_count": 258,
   "id": "199a5fac",
   "metadata": {},
   "outputs": [
    {
     "name": "stderr",
     "output_type": "stream",
     "text": [
      "C:\\Users\\Abdullah\\AppData\\Local\\Temp\\ipykernel_15104\\271073095.py:7: UserWarning: pandas only supports SQLAlchemy connectable (engine/connection) or database string URI or sqlite3 DBAPI2 connection. Other DBAPI2 objects are not tested. Please consider using SQLAlchemy.\n",
      "  df = pd.read_sql_query(\"SELECT Name,Color,ListPrice FROM Production.Product\",con)\n"
     ]
    },
    {
     "data": {
      "text/html": [
       "<div>\n",
       "<style scoped>\n",
       "    .dataframe tbody tr th:only-of-type {\n",
       "        vertical-align: middle;\n",
       "    }\n",
       "\n",
       "    .dataframe tbody tr th {\n",
       "        vertical-align: top;\n",
       "    }\n",
       "\n",
       "    .dataframe thead th {\n",
       "        text-align: right;\n",
       "    }\n",
       "</style>\n",
       "<table border=\"1\" class=\"dataframe\">\n",
       "  <thead>\n",
       "    <tr style=\"text-align: right;\">\n",
       "      <th></th>\n",
       "      <th>Name</th>\n",
       "      <th>Color</th>\n",
       "      <th>ListPrice</th>\n",
       "    </tr>\n",
       "  </thead>\n",
       "  <tbody>\n",
       "    <tr>\n",
       "      <th>0</th>\n",
       "      <td>Adjustable Race</td>\n",
       "      <td>None</td>\n",
       "      <td>0.0</td>\n",
       "    </tr>\n",
       "    <tr>\n",
       "      <th>1</th>\n",
       "      <td>Bearing Ball</td>\n",
       "      <td>None</td>\n",
       "      <td>0.0</td>\n",
       "    </tr>\n",
       "    <tr>\n",
       "      <th>2</th>\n",
       "      <td>BB Ball Bearing</td>\n",
       "      <td>None</td>\n",
       "      <td>0.0</td>\n",
       "    </tr>\n",
       "    <tr>\n",
       "      <th>3</th>\n",
       "      <td>Headset Ball Bearings</td>\n",
       "      <td>None</td>\n",
       "      <td>0.0</td>\n",
       "    </tr>\n",
       "    <tr>\n",
       "      <th>4</th>\n",
       "      <td>Blade</td>\n",
       "      <td>None</td>\n",
       "      <td>0.0</td>\n",
       "    </tr>\n",
       "  </tbody>\n",
       "</table>\n",
       "</div>"
      ],
      "text/plain": [
       "                    Name Color  ListPrice\n",
       "0        Adjustable Race  None        0.0\n",
       "1           Bearing Ball  None        0.0\n",
       "2        BB Ball Bearing  None        0.0\n",
       "3  Headset Ball Bearings  None        0.0\n",
       "4                  Blade  None        0.0"
      ]
     },
     "execution_count": 258,
     "metadata": {},
     "output_type": "execute_result"
    }
   ],
   "source": [
    "#Driver={ODBC Driver 17 for SQL Server};Server=localhost;Database=AdventureWorks2012;Trusted_Connection=yes;\n",
    "import pyodbc\n",
    "\n",
    "con = pyodbc.connect(\"Driver={ODBC Driver 17 for SQL Server};Server=localhost;Database=AdventureWorks2012;Trusted_Connection=yes;\")\n",
    "\n",
    "#\n",
    "df = pd.read_sql_query(\"SELECT Name,Color,ListPrice FROM Production.Product\",con)\n",
    "df.head()"
   ]
  },
  {
   "cell_type": "markdown",
   "id": "fc5d4b27",
   "metadata": {},
   "source": [
    "### SqlAlchemy"
   ]
  },
  {
   "cell_type": "code",
   "execution_count": 259,
   "id": "88782a80",
   "metadata": {},
   "outputs": [
    {
     "data": {
      "text/html": [
       "<div>\n",
       "<style scoped>\n",
       "    .dataframe tbody tr th:only-of-type {\n",
       "        vertical-align: middle;\n",
       "    }\n",
       "\n",
       "    .dataframe tbody tr th {\n",
       "        vertical-align: top;\n",
       "    }\n",
       "\n",
       "    .dataframe thead th {\n",
       "        text-align: right;\n",
       "    }\n",
       "</style>\n",
       "<table border=\"1\" class=\"dataframe\">\n",
       "  <thead>\n",
       "    <tr style=\"text-align: right;\">\n",
       "      <th></th>\n",
       "      <th>Name</th>\n",
       "      <th>Color</th>\n",
       "      <th>ListPrice</th>\n",
       "    </tr>\n",
       "  </thead>\n",
       "  <tbody>\n",
       "    <tr>\n",
       "      <th>0</th>\n",
       "      <td>Adjustable Race</td>\n",
       "      <td>None</td>\n",
       "      <td>0.0</td>\n",
       "    </tr>\n",
       "    <tr>\n",
       "      <th>1</th>\n",
       "      <td>Bearing Ball</td>\n",
       "      <td>None</td>\n",
       "      <td>0.0</td>\n",
       "    </tr>\n",
       "    <tr>\n",
       "      <th>2</th>\n",
       "      <td>BB Ball Bearing</td>\n",
       "      <td>None</td>\n",
       "      <td>0.0</td>\n",
       "    </tr>\n",
       "    <tr>\n",
       "      <th>3</th>\n",
       "      <td>Headset Ball Bearings</td>\n",
       "      <td>None</td>\n",
       "      <td>0.0</td>\n",
       "    </tr>\n",
       "    <tr>\n",
       "      <th>4</th>\n",
       "      <td>Blade</td>\n",
       "      <td>None</td>\n",
       "      <td>0.0</td>\n",
       "    </tr>\n",
       "  </tbody>\n",
       "</table>\n",
       "</div>"
      ],
      "text/plain": [
       "                    Name Color  ListPrice\n",
       "0        Adjustable Race  None        0.0\n",
       "1           Bearing Ball  None        0.0\n",
       "2        BB Ball Bearing  None        0.0\n",
       "3  Headset Ball Bearings  None        0.0\n",
       "4                  Blade  None        0.0"
      ]
     },
     "execution_count": 259,
     "metadata": {},
     "output_type": "execute_result"
    }
   ],
   "source": [
    "#mssql+pyodbc://localhost/AdventureWorks2012?driver=ODBC Driver 17 for SQL Server\n",
    "import sqlalchemy as sqla\n",
    "\n",
    "eng = sqla.create_engine(\"mssql+pyodbc://localhost/AdventureWorks2012?driver=ODBC Driver 17 for SQL Server\")\n",
    "\n",
    "#\n",
    "df = pd.read_sql(\"SELECT Name,Color,ListPrice FROM Production.Product\",eng)\n",
    "#df = pd.read_sql_table(table_name=\"Product\", schema=\"Production\",con=eng)\n",
    "df.head()"
   ]
  },
  {
   "cell_type": "markdown",
   "id": "957298c9",
   "metadata": {},
   "source": [
    "## Webden Bir Okuma"
   ]
  },
  {
   "cell_type": "code",
   "execution_count": 275,
   "id": "9262cfff",
   "metadata": {},
   "outputs": [],
   "source": [
    "import numpy as np\n",
    "import pandas as pd"
   ]
  },
  {
   "cell_type": "code",
   "execution_count": null,
   "id": "4ad22a4e",
   "metadata": {},
   "outputs": [
    {
     "data": {
      "text/plain": [
       "list"
      ]
     },
     "execution_count": 260,
     "metadata": {},
     "output_type": "execute_result"
    }
   ],
   "source": [
    "df = pd.read_html(\"https://www.bddk.org.tr/BultenHaftalik/\"\n",
    "                 ,decimal=\",\"\n",
    "                 ,converters={\n",
    "                                \"TP\":lambda tp: tp.replace(\".\",\"\").replace(\",\",\".\"),\n",
    "                                \"YP\":lambda tp: tp.replace(\".\",\"\").replace(\",\",\".\")\n",
    "                 })\n",
    "df.__len__() #6 tane tablo okumuş\n",
    "\n",
    "type(df) #list"
   ]
  },
  {
   "cell_type": "code",
   "execution_count": 261,
   "id": "f4e5f38d",
   "metadata": {},
   "outputs": [
    {
     "data": {
      "text/plain": [
       "'Sektör / Krediler ( 3 Ekim 2025 Cuma  ) (Milyon TL)'"
      ]
     },
     "execution_count": 261,
     "metadata": {},
     "output_type": "execute_result"
    }
   ],
   "source": [
    "dff = df[3].copy()\n",
    "dff.columns[1]"
   ]
  },
  {
   "cell_type": "code",
   "execution_count": 262,
   "id": "f4c44392",
   "metadata": {},
   "outputs": [
    {
     "data": {
      "text/plain": [
       "'3 Ekim 2025'"
      ]
     },
     "execution_count": 262,
     "metadata": {},
     "output_type": "execute_result"
    }
   ],
   "source": [
    "import re\n",
    "\n",
    "#'Sektör / Krediler ( 3 Ekim 2025 Cuma  ) (Milyon TL)'\n",
    "#yukarıdkai metinde geçen tarihi regex ile bulalım.\n",
    "tarih = re.findall(r\"\\d{1,2}\\s\\w+\\s\\d{4}\",dff.columns[1])[0]\n",
    "tarih"
   ]
  },
  {
   "cell_type": "code",
   "execution_count": 263,
   "id": "33db96a1",
   "metadata": {},
   "outputs": [],
   "source": [
    "dff = dff.iloc[:,1:4].copy()"
   ]
  },
  {
   "cell_type": "code",
   "execution_count": 264,
   "id": "22d187f2",
   "metadata": {},
   "outputs": [],
   "source": [
    "#float(\"13.111.956,82\".replace(\".\",\"\").replace(\",\",\".\"))"
   ]
  },
  {
   "cell_type": "code",
   "execution_count": 274,
   "id": "52d67a33",
   "metadata": {},
   "outputs": [
    {
     "data": {
      "text/plain": [
       "Krediler    Toplam Krediler (2+10)Tüketici Kredileri ve Bi...\n",
       "TP                                                50690617.05\n",
       "YP                                                20330221.26\n",
       "dtype: object"
      ]
     },
     "execution_count": 274,
     "metadata": {},
     "output_type": "execute_result"
    }
   ],
   "source": [
    "dff.columns = [\"Krediler\",\"TP\",\"YP\"]\n",
    "dff = dff.astype({\n",
    "            \"TP\":np.float64,\n",
    "            \"YP\":np.float64\n",
    "})\n",
    "\n",
    "#dff.info()\n",
    "dff.TP.sum()\n",
    "dff.sum()"
   ]
  },
  {
   "cell_type": "code",
   "execution_count": null,
   "id": "a1e456a1",
   "metadata": {},
   "outputs": [],
   "source": [
    "dff.to_excel(\"Krediler.xlsx\",sheet_name=tarih,index=False)"
   ]
  }
 ],
 "metadata": {
  "kernelspec": {
   "display_name": "Python 3",
   "language": "python",
   "name": "python3"
  },
  "language_info": {
   "codemirror_mode": {
    "name": "ipython",
    "version": 3
   },
   "file_extension": ".py",
   "mimetype": "text/x-python",
   "name": "python",
   "nbconvert_exporter": "python",
   "pygments_lexer": "ipython3",
   "version": "3.10.11"
  }
 },
 "nbformat": 4,
 "nbformat_minor": 5
}
