{
 "cells": [
  {
   "cell_type": "markdown",
   "id": "cce1bd00",
   "metadata": {},
   "source": [
    "# Str Tipi ve Bazı Str Fonksiyonları"
   ]
  },
  {
   "cell_type": "code",
   "execution_count": 8,
   "id": "16fa8ee4",
   "metadata": {},
   "outputs": [
    {
     "name": "stdout",
     "output_type": "stream",
     "text": [
      "str(object='') -> str\n",
      "str(bytes_or_buffer[, encoding[, errors]]) -> str\n",
      "\n",
      "Create a new string object from the given object. If encoding or\n",
      "errors is specified, then the object must expose a data buffer\n",
      "that will be decoded using the given encoding and error handler.\n",
      "Otherwise, returns the result of object.__str__() (if defined)\n",
      "or repr(object).\n",
      "encoding defaults to sys.getdefaultencoding().\n",
      "errors defaults to 'strict'.\n"
     ]
    }
   ],
   "source": [
    "#dir(str)\n",
    "#help(str.upper)\n",
    "\n",
    "#\n",
    "print(str.__doc__) #bu attributede help bilgisi mevcut.\n",
    "\n",
    "#str.__doc__ += \"Bu bizden olsun.!!!!\" #sistem nesnelerinde engellenmiş fakat kend nesnelerimizde helpi genişletmek için kullanabiliriz"
   ]
  },
  {
   "cell_type": "code",
   "execution_count": 13,
   "id": "f9117f23",
   "metadata": {},
   "outputs": [],
   "source": [
    "metin = \"meRhAbA DünYaLI_\" #sonunda alt çizgi"
   ]
  },
  {
   "cell_type": "markdown",
   "id": "58104eeb",
   "metadata": {},
   "source": [
    "## Ptyhon Fonksiyon Kullanım Şekilleri"
   ]
  },
  {
   "cell_type": "code",
   "execution_count": null,
   "id": "c2cd5497",
   "metadata": {},
   "outputs": [
    {
     "data": {
      "text/plain": [
       "'Merhaba Dünyali'"
      ]
     },
     "execution_count": 9,
     "metadata": {},
     "output_type": "execute_result"
    }
   ],
   "source": [
    "#1.tip üzerinden fonksiyona erişirim\n",
    "str.title(metin)\n",
    "\n",
    "#2.deger üzerinden\n",
    "metin.title()\n",
    "\n",
    "#3.magic method\n",
    "len(metin) #conainerin eleman sayısını verir.\n",
    "metin.__len__() #aynı sonuc.\n",
    "\n",
    "#4.arka arkaya\n",
    "str.title(metin).rstrip(\"_\") #rstrip belirtilen karakteri sağdan temizleriz. varsayılan boşluktır.\n",
    "\n",
    "#5. iç içe\n",
    "str.title(metin.strip(\"_\"))"
   ]
  },
  {
   "cell_type": "markdown",
   "id": "227c4dbd",
   "metadata": {},
   "source": [
    "## Bazı Fonksiyonlar"
   ]
  },
  {
   "cell_type": "code",
   "execution_count": 14,
   "id": "cbaea82f",
   "metadata": {},
   "outputs": [],
   "source": [
    "metin = \"meRhAbA DünYaLI_\" #sonunda alt çizgi"
   ]
  },
  {
   "cell_type": "code",
   "execution_count": 21,
   "id": "351d886f",
   "metadata": {},
   "outputs": [
    {
     "data": {
      "text/plain": [
       "'A'"
      ]
     },
     "execution_count": 21,
     "metadata": {},
     "output_type": "execute_result"
    }
   ],
   "source": [
    "metin.upper() #Büyük harfle yazar.\n",
    "metin.count(\"A\") #\n",
    "\n",
    "#tüm a'ları sayıdıralım.\n",
    "metin.lower().count(\"a\")\n",
    "\n",
    "#\n",
    "metin.find(\"A\") #en yakın kaçıncı indexte\n",
    "metin[4]"
   ]
  },
  {
   "cell_type": "code",
   "execution_count": 22,
   "id": "36164507",
   "metadata": {},
   "outputs": [
    {
     "data": {
      "text/plain": [
       "2"
      ]
     },
     "execution_count": 22,
     "metadata": {},
     "output_type": "execute_result"
    }
   ],
   "source": [
    "#soru:\n",
    "#metin değişkenin kaç kelime var?\n",
    "metin.strip(\"_\").strip().count(\" \")+1"
   ]
  },
  {
   "cell_type": "code",
   "execution_count": 23,
   "id": "a042d7f3",
   "metadata": {},
   "outputs": [
    {
     "data": {
      "text/plain": [
       "'XRhAbA DünYaLI_'"
      ]
     },
     "execution_count": 23,
     "metadata": {},
     "output_type": "execute_result"
    }
   ],
   "source": [
    "metin.replace(\"me\", \"X\") #me ifadesini X ile değiştirir"
   ]
  },
  {
   "cell_type": "code",
   "execution_count": 25,
   "id": "0df142df",
   "metadata": {},
   "outputs": [
    {
     "data": {
      "text/plain": [
       "['meRhAbA', 'DünYaLI_']"
      ]
     },
     "execution_count": 25,
     "metadata": {},
     "output_type": "execute_result"
    }
   ],
   "source": [
    "#split\n",
    "metin.split() #paraçaları liste olarak getirir. belirtilen karaktere göre parçalar. varsayılan whitespace"
   ]
  },
  {
   "cell_type": "code",
   "execution_count": 28,
   "id": "0bc02546",
   "metadata": {},
   "outputs": [
    {
     "data": {
      "text/plain": [
       "['', 'İstanbul 34', 'Ankara 06', 'Bolu 8', '']"
      ]
     },
     "execution_count": 28,
     "metadata": {},
     "output_type": "execute_result"
    }
   ],
   "source": [
    "#soru:\n",
    "degisken = \"\"\"\n",
    "İstanbul 34\n",
    "Ankara 06\n",
    "Bolu 8\n",
    "\"\"\"\n",
    "\n",
    "degisken.split() #tüm whitespaceleri ayraç olarak alır.\n",
    "degisken.split(\"\\n\") #\\n ile newline demiş olduk"
   ]
  },
  {
   "cell_type": "code",
   "execution_count": 33,
   "id": "bce06f4d",
   "metadata": {},
   "outputs": [
    {
     "data": {
      "text/plain": [
       "'17'"
      ]
     },
     "execution_count": 33,
     "metadata": {},
     "output_type": "execute_result"
    }
   ],
   "source": [
    "#soru:\n",
    "degisken = \"Şirin Balık 17\"\n",
    "degisken.split()[2:]\n",
    "degisken.split()[-1]"
   ]
  },
  {
   "cell_type": "code",
   "execution_count": 36,
   "id": "603dc59e",
   "metadata": {},
   "outputs": [
    {
     "data": {
      "text/plain": [
       "'Ali;Uçan;33'"
      ]
     },
     "execution_count": 36,
     "metadata": {},
     "output_type": "execute_result"
    }
   ],
   "source": [
    "#join\n",
    "lst = [\"Ali\",\"Uçan\",str(33)]\n",
    "\n",
    "#\n",
    "\";\".join(lst) #group elemanlarının str tipinden olması gerekir.\n",
    "\n",
    "#\n",
    "str.join(\";\",lst)"
   ]
  },
  {
   "cell_type": "markdown",
   "id": "4452374f",
   "metadata": {},
   "source": [
    "## is... fonksiyonları"
   ]
  },
  {
   "cell_type": "code",
   "execution_count": 41,
   "id": "61f915df",
   "metadata": {},
   "outputs": [
    {
     "data": {
      "text/plain": [
       "True"
      ]
     },
     "execution_count": 41,
     "metadata": {},
     "output_type": "execute_result"
    }
   ],
   "source": [
    "\"2025\".isnumeric() #karaketler sayı mı? unicode vs. tanır. True\n",
    "\n",
    "#\n",
    "\"metin\".isalpha() #True #alfabedeki harflerden mi oluşmuş?\n",
    "\"pil@v\".isalpha() #False @ işareti mevcut\n",
    "\n",
    "#\n",
    "\"one2\".isalnum() #sayı veya alfabedeki harflerden mi oluşu? True"
   ]
  },
  {
   "cell_type": "markdown",
   "id": "d5880c79",
   "metadata": {},
   "source": [
    "## Kaçış Karakterleri ve Özel Karakter\n",
    "* \\ kaçış karakteridir. sağındaki karakteri olduğu gibi yazmaızı sağlar.\n",
    "* \\n, \\r, \\t vs. bunlar özel ifadelerdir."
   ]
  },
  {
   "cell_type": "code",
   "execution_count": 48,
   "id": "f2eddebb",
   "metadata": {},
   "outputs": [
    {
     "name": "stdout",
     "output_type": "stream",
     "text": [
      "İstanbul'ın taşı toprağı altındır.\n",
      "Bir şair der ki: \"İstanbul'ın taşı toprağı altındır.\" der. \n",
      "Bir şair der ki: \"İstanbul'ın taşı toprağı altındır.\" der. \n",
      "C:\n",
      "albur\n",
      "C:\\nalbur\n",
      "C:\\nalbur\n",
      "'C:\\nalbur'\n"
     ]
    }
   ],
   "source": [
    "print(\"İstanbul'ın taşı toprağı altındır.\") #tek ve çift tırnakları makul şekide kullanırız.\n",
    "#print(\"Bir şair der ki: \"İstanbul'ın taşı toprağı altındır.\" der. \") #her iki tırnağa da ihtiyaç\n",
    "\n",
    "print(\"\"\"Bir şair der ki: \"İstanbul'ın taşı toprağı altındır.\" der. \"\"\") #1. \"\"\" ile\n",
    "print(\"Bir şair der ki: \\\"İstanbul'ın taşı toprağı altındır.\\\" der. \")    #\\\" ile  tırnağı olduğu gibi yaz.\n",
    "\n",
    "#\n",
    "print(\"C:\\nalbur\") #\\n yüzünden alt satıra geçer\n",
    "\n",
    "#\n",
    "print(\"C:\\\\nalbur\")\n",
    "\n",
    "#raw string\n",
    "print(r\"C:\\nalbur\") #metni olduğu kullanmamızı sağlar.\n",
    "\n",
    "#repr ile raw string üretebiliriz.\n",
    "yol = \"C:\\nalbur\"\n",
    "print(repr(yol))"
   ]
  },
  {
   "cell_type": "markdown",
   "id": "e2b0dc9a",
   "metadata": {},
   "source": [
    "## ASCII, UNICODE"
   ]
  },
  {
   "cell_type": "code",
   "execution_count": null,
   "id": "66522be6",
   "metadata": {},
   "outputs": [
    {
     "data": {
      "text/plain": [
       "13"
      ]
     },
     "execution_count": 56,
     "metadata": {},
     "output_type": "execute_result"
    }
   ],
   "source": [
    "#ASCII karşılığnı\n",
    "ord(\"A\") #65 \n",
    "ord(\"a\") #97\n",
    "\n",
    "ord(\"Q\") #81\n",
    "#\n",
    "\n",
    "ord(\" \")  #32\n",
    "ord(\"\\n\") #10\n",
    "ord(\"\\t\") #9\n",
    "ord(\"\\r\") #13\n",
    "\n",
    "#karekter karşlığ\n",
    "chr(65) #A"
   ]
  },
  {
   "cell_type": "code",
   "execution_count": 62,
   "id": "b7987411",
   "metadata": {},
   "outputs": [
    {
     "data": {
      "text/plain": [
       "'那'"
      ]
     },
     "execution_count": 62,
     "metadata": {},
     "output_type": "execute_result"
    }
   ],
   "source": [
    "#unicode\n",
    "\n",
    "ord(\"那\") #37027\n",
    "chr(37027)"
   ]
  },
  {
   "cell_type": "code",
   "execution_count": 64,
   "id": "a5d329b4",
   "metadata": {},
   "outputs": [
    {
     "data": {
      "text/plain": [
       "'😊'"
      ]
     },
     "execution_count": 64,
     "metadata": {},
     "output_type": "execute_result"
    }
   ],
   "source": [
    "\"\\u221E\" #∞\n",
    "\"\\U0001F60A\""
   ]
  },
  {
   "cell_type": "markdown",
   "id": "748b02f6",
   "metadata": {},
   "source": [
    "## Encode ve Decode"
   ]
  },
  {
   "cell_type": "code",
   "execution_count": null,
   "id": "536a843e",
   "metadata": {},
   "outputs": [
    {
     "name": "stdout",
     "output_type": "stream",
     "text": [
      "b'krl deerli bir i'\n"
     ]
    },
    {
     "data": {
      "text/plain": [
       "'krl deerli bir i'"
      ]
     },
     "execution_count": 69,
     "metadata": {},
     "output_type": "execute_result"
    }
   ],
   "source": [
    "\"\"\"\n",
    "windows-1252\n",
    "windows-1254\n",
    "\n",
    "ASCII\n",
    "ANSI\n",
    "UTF-8\n",
    "\"\"\"\n",
    "\n",
    "metin = \"kârlı değerli bir iş\"\n",
    "\n",
    "#encode\n",
    "byteStr = metin.encode(\"ASCII\",\"ignore\") #varsayılan UTF-8 #hata varsa ignore edebilir.\n",
    "print(byteStr)\n",
    "\n",
    "#decode\n",
    "byteStr.decode() #varsayılan UTF-8. Karakterleri destekleyen encoding yazıp, nasıl yazılırsa öyle okunması gerekir."
   ]
  },
  {
   "cell_type": "code",
   "execution_count": 73,
   "id": "a5681e95",
   "metadata": {},
   "outputs": [
    {
     "data": {
      "text/plain": [
       "'Merhaba'"
      ]
     },
     "execution_count": 73,
     "metadata": {},
     "output_type": "execute_result"
    }
   ],
   "source": [
    "#translate\n",
    "metin = \"M!r?@b@\"\n",
    "\n",
    "tbl = str.maketrans(\"!?@\",\"eha\") #! yerine e, ? yerine h, @ yerine a dedik {33: 101, 63: 114, 64: 97}\n",
    "metin.translate(tbl)"
   ]
  },
  {
   "cell_type": "markdown",
   "id": "77a3a15d",
   "metadata": {},
   "source": [
    "## Str Formatlama Yöntemleri"
   ]
  },
  {
   "cell_type": "markdown",
   "id": "0429e5fd",
   "metadata": {},
   "source": [
    "### % ve () ile formatlama (Eski)"
   ]
  },
  {
   "cell_type": "code",
   "execution_count": null,
   "id": "a1f9f009",
   "metadata": {},
   "outputs": [
    {
     "name": "stdout",
     "output_type": "stream",
     "text": [
      "Adı:Ali Maaşı:13221.5\n"
     ]
    }
   ],
   "source": [
    "ad = \"Ali\"\n",
    "maas = 13221.49\n",
    "\n",
    "\"\"\"\n",
    "    % yer tutucudur.\n",
    "    s: str\n",
    "    d: int\n",
    "    f: float\n",
    "    .1f: ondalık kısım 1 basamak\n",
    "\"\"\"\n",
    "#\n",
    "fmt = \"Adı:%s Maaşı:%.1f\"%(ad,maas) #sırayla % kısılarına değer atanıyor.\n",
    "\n",
    "print(fmt)"
   ]
  },
  {
   "cell_type": "markdown",
   "id": "a0de3749",
   "metadata": {},
   "source": [
    "### `str.format` fonksiyonu"
   ]
  },
  {
   "cell_type": "code",
   "execution_count": null,
   "id": "6f073c57",
   "metadata": {},
   "outputs": [
    {
     "name": "stdout",
     "output_type": "stream",
     "text": [
      "Ad: Ahm*** Maaş: //////////////////////13,213.5\n"
     ]
    }
   ],
   "source": [
    "ad = \"Ahmet\"\n",
    "maas = 13213.49\n",
    "\n",
    "\"\"\"\n",
    "    {} placeholder\n",
    "\n",
    "    tip:\n",
    "    s : str\n",
    "    f : float\n",
    "    d : int\n",
    "\n",
    "    {siraNumarasiVeyaAlias : formatString}\n",
    "\n",
    "    formatString\n",
    "    -----------------\n",
    "    kalanBoslugaNeBassin | hiza (><^)| hizalamaAlani | binlikAyraç (_,) | .ondalıkKısmı | Tip\n",
    "\n",
    "\"\"\"\n",
    "#\n",
    "fmt = \"Ad: {} Maaş: {}\".format(ad,maas)   #sıra 0'dan başlar.\n",
    "fmt = \"Ad: {1} Maaş: {0}\".format(maas,ad) #sıra numarası verilebilir.\n",
    "fmt = \"Ad: {adi} Maaş: {maasi}\".format(adi = ad,maasi = maas) #alias verilebilir.\n",
    "\n",
    "#\n",
    "fmt = \"Ad: {:.3s} Maaş: {:.1f}\".format(ad,maas) #.1f ile ondalık kısım 1 basamaklı olsun. .3s ile 3 karakter\n",
    "fmt = \"Ad: {:.3s} Maaş: {:,.1f}\".format(ad,maas) #,.1f ile , sayesinde binlik ayraç , oldu.\n",
    "fmt = \"Ad: {:.3s}*** Maaş: {:>30,.1f}\".format(ad,maas) #>30 ile 30 karakter içinde sağa hizala\n",
    "fmt = \"Ad: {:.3s}*** Maaş: {:/>30,.1f}\".format(ad,maas) #/>30 kalan boşluğa / bas.\n",
    "\n",
    "\n",
    "print(fmt)"
   ]
  },
  {
   "cell_type": "markdown",
   "id": "311022c3",
   "metadata": {},
   "source": [
    "## f string ile formatlama\n",
    "* metnin başındaki f ile {} içerisinde değişken/değer kullanabiliriz"
   ]
  },
  {
   "cell_type": "code",
   "execution_count": 89,
   "id": "11b307a3",
   "metadata": {},
   "outputs": [
    {
     "name": "stdout",
     "output_type": "stream",
     "text": [
      "Ad: Ahmet\n",
      "Maaş: //////////////////////13,213.5\n"
     ]
    }
   ],
   "source": [
    "fmt = f\"Ad: {ad}\\nMaaş: {maas:/>30,.1f}\"\n",
    "\n",
    "print(fmt)"
   ]
  },
  {
   "cell_type": "markdown",
   "id": "e34402fa",
   "metadata": {},
   "source": [
    "## `format_map` ile key:value şeklinde metin formatlamak"
   ]
  },
  {
   "cell_type": "code",
   "execution_count": 90,
   "id": "08ae292a",
   "metadata": {},
   "outputs": [
    {
     "name": "stdout",
     "output_type": "stream",
     "text": [
      "Sayın Mehmet Sistemimize üye oldunuz. Bakiyeniz 2131.49 TL'dir.\n"
     ]
    }
   ],
   "source": [
    "musteri = {\n",
    "            \"adi\":\"Mehmet\",\n",
    "            \"bakiyesi\":2131.49\n",
    "}\n",
    "\n",
    "# #key gördüğü yere value basar\n",
    "fmt = \"Sayın {adi} Sistemimize üye oldunuz. Bakiyeniz {bakiyesi} TL'dir.\".format_map(musteri)\n",
    "\n",
    "print(fmt)"
   ]
  },
  {
   "cell_type": "code",
   "execution_count": 100,
   "id": "22ad8d32",
   "metadata": {},
   "outputs": [
    {
     "name": "stdout",
     "output_type": "stream",
     "text": [
      "------------------------------\n",
      "-------Merhaba Dünyalı--------\n",
      "------------------------------\n"
     ]
    }
   ],
   "source": [
    "#soru:\n",
    "#kullanıcıdan bir metin alalım.\n",
    "#kullanıcıdan aldığımız karakter sayısı kadar alana bu metni basalım.\n",
    "#kalan boşluklar - olsun.\n",
    "\n",
    "\"\"\"\n",
    "-------------------------\n",
    "-----Merhaba dünyalı-----\n",
    "-------------------------\n",
    "\"\"\"\n",
    "#input, f string {:/>30,.1f} gibi.\n",
    "\n",
    "metin = \"Merhaba Dünyalı\" #input(\"Metni giriniz\")\n",
    "karakterSayisi = \"30\" #input(\"Karakter sayısını giriniz:\") #gelen str tipinden\n",
    "karakterSayisi = int(karakterSayisi)#tip dönüşümü\n",
    "\n",
    "##1.\n",
    "print(\"-\"*karakterSayisi)\n",
    "print(metin.center(karakterSayisi,\"-\"))\n",
    "print(\"-\"*karakterSayisi)"
   ]
  },
  {
   "cell_type": "code",
   "execution_count": null,
   "id": "a1419784",
   "metadata": {},
   "outputs": [
    {
     "name": "stdout",
     "output_type": "stream",
     "text": [
      "-------Merhaba Dünyalı--------\n"
     ]
    }
   ],
   "source": [
    "#2.f string\n",
    "#fmt = f\"{metin :-^30}\"\n",
    "fmt = f\"{metin :-^{karakterSayisi}}\" #değerleri {} içerisinde yazılmalıdır. {:{}} kullandık.\n",
    "\n",
    "#\n",
    "print(fmt)"
   ]
  },
  {
   "cell_type": "code",
   "execution_count": 94,
   "id": "7d764b9f",
   "metadata": {},
   "outputs": [
    {
     "data": {
      "text/plain": [
       "'------------------------------'"
      ]
     },
     "execution_count": 94,
     "metadata": {},
     "output_type": "execute_result"
    }
   ],
   "source": [
    "#[1,2,3] + 10 #hata\n",
    "[1,2,3] * 5 #* işlemi elemanı tekrarlar.\n",
    "\n",
    "#\n",
    "\"-\"*30"
   ]
  },
  {
   "cell_type": "code",
   "execution_count": null,
   "id": "bacf9f23",
   "metadata": {},
   "outputs": [],
   "source": [
    "#soru: Yazar kasa fişi oluşturalım\n",
    "'''\n",
    "==============================\n",
    "Item                     Price\n",
    "------------------------------\n",
    "Elma                      0.40\n",
    "Karpus                    0.50\n",
    "Üzüm                      1.92\n",
    "Havuc (16 oz.)            8.00\n",
    "Prasa (4 lbs.)           12.00\n",
    "==============================\n",
    "'''"
   ]
  }
 ],
 "metadata": {
  "kernelspec": {
   "display_name": "Python 3",
   "language": "python",
   "name": "python3"
  },
  "language_info": {
   "codemirror_mode": {
    "name": "ipython",
    "version": 3
   },
   "file_extension": ".py",
   "mimetype": "text/x-python",
   "name": "python",
   "nbconvert_exporter": "python",
   "pygments_lexer": "ipython3",
   "version": "3.11.3"
  }
 },
 "nbformat": 4,
 "nbformat_minor": 5
}
