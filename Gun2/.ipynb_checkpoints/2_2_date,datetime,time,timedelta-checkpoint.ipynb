{
 "cells": [
  {
   "cell_type": "markdown",
   "id": "d833dec7",
   "metadata": {},
   "source": [
    "# Tarih tiplerib\n",
    "**datetime** kütüphanesi içerisinde tarih odaklı tipler mevcut\n",
    "1. **date**: sadece tarih\n",
    "2. **datetime**: tarih zaman\n",
    "3. **time** : sadece zaman\n",
    "4. **timedelta**: iki tari/zaman arasındaki farkı temsil eder"
   ]
  },
  {
   "cell_type": "code",
   "execution_count": 1,
   "id": "89ff0b0f",
   "metadata": {},
   "outputs": [],
   "source": [
    "# import datetime\n",
    "# datetime.date\n",
    "# datetime.datetime"
   ]
  },
  {
   "cell_type": "code",
   "execution_count": 2,
   "id": "3685379b",
   "metadata": {},
   "outputs": [],
   "source": [
    "from datetime import date, datetime, time, timedelta"
   ]
  },
  {
   "cell_type": "markdown",
   "id": "aa731878",
   "metadata": {},
   "source": [
    "## date"
   ]
  },
  {
   "cell_type": "code",
   "execution_count": 3,
   "id": "62a677f0",
   "metadata": {},
   "outputs": [
    {
     "name": "stdout",
     "output_type": "stream",
     "text": [
      "2025-09-30\n"
     ]
    },
    {
     "data": {
      "text/plain": [
       "30"
      ]
     },
     "execution_count": 3,
     "metadata": {},
     "output_type": "execute_result"
    }
   ],
   "source": [
    "dir(date)\n",
    "\n",
    "#\n",
    "bugun = date.today() #datetime.date(2025, 9, 30) tipi döner.\n",
    "print(bugun) #__str__ print ile yazıldığında ekran ne görüneceğini tarih eden magic methoddur.\n",
    "#varsayılan ISO yani yıl-ay-gün şeklinde yazılır.\n",
    "\n",
    "#\n",
    "bugun.year\n",
    "bugun.month\n",
    "bugun.day"
   ]
  },
  {
   "cell_type": "markdown",
   "id": "e28ff756",
   "metadata": {},
   "source": [
    "## datetime"
   ]
  },
  {
   "cell_type": "code",
   "execution_count": 4,
   "id": "9803312f",
   "metadata": {},
   "outputs": [
    {
     "data": {
      "text/plain": [
       "16"
      ]
     },
     "execution_count": 4,
     "metadata": {},
     "output_type": "execute_result"
    }
   ],
   "source": [
    "dir(datetime)\n",
    "\n",
    "#aynı sonuç\n",
    "bugun = datetime.today()\n",
    "bugun = datetime.now()\n",
    "\n",
    "#\n",
    "bugun.year\n",
    "bugun.minute\n",
    "\n",
    "#\n",
    "bugun.date() #sadece date kısmına odaklandık.\n",
    "bugun.date().year\n",
    "\n",
    "#\n",
    "bugun.time() #sadece time kısmına odaklın.\n",
    "bugun.time().minute"
   ]
  },
  {
   "cell_type": "markdown",
   "id": "44ed4446",
   "metadata": {},
   "source": [
    "## Tarih oluşturmak"
   ]
  },
  {
   "cell_type": "code",
   "execution_count": 7,
   "id": "53be8b3c",
   "metadata": {},
   "outputs": [
    {
     "data": {
      "text/plain": [
       "datetime.datetime"
      ]
     },
     "execution_count": 7,
     "metadata": {},
     "output_type": "execute_result"
    }
   ],
   "source": [
    "tarih = date(2025, 9, 29)\n",
    "type(tarih) #datetime.date\n",
    "\n",
    "tarih = datetime(2025,9,29,14,16)\n",
    "type(tarih)"
   ]
  },
  {
   "cell_type": "markdown",
   "id": "17444cb6",
   "metadata": {},
   "source": [
    "### `strptime` ile giriş formatı `strftime` ile çıktı formatı belirtebiliriz."
   ]
  },
  {
   "cell_type": "code",
   "execution_count": null,
   "id": "a884c059",
   "metadata": {},
   "outputs": [
    {
     "name": "stdout",
     "output_type": "stream",
     "text": [
      "2025-09-29 00:00:00\n"
     ]
    },
    {
     "data": {
      "text/plain": [
       "'Monday September'"
      ]
     },
     "execution_count": 13,
     "metadata": {},
     "output_type": "execute_result"
    }
   ],
   "source": [
    "str_tarih=\"29-09-2025\"\n",
    "dt_tarih = datetime.strptime(str_tarih,\"%d-%m-%Y\") #%Y, %A, %m ,%d şeklindedir notlarda mevcut.\n",
    "\n",
    "type(dt_tarih) #datetime.datetime\n",
    "\n",
    "#\n",
    "print(dt_tarih) #giriş formatından bağımsız varsayılan ISO formaında yazar.\n",
    "\n",
    "#\n",
    "dt_tarih.strftime(\"%A %B\") #çıktı formatını belirtebiliriz."
   ]
  },
  {
   "cell_type": "markdown",
   "id": "8a1cb92c",
   "metadata": {},
   "source": [
    "### Tarih `replace` ile güncellenebilir."
   ]
  },
  {
   "cell_type": "code",
   "execution_count": 18,
   "id": "2b19c52d",
   "metadata": {},
   "outputs": [
    {
     "data": {
      "text/plain": [
       "datetime.datetime(2025, 9, 30, 0, 0)"
      ]
     },
     "execution_count": 18,
     "metadata": {},
     "output_type": "execute_result"
    }
   ],
   "source": [
    "#replace orjinalini etkilemez. tekrar üstüne atadık.\n",
    "dt_tarih = dt_tarih.replace(day=30)  #datetime.datetime(2025, 9, 29, 0, 0)\n",
    "dt_tarih"
   ]
  },
  {
   "cell_type": "markdown",
   "id": "1c3f45b5",
   "metadata": {},
   "source": [
    "## timedelta"
   ]
  },
  {
   "cell_type": "code",
   "execution_count": 27,
   "id": "218b5ebb",
   "metadata": {},
   "outputs": [
    {
     "name": "stdout",
     "output_type": "stream",
     "text": [
      "91 days, 9:27:30.350941\n"
     ]
    },
    {
     "data": {
      "text/plain": [
       "7896450.350941"
      ]
     },
     "execution_count": 27,
     "metadata": {},
     "output_type": "execute_result"
    }
   ],
   "source": [
    "dir(timedelta)\n",
    "\n",
    "#\n",
    "yilSonunaKadar = datetime(2025,12,31) - datetime.now()\n",
    "type(yilSonunaKadar) #datetime.timedelta\n",
    "\n",
    "#\n",
    "print(yilSonunaKadar) #91 days, 9:29:00.422304\n",
    "yilSonunaKadar.days\n",
    "#dt_tarih.weekday() #Monday == 0 ... Sunday == 6\n",
    "yilSonunaKadar.seconds\n",
    "\n",
    "#tolamda kaç saniye\n",
    "yilSonunaKadar.total_seconds()"
   ]
  },
  {
   "cell_type": "code",
   "execution_count": 35,
   "id": "ef2a14d0",
   "metadata": {},
   "outputs": [
    {
     "name": "stdout",
     "output_type": "stream",
     "text": [
      "2025-10-21 14:36:59.220485\n"
     ]
    }
   ],
   "source": [
    "#zaman farkı tanımlayalım\n",
    "yediGun = timedelta(days=7) #7 günlük fark oluşturduk. negatif sayılar da kullılabilir.\n",
    "\n",
    "#bugune 3 tane 7 gün ekleyelim.\n",
    "UcHaftaSonra = datetime.now() + yediGun * 3\n",
    "print(UcHaftaSonra)"
   ]
  },
  {
   "cell_type": "code",
   "execution_count": null,
   "id": "c7703e41",
   "metadata": {},
   "outputs": [
    {
     "name": "stdout",
     "output_type": "stream",
     "text": [
      "Siz doğalı 16465 gün 54727 saniye oldu.\n",
      "Siz doğalı toplamda  1,422,630,727 saniye oldu.\n"
     ]
    }
   ],
   "source": [
    "#soru:\n",
    "#kullanıcıdan doğum tarihini isteyelim.\n",
    "#hangi günde doğmuş. Monday\n",
    "#doğalı kaç gün ve saniye,\n",
    "#toplamda kaç saniye olmuş.\n",
    "\n",
    "#input, strptime, %d , %m, %Y, %A, strftime\n",
    "str_tarih =\"01/09/1980\" #input(\"Doğum tarihinizi giriniz: (gün/ay/yıl)\")\n",
    "dt_tarih = datetime.strptime(str_tarih, \"%d/%m/%Y\")\n",
    "\n",
    "#\n",
    "dt_tarih.strftime(\"%A\")\n",
    "\n",
    "#\n",
    "neKadarOldu = datetime.now() - dt_tarih\n",
    "\n",
    "#\n",
    "print(\"Siz doğalı {} gün {} saniye oldu.\".format(neKadarOldu.days, neKadarOldu.seconds))\n",
    "print(f\"Siz doğalı toplamda {neKadarOldu.total_seconds() : ,.0f} saniye oldu.\")"
   ]
  }
 ],
 "metadata": {
  "kernelspec": {
   "display_name": "Python 3",
   "language": "python",
   "name": "python3"
  },
  "language_info": {
   "codemirror_mode": {
    "name": "ipython",
    "version": 3
   },
   "file_extension": ".py",
   "mimetype": "text/x-python",
   "name": "python",
   "nbconvert_exporter": "python",
   "pygments_lexer": "ipython3",
   "version": "3.11.3"
  }
 },
 "nbformat": 4,
 "nbformat_minor": 5
}
