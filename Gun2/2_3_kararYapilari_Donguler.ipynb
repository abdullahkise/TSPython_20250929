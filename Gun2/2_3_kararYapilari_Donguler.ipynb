{
 "cells": [
  {
   "cell_type": "markdown",
   "id": "6fce2446",
   "metadata": {},
   "source": [
    "# Karar Yapıları ve Döngüler\n",
    "## Karar Yapıları\n",
    "1. if-elif-elif....elif-else\n",
    "```python\n",
    "if şart:\n",
    "    #şart True olursa çaloşacak kodlar.\n",
    "elif şart2:\n",
    "    #şart2 True ise\n",
    "elif şart3:\n",
    "    #şart3 True ise\n",
    "else:\n",
    "    #hiç bir şart True üretmezse\n",
    "```\n",
    "2. ternary: tek satırda kontro yapmamızı sağlar.\n",
    "```python\n",
    "şartTrueUretirse if şart else şartFalseUretirse\n",
    "```"
   ]
  },
  {
   "cell_type": "code",
   "execution_count": null,
   "id": "31d7b506",
   "metadata": {},
   "outputs": [
    {
     "name": "stdout",
     "output_type": "stream",
     "text": [
      "Notunuz 50 harf karşılığı C\n",
      "Programın sonuna gelindi.\n"
     ]
    }
   ],
   "source": [
    "#örn:\n",
    "#Dışarın sayısal not isteyelim. harf karşılığını üreterlim.\n",
    "notunuz =\"50\" #input(\"Notunuzu giriniz: \") #str\n",
    "notunuz = int(notunuz)\n",
    "#\n",
    "harfNotu = \"\"\n",
    "\n",
    "if 0<=notunuz<=100: #notunuz >= 0 and notunuz<=100:\n",
    "    #pass #pass kodlar yer tutucudur. buraya şimdilik kod yazmıyoruz hata verme demiş oluyoruz.\n",
    "    #... #pass ile aynı anlama gelir.\n",
    "    #\n",
    "    if notunuz>=85:\n",
    "        harfNotu = \"A\"\n",
    "    elif notunuz>=70:\n",
    "        harfNotu = \"B\"\n",
    "    elif notunuz>=50:\n",
    "        harfNotu = \"C\"\n",
    "    elif notunuz>=30:\n",
    "        harfNotu = \"D\"\n",
    "    else:\n",
    "        harfNotu = \"F\"\n",
    "    #------------------\n",
    "    print(f\"Notunuz {notunuz} harf karşılığı {harfNotu}\")\n",
    "    \n",
    "else:\n",
    "    print(\"Notunuz 0-100 arasında olması gerekir.\")\n",
    "\n",
    "#---\n",
    "print(\"Programın sonuna gelindi.\")"
   ]
  },
  {
   "cell_type": "code",
   "execution_count": 8,
   "id": "32e260e6",
   "metadata": {},
   "outputs": [
    {
     "data": {
      "text/plain": [
       "'Çift Sayıdır'"
      ]
     },
     "execution_count": 8,
     "metadata": {},
     "output_type": "execute_result"
    }
   ],
   "source": [
    "#ternary\n",
    "x = 6\n",
    "\n",
    "\"Çift Sayıdır\" if x%2==0 else \"Tek Sayıdır\""
   ]
  },
  {
   "cell_type": "markdown",
   "id": "9347ca02",
   "metadata": {},
   "source": [
    "## Döngüler\n",
    "1. for: iterasyon yapılabilecek nesnelerin elemanlarına tek tek ulaşmamızı sağlar.\n",
    "```python\n",
    "for eleman in grup:\n",
    "    #elemanlara tek tek ulaşırız.\n",
    "\n",
    "```\n",
    "2. while-else\n",
    "```python\n",
    "while şart:\n",
    "    #şart True olduğu sürece döngü çalışır.\n",
    "else:\n",
    "    #şart False olduğunda devreye girer.\n",
    "```\n",
    "**Not:**\n",
    "* her döngüde `break` ile döngüden çıkılabilir. `continue` ile bir sonraki iterasyona atlar."
   ]
  },
  {
   "cell_type": "markdown",
   "id": "32488a89",
   "metadata": {},
   "source": [
    "### for"
   ]
  },
  {
   "cell_type": "code",
   "execution_count": 12,
   "id": "76dbda3c",
   "metadata": {},
   "outputs": [
    {
     "name": "stdout",
     "output_type": "stream",
     "text": [
      "M-E-R-H-A-B-A-"
     ]
    }
   ],
   "source": [
    "kelime = \"merhaba\" #str containerdır. karakterden oluşur\n",
    "\n",
    "for karakter in kelime:\n",
    "    print(karakter.upper(), end=\"-\") #her bir karaktere ayrı ayrı erişiriz."
   ]
  },
  {
   "cell_type": "code",
   "execution_count": 13,
   "id": "44d9cfdd",
   "metadata": {},
   "outputs": [
    {
     "name": "stdout",
     "output_type": "stream",
     "text": [
      "0\n",
      "2\n",
      "4\n",
      "6\n",
      "8\n"
     ]
    }
   ],
   "source": [
    "#soru: 0-9 arasındaki sayılardan çift olanları görüntüleyelim.\n",
    "for s in [0,1,2,3,4,5,6,7,8,9]:\n",
    "    if s%2==0:\n",
    "        print(s)"
   ]
  },
  {
   "cell_type": "code",
   "execution_count": 15,
   "id": "d7a5cfb9",
   "metadata": {},
   "outputs": [
    {
     "data": {
      "text/plain": [
       "[0, 1, 2, 3, 4, 5, 6, 7, 8, 9]"
      ]
     },
     "execution_count": 15,
     "metadata": {},
     "output_type": "execute_result"
    }
   ],
   "source": [
    "#range(start,stop, step) #start ile stop arasında step kadar atlayıp sayılar tutucak.\n",
    "range(10) #0-10 arasındaki sayıları tutar. bunu bildiğimz bir tipe (liste) çevirebiliriz. for ile içinde gezebilriiz.\n",
    "\n",
    "list(range(10))"
   ]
  },
  {
   "cell_type": "code",
   "execution_count": 23,
   "id": "cff1bb09",
   "metadata": {},
   "outputs": [
    {
     "name": "stdout",
     "output_type": "stream",
     "text": [
      "7 X 1 = 7\n",
      "7 X 2 = 14\n",
      "7 X 3 = 21\n",
      "7 X 4 = 28\n",
      "7 X 5 = 35\n",
      "7 X 6 = 42\n",
      "7 X 7 = 49\n",
      "7 X 8 = 56\n",
      "7 X 9 = 63\n",
      "7 X 10 = 70\n"
     ]
    }
   ],
   "source": [
    "#örn: çarpım tablosu\n",
    "kaclar=7\n",
    "for x in range(2,11):\n",
    "    if x==7:\n",
    "        for y in range(1,11):\n",
    "            print(f\"{x} X {y} = {x*y}\")\n",
    "    #dıştaki forıniçinde içteki forun dışında.\n",
    "    #print(\"-\"*50)"
   ]
  },
  {
   "cell_type": "code",
   "execution_count": 30,
   "id": "3c481864",
   "metadata": {},
   "outputs": [
    {
     "data": {
      "text/plain": [
       "52.5"
      ]
     },
     "execution_count": 30,
     "metadata": {},
     "output_type": "execute_result"
    }
   ],
   "source": [
    "#örn:\n",
    "#1-100 arasındaki sayılardan 7'ye tam bölünenlerin, adedi, toplamını, enbüyük, en küçük, ortalamasını getirelim.\n",
    "tamBolunenler = [] #boş liste\n",
    "\n",
    "#\n",
    "for s in range(1,100):\n",
    "    if s%7==0:\n",
    "        tamBolunenler.append(s) #listeye eleman ekledik.\n",
    "\n",
    "#\n",
    "tamBolunenler\n",
    "\n",
    "#max, min, len, sum\n",
    "max(tamBolunenler)\n",
    "min(tamBolunenler)\n",
    "len(tamBolunenler) #eleman sayısı\n",
    "sum(tamBolunenler)\n",
    "\n",
    "#avg yok.\n",
    "sum(tamBolunenler)/len(tamBolunenler)"
   ]
  },
  {
   "cell_type": "markdown",
   "id": "449a73dc",
   "metadata": {},
   "source": [
    "### list comprehension"
   ]
  },
  {
   "cell_type": "code",
   "execution_count": null,
   "id": "be4de8ed",
   "metadata": {},
   "outputs": [
    {
     "data": {
      "text/plain": [
       "[49, 196, 441, 784, 1225, 1764, 2401, 3136, 3969, 4900, 5929, 7056, 8281, 9604]"
      ]
     },
     "execution_count": 35,
     "metadata": {},
     "output_type": "execute_result"
    }
   ],
   "source": [
    "#list, set vs. içerisinde for, if yazabiliriz. geriye mesela list tipi döner.\n",
    "tamBolunenlerinKaresi = [s**2 for s in range(1,100) if s%7==0] #açık fordan daha performanslı çalışır.\n",
    "\n",
    "tamBolunenlerinKaresi"
   ]
  },
  {
   "cell_type": "markdown",
   "id": "aa7156f7",
   "metadata": {},
   "source": [
    "### while-else"
   ]
  },
  {
   "cell_type": "code",
   "execution_count": 41,
   "id": "d17ad5be",
   "metadata": {},
   "outputs": [
    {
     "name": "stdout",
     "output_type": "stream",
     "text": [
      "1\n",
      "3\n",
      "5\n"
     ]
    }
   ],
   "source": [
    "sayac = 0\n",
    "\n",
    "while sayac <10:\n",
    "    sayac+=1 #sayac = sayac + 1\n",
    "\n",
    "    #----------\n",
    "    if sayac==7:\n",
    "        break #döngüden çıkılır\n",
    "    elif sayac%2==0:\n",
    "        continue #sonraki iterasyona atla\n",
    "    #----------\n",
    "\n",
    "    print(sayac)\n",
    "else:\n",
    "    print(f\"şarta  uymayan durumla karşılaşıldı {sayac}\") #breakten dolayı tetiklenmez."
   ]
  },
  {
   "cell_type": "code",
   "execution_count": null,
   "id": "331ef70f",
   "metadata": {},
   "outputs": [
    {
     "name": "stdout",
     "output_type": "stream",
     "text": [
      "Hoş geldiniz admin\n"
     ]
    }
   ],
   "source": [
    "#örn:\n",
    "#kullanıcı adı ve şifre isteyeki\n",
    "kadi = ksifre = \"\" #zincir\n",
    "denemeHakki = 3\n",
    "\n",
    "#\n",
    "while not(kadi==\"admin\" and ksifre==\"123\"):\n",
    "\n",
    "    #hakkı bittiyse döngüden\n",
    "    if denemeHakki<=0:\n",
    "        print(\"deneme hakkınız bitti!\")\n",
    "        break\n",
    "\n",
    "    kadi = input(\"Kullanıcı adını giriniz: \")\n",
    "    ksifre = input(\"Şifrenizi giriniz:\")\n",
    "    \n",
    "    #\n",
    "    denemeHakki -=1\n",
    "else:\n",
    "    print(f\"Hoş geldiniz {kadi}\")\n"
   ]
  },
  {
   "cell_type": "code",
   "execution_count": null,
   "id": "678777e2",
   "metadata": {},
   "outputs": [
    {
     "data": {
      "text/plain": [
       "'metinx'"
      ]
     },
     "execution_count": 45,
     "metadata": {},
     "output_type": "execute_result"
    }
   ],
   "source": [
    "#soru:\n",
    "#al321i.u31c!?an@mail.com\n",
    "#bozuk karakterleri temizleyip kullanıcı adını ali.ucan şeklinde getirelim.\n",
    "m = \"metin\"\n",
    "m+='x' #mevcut metne karakteri ekler.\n",
    "m"
   ]
  },
  {
   "cell_type": "code",
   "execution_count": null,
   "id": "899018b7",
   "metadata": {},
   "outputs": [],
   "source": [
    "#soru:\n",
    "'''\n",
    "    - Bilgisayar rastgele bir sayı tutsun (1-10 arasında)\n",
    "    - bu sayıyı tahmin etmeye çalışalım\n",
    "    - yukarı aşağı diye bizi yönlendirsin.\n",
    "    - kaç denemede bulundu, tutulan sayı nedir sonunda öğrenelim.\n",
    "    - max deneme sayısı da verilebilir. max deneme sayısı aralıktan daha küçük olmalı. 1-10 arasında 9 hak olabilir.\n",
    "'''"
   ]
  },
  {
   "cell_type": "code",
   "execution_count": null,
   "id": "394ca25a",
   "metadata": {},
   "outputs": [
    {
     "data": {
      "text/plain": [
       "3"
      ]
     },
     "execution_count": 68,
     "metadata": {},
     "output_type": "execute_result"
    }
   ],
   "source": [
    "import random\n",
    "\n",
    "#\n",
    "dir(random)\n",
    "\n",
    "#\n",
    "random.randint(1,10) #1-10 arasında rastgele\n",
    "random.random() #0-1 arasında rastgele\n",
    "\n",
    "#\n",
    "lst = [0,1,2,3]\n",
    "random.shuffle(lst) #listeyi rastgele karıştırır.\n",
    "lst\n",
    "\n",
    "#\n",
    "random.choice(lst) #listeden rastgele eleman seçer"
   ]
  }
 ],
 "metadata": {
  "kernelspec": {
   "display_name": "Python 3 (ipykernel)",
   "language": "python",
   "name": "python3"
  },
  "language_info": {
   "codemirror_mode": {
    "name": "ipython",
    "version": 3
   },
   "file_extension": ".py",
   "mimetype": "text/x-python",
   "name": "python",
   "nbconvert_exporter": "python",
   "pygments_lexer": "ipython3",
   "version": "3.11.3"
  }
 },
 "nbformat": 4,
 "nbformat_minor": 5
}
