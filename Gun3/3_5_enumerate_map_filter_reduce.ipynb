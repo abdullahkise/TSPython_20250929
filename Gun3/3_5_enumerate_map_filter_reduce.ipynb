{
 "cells": [
  {
   "cell_type": "markdown",
   "id": "d1eabe7c",
   "metadata": {},
   "source": [
    "# Hayatı Kolaylaştıran Fonksiyonlar\n",
    "![alt text](KullanisliFonksionlar.png)"
   ]
  },
  {
   "cell_type": "markdown",
   "id": "318b3e88",
   "metadata": {},
   "source": [
    "## Enumerate"
   ]
  },
  {
   "cell_type": "code",
   "execution_count": null,
   "id": "0ebc3025",
   "metadata": {},
   "outputs": [
    {
     "data": {
      "text/plain": [
       "[(1000, 'A'), (1001, 'I'), (1002, 'L'), (1003, 'B'), (1004, 'K')]"
      ]
     },
     "execution_count": 28,
     "metadata": {},
     "output_type": "execute_result"
    }
   ],
   "source": [
    "#mutable\n",
    "s = set(\"KALABALIK\")\n",
    "\n",
    "#\n",
    "siraliElemanlar = enumerate(s, 1000)\n",
    "#list(siraliElemanlar) #bildiğim tipe çevireyim. for ile dönebiliriz.\n",
    "siraliElemanlar = list(siraliElemanlar)\n",
    "siraliElemanlar"
   ]
  },
  {
   "cell_type": "code",
   "execution_count": 25,
   "id": "388b43a6",
   "metadata": {},
   "outputs": [
    {
     "data": {
      "text/plain": [
       "{'ad': 'Ali', 'yas': 33}"
      ]
     },
     "execution_count": 25,
     "metadata": {},
     "output_type": "execute_result"
    }
   ],
   "source": [
    "kisi = [(\"ad\",\"Ali\") , (\"yas\",33)]\n",
    "dict(kisi) #eğer ikililer halinde elemanlar gelirse ilkini key yapar"
   ]
  },
  {
   "cell_type": "code",
   "execution_count": 29,
   "id": "5d2b56ea",
   "metadata": {},
   "outputs": [
    {
     "data": {
      "text/plain": [
       "{1000: 'A', 1001: 'I', 1002: 'L', 1003: 'B', 1004: 'K'}"
      ]
     },
     "execution_count": 29,
     "metadata": {},
     "output_type": "execute_result"
    }
   ],
   "source": [
    "dict(siraliElemanlar)"
   ]
  },
  {
   "cell_type": "markdown",
   "id": "c54c0dd2",
   "metadata": {},
   "source": [
    "## zip"
   ]
  },
  {
   "cell_type": "code",
   "execution_count": null,
   "id": "c28780b6",
   "metadata": {},
   "outputs": [
    {
     "name": "stdout",
     "output_type": "stream",
     "text": [
      "  Gerçek  |  Tahmin  \n",
      "--------------------\n",
      "   3213   |   321    \n",
      "    43    |    54    \n",
      "   6455   |   768    \n",
      "   787    |   798    \n"
     ]
    }
   ],
   "source": [
    "gercekDegerler = [3213,43,6455,787]\n",
    "tahminDegerler = [321,54,768,798]\n",
    "\n",
    "#\n",
    "fmt = \"{:^10}|{:^10}\"\n",
    "\n",
    "print(fmt.format(\"Gerçek\",\"Tahmin\"))\n",
    "print(\"-\"*20)\n",
    "for z in zip(gercekDegerler,tahminDegerler): #aynı sıradaki elemanları birlikte getirecek\n",
    "    #print(z)\n",
    "    #print(f\"{z[0] : <10}|{z[1] : <10}\")\n",
    "    #print(fmt.format(z[0], z[1]))\n",
    "    print(fmt.format(*z)) #unpacking yaptık."
   ]
  },
  {
   "cell_type": "markdown",
   "id": "3d30f164",
   "metadata": {},
   "source": [
    "## map\n",
    "* broadcast imkanı verir."
   ]
  },
  {
   "cell_type": "code",
   "execution_count": null,
   "id": "4b0a2ed5",
   "metadata": {},
   "outputs": [
    {
     "data": {
      "text/plain": [
       "[3853.2, 51.6, 789.6, 1078.8, 3.5999999999999996, 385.2, 4.8, 6811.2]"
      ]
     },
     "execution_count": 41,
     "metadata": {},
     "output_type": "execute_result"
    }
   ],
   "source": [
    "#soru: fiyatların kdv dahil hallerini hesaplayalım.\n",
    "fiyatlar = [3211,43,658,899,3,321,4,5676]\n",
    "\n",
    "#\n",
    "kdvDahilFiyat = [f*1.20 for f in fiyatlar] #broadcast yapamızı sağları. bir işlemi tüm elemanlara uyguladı.\n",
    "\n",
    "kdvDahilFiyat"
   ]
  },
  {
   "cell_type": "code",
   "execution_count": null,
   "id": "2e950cbc",
   "metadata": {},
   "outputs": [
    {
     "data": {
      "text/plain": [
       "[3853.2, 51.6, 789.6, 1078.8, 3.5999999999999996, 385.2, 4.8, 6811.2]"
      ]
     },
     "execution_count": 44,
     "metadata": {},
     "output_type": "execute_result"
    }
   ],
   "source": [
    "kdvDahilFiyat = map(lambda f:f*1.20 , fiyatlar) #her eleman fonksiyon parametre olarak gönderilecek\n",
    "kdvDahilFiyat = list(kdvDahilFiyat)\n",
    "\n",
    "kdvDahilFiyat"
   ]
  },
  {
   "cell_type": "markdown",
   "id": "cf5deafa",
   "metadata": {},
   "source": [
    "### filter"
   ]
  },
  {
   "cell_type": "code",
   "execution_count": 50,
   "id": "93794e2e",
   "metadata": {},
   "outputs": [
    {
     "data": {
      "text/plain": [
       "['abdullahkise@hotmail.com', 'abdullahkise@gmial.com']"
      ]
     },
     "execution_count": 50,
     "metadata": {},
     "output_type": "execute_result"
    }
   ],
   "source": [
    "#soru içinde @ işareti geçenler gelsin.\n",
    "lst = [\"metin\",\"abdullahkise@hotmail.com\",\"321321\",\"???\",\"abdullahkise@gmial.com\"]\n",
    "\n",
    "#list comprehension\n",
    "[e for e in lst if \"@\" in e] #elemanlar içinde e var mı?\n",
    "\n",
    "#filter ile\n",
    "filtrelenmis = filter(lambda e: \"@\" in e,lst) #filter nesnesi döner.\n",
    "list(filtrelenmis)"
   ]
  },
  {
   "cell_type": "markdown",
   "id": "5f6b3b8d",
   "metadata": {},
   "source": [
    "## Reduce"
   ]
  },
  {
   "cell_type": "code",
   "execution_count": 3,
   "id": "65d4657c",
   "metadata": {},
   "outputs": [
    {
     "data": {
      "text/plain": [
       "1564"
      ]
     },
     "execution_count": 3,
     "metadata": {},
     "output_type": "execute_result"
    }
   ],
   "source": [
    "from functools import reduce\n",
    "\n",
    "#\n",
    "sayilar = [321,4,354,6,879]\n",
    "\n",
    "#\n",
    "#sum(sayilar) #toplam verir.\n",
    "\n",
    "#\n",
    "reduce(lambda x,y: x+y ,sayilar)"
   ]
  }
 ],
 "metadata": {
  "kernelspec": {
   "display_name": "Python 3 (ipykernel)",
   "language": "python",
   "name": "python3"
  },
  "language_info": {
   "codemirror_mode": {
    "name": "ipython",
    "version": 3
   },
   "file_extension": ".py",
   "mimetype": "text/x-python",
   "name": "python",
   "nbconvert_exporter": "python",
   "pygments_lexer": "ipython3",
   "version": "3.11.3"
  }
 },
 "nbformat": 4,
 "nbformat_minor": 5
}
