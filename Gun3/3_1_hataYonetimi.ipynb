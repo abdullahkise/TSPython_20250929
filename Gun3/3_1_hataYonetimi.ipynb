{
 "cells": [
  {
   "cell_type": "markdown",
   "id": "06514516",
   "metadata": {},
   "source": [
    "## Hata Yönetimi\n",
    "![alt text](HataYonetimiveHataTurleri.png)"
   ]
  },
  {
   "cell_type": "code",
   "execution_count": null,
   "id": "59dda603",
   "metadata": {},
   "outputs": [
    {
     "ename": "SyntaxError",
     "evalue": "cannot assign to expression here. Maybe you meant '==' instead of '='? (2370804654.py, line 3)",
     "output_type": "error",
     "traceback": [
      "\u001b[1;36m  Cell \u001b[1;32mIn[1], line 3\u001b[1;36m\u001b[0m\n\u001b[1;33m    if x%2=0:\u001b[0m\n\u001b[1;37m       ^\u001b[0m\n\u001b[1;31mSyntaxError\u001b[0m\u001b[1;31m:\u001b[0m cannot assign to expression here. Maybe you meant '==' instead of '='?\n"
     ]
    }
   ],
   "source": [
    "#syntax\n",
    "x = 1\n",
    "if x%2=0: #karşılaştırma operator ==, atama operatörü =\n",
    "    print(\"bu kod hata verir.\")"
   ]
  },
  {
   "cell_type": "code",
   "execution_count": 24,
   "id": "f7440456",
   "metadata": {},
   "outputs": [
    {
     "name": "stdout",
     "output_type": "stream",
     "text": [
      "Sonuc : ∞\n"
     ]
    }
   ],
   "source": [
    "#run-time\n",
    "x = 12\n",
    "y = 0 #2#\"21\" #0\n",
    "#ZeroDivisionError\n",
    "\n",
    "try:\n",
    "    sonuc = x/y\n",
    "except ZeroDivisionError:\n",
    "    #ZeroDivisionError hatasında ne yapalım?\n",
    "    sonuc = \"\\u221E\"\n",
    "except TypeError:\n",
    "    sonuc = \"Hatalı Tip\"\n",
    "except Exception as ex: #except:\n",
    "    #Exception tüm hataların türediği genel tiptir.\n",
    "    print(\"Bir hata ile karşılaşıldı. Hata mesajı: \",ex)\n",
    "    sonuc = \"Bilinmeyen Bir Hata\"\n",
    "else:\n",
    "    #hata olmadığında yapılaklar\n",
    "    print(\"Program başarıyla sonlandı.\")\n",
    "finally:\n",
    "    #hata olsa da olmasa da çalışır.\n",
    "    #bağlantıları kapatmak, kaynakları serbest vs işlemleri için sık sık kullanılır.\n",
    "    print(\"Sonuc :\",sonuc)"
   ]
  }
 ],
 "metadata": {
  "kernelspec": {
   "display_name": "Python 3 (ipykernel)",
   "language": "python",
   "name": "python3"
  },
  "language_info": {
   "codemirror_mode": {
    "name": "ipython",
    "version": 3
   },
   "file_extension": ".py",
   "mimetype": "text/x-python",
   "name": "python",
   "nbconvert_exporter": "python",
   "pygments_lexer": "ipython3",
   "version": "3.11.3"
  }
 },
 "nbformat": 4,
 "nbformat_minor": 5
}
