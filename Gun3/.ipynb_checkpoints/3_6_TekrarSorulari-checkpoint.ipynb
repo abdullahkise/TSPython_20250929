{
 "cells": [
  {
   "cell_type": "code",
   "execution_count": 6,
   "metadata": {},
   "outputs": [
    {
     "data": {
      "text/plain": [
       "13"
      ]
     },
     "execution_count": 6,
     "metadata": {},
     "output_type": "execute_result"
    }
   ],
   "source": [
    "# Soru1:\n",
    "'''\n",
    "    Bir metin içerisindeki belirttiğimiz harfi saydıran bir kod parçası yazalım.\n",
    "'''\n",
    "metin = \"Python programlama dili, dünyada eğitim amacıyla en çok kullanılan programlama dillerinden biridir.\"\n",
    "harf = \"a\"\n",
    "\n",
    "#dir(str)\n",
    "metin.lower().count(\"a\") #tüm harfle önce küçük olur sonra küçük a harfini saydırırız."
   ]
  },
  {
   "cell_type": "code",
   "execution_count": 17,
   "metadata": {},
   "outputs": [
    {
     "data": {
      "text/plain": [
       "([76, 56, 88], 220, 3)"
      ]
     },
     "execution_count": 17,
     "metadata": {},
     "output_type": "execute_result"
    }
   ],
   "source": [
    "# Soru2:\n",
    "'''\n",
    "    Belirtilen sayılardan 3'e (istenen sayıya) tam bölünenlerin \n",
    "    adedini, toplamını ve sayıların kendisini döndüren bir fonksiyon yazalım.\n",
    "'''\n",
    "\n",
    "def fnk(bolen = 3 ,*sayilar):\n",
    "    #1.açık for\n",
    "    \"\"\"\n",
    "    lst_tambolunenler = []\n",
    "\n",
    "    \n",
    "    for s in set(sayilar): #tekilleştirdik.\n",
    "        if s%bolen==0:\n",
    "            lst_tambolunenler.append(s)\n",
    "    \"\"\"\n",
    "    #2.list comp.\n",
    "    lst_tambolunenler = [s for s in set(sayilar) if s%bolen==0]\n",
    "\n",
    "    #3.filter ile \n",
    "    lst_tambolunenler = filter(lambda s: s%bolen==0,set(sayilar)) #filter nesnesi döner.\n",
    "    lst_tambolunenler = list(lst_tambolunenler)\n",
    "\n",
    "    #\n",
    "    return lst_tambolunenler, sum(lst_tambolunenler), len(lst_tambolunenler) #tuple return olur.\n",
    "\n",
    "#------------\n",
    "fnk(4, #bolen\n",
    "    1233,43,6,56,76,88,9) #sayilar"
   ]
  },
  {
   "cell_type": "code",
   "execution_count": null,
   "metadata": {},
   "outputs": [
    {
     "data": {
      "text/plain": [
       "'12.566'"
      ]
     },
     "execution_count": 27,
     "metadata": {},
     "output_type": "execute_result"
    }
   ],
   "source": [
    "# Soru3:\n",
    "'''\n",
    "    Dışarıdan yarıçapı girilen dairenin alanını hesaplayan bir fonksiyon yazalım.\n",
    "    hata kontrollerini de yapalım.\n",
    "    Dairenin Alanı = pi * r^2\n",
    "'''\n",
    "import math\n",
    "\n",
    "def alanHesapla(r:float)-> float:\n",
    "    \"\"\"\n",
    "        Yarı çapı girilen dairenin alanını hesaplar.\n",
    "\n",
    "        Parametreler:\n",
    "        -----------------------\n",
    "        r: float cinsinden yarıçap\n",
    "        return: float cinsinde alan\n",
    "    \"\"\"\n",
    "    if isinstance(r,(float, int)): #type(r)==float or type(r)==int:\n",
    "        alan = math.pi * pow(r,2) #r**2\n",
    "    else:\n",
    "        alan = \"Tip hatası\"\n",
    "    return alan\n",
    "\n",
    "#------------------\n",
    "alanHesapla(2)\n",
    "\n",
    "#\n",
    "round(alanHesapla(2),3) #float döner virgülden sonra 3 basamak olacak şekilde bir sayı olarak ver.\n",
    "format(alanHesapla(2), \".3f\") #str döner."
   ]
  },
  {
   "cell_type": "code",
   "execution_count": null,
   "metadata": {},
   "outputs": [
    {
     "data": {
      "text/plain": [
       "('Ambulans', 'snalubmA')"
      ]
     },
     "execution_count": 34,
     "metadata": {},
     "output_type": "execute_result"
    }
   ],
   "source": [
    "# Soru4:\n",
    "'''\n",
    "    Verilen metni alfabe dışındaki karekterlerden temizleyelim. \n",
    "    Metni düz ve tersten veren bir fonksiyon yazalım\n",
    "'''\n",
    "def MetinTemizle(metin):\n",
    "    lst_alfabe = [m for m in metin if str.isalpha(m) or str.isspace(m)]\n",
    "    temizMetin = \"\".join(lst_alfabe)\n",
    "\n",
    "    return temizMetin,temizMetin[::-1]\n",
    "\n",
    "#-------------------------\n",
    "MetinTemizle(\"Amb543ul321an!s\")"
   ]
  },
  {
   "cell_type": "code",
   "execution_count": 37,
   "metadata": {},
   "outputs": [
    {
     "data": {
      "text/plain": [
       "'Wednesday'"
      ]
     },
     "execution_count": 37,
     "metadata": {},
     "output_type": "execute_result"
    }
   ],
   "source": [
    "# soru5:\n",
    "'''\n",
    "    Dışarıdan girilen tarih. hangi güne ait.\n",
    "'''\n",
    "#%A, %d, %m, %Y\n",
    "str_tarih =\"01-09-2021\" #input(\"Bir değer giriniz: \")\n",
    "\n",
    "from datetime import datetime\n",
    "\n",
    "#datetime.strptime(str_tarih, \"%d-%m-%Y\").strftime(\"%A\")\n",
    "\n",
    "#\\ ile anlamlı kod parçası aşağıda devam ediyor. hata verme demiş olduk.\n",
    "datetime.strptime(str_tarih, \"%d-%m-%Y\") \\\n",
    "        .strftime(\"%A\")"
   ]
  },
  {
   "cell_type": "code",
   "execution_count": null,
   "metadata": {},
   "outputs": [
    {
     "data": {
      "text/plain": [
       "'Python Dili Çok Eğlenceli'"
      ]
     },
     "execution_count": 42,
     "metadata": {},
     "output_type": "execute_result"
    }
   ],
   "source": [
    "# soru6: Sezar Şifrelemesi\n",
    "'''\n",
    "    chr(97) #ascii kod alır karakteri verir.\n",
    "    ord(\"a\") #karakter alır ascii kodu verir.\n",
    "    \n",
    "    kaydirmaMiktarı (anahtar)\n",
    "    temizMetin\n",
    "    sifreliMetin\n",
    "    \n",
    "    ord(\"a\") #97\n",
    "    ord(\"z\") #122\n",
    "    ord(\"A\") #65\n",
    "    ord(\"Z\") #90\n",
    "'''\n",
    "def sifreleme(metin, anahtar=3, sifrelensinmi=True):\n",
    "       sonucMetin = [chr(ord(m)+anahtar) if sifrelensinmi else chr(ord(m)-anahtar)  \n",
    "                     for m in metin]\n",
    "       \n",
    "       sonucMetin = \"\".join(sonucMetin)\n",
    "\n",
    "       return sonucMetin\n",
    "\n",
    "#------------\n",
    "sifreleme(\"Python Dili Çok Eğlenceli\", 5,True) #U~ymts%Inqn%Ìtp%JĤqjshjqn\n",
    "sifreleme(\"U~ymts%Inqn%Ìtp%JĤqjshjqn\", 5,False)\n"
   ]
  },
  {
   "cell_type": "code",
   "execution_count": null,
   "metadata": {},
   "outputs": [],
   "source": [
    "# soru7: cm olarak girilen boy bilgisine bakılarak ideal kilo hesabı yapalım.\n",
    "# Boy bilgisini floata dönüşecek mi diye kontrol edelim.\n",
    "#idealkilo  = boy-100-(boy-150)/4"
   ]
  },
  {
   "cell_type": "code",
   "execution_count": null,
   "metadata": {},
   "outputs": [
    {
     "data": {
      "text/plain": [
       "{'34': 'İstanbul',\n",
       " '06': 'Ankara',\n",
       " '01': 'Adana',\n",
       " '19': 'Çorum',\n",
       " '54': 'Sakarya'}"
      ]
     },
     "execution_count": 49,
     "metadata": {},
     "output_type": "execute_result"
    }
   ],
   "source": [
    "# soru8:\n",
    "'''\n",
    "    Aşağıdaki metni dict'e çevirelim. plaka kodu verildiğinde ili getiren fonksiyonu yazalım\n",
    "'''\n",
    "\n",
    "plakaKodlar = \"\"\"\n",
    "İstanbul 34\n",
    "Ankara 06\n",
    "\n",
    "Adana 01\n",
    "Çorum 19\n",
    "Sakarya 54\n",
    "\"\"\"\n",
    "\n",
    "#plakaKodlar.split() #whitespace\n",
    "plakaKodlar.splitlines() #new line karakterlerime göre\n",
    "\n",
    "#if p ile p boş değil True üretecek.\n",
    "plakalar=[p.split()[::-1] for p in plakaKodlar.splitlines() if p] \n",
    "dict(plakalar)"
   ]
  },
  {
   "cell_type": "code",
   "execution_count": 52,
   "metadata": {},
   "outputs": [
    {
     "data": {
      "text/plain": [
       "{1, 2}"
      ]
     },
     "execution_count": 52,
     "metadata": {},
     "output_type": "execute_result"
    }
   ],
   "source": [
    "# Soru 9:\n",
    "# fonksiyona verilen sayılardan sadece tekrar edenleri bulalım.\n",
    "sayilar = [1,2,3,445,56,7,781,1,1,2,2,]\n",
    "tekrarEdenler = filter( lambda s:sayilar.count(s)>1 ,sayilar)\n",
    "\n",
    "#\n",
    "set(tekrarEdenler)"
   ]
  },
  {
   "cell_type": "code",
   "execution_count": 54,
   "metadata": {},
   "outputs": [
    {
     "data": {
      "text/plain": [
       "False"
      ]
     },
     "execution_count": 54,
     "metadata": {},
     "output_type": "execute_result"
    }
   ],
   "source": [
    "# Soru 10:\n",
    "# bir listedeki sayılara bakıp, 1-10 arasındaki sayılardan hangileri eksikmiş bulalım.\n",
    "100 in list(range(1,11))"
   ]
  },
  {
   "cell_type": "code",
   "execution_count": null,
   "metadata": {},
   "outputs": [],
   "source": [
    "#soru 11:\n",
    "# Bir cümledeki en uzun kelimeyi getiren fonksiyonu yazalım.\n",
    "cumle = \"Python programlama dili oldukça popüler bir dil haline geldi.\""
   ]
  },
  {
   "cell_type": "code",
   "execution_count": null,
   "metadata": {},
   "outputs": [
    {
     "data": {
      "text/plain": [
       "[1, 2, 3, 'X', 4, 5, 6]"
      ]
     },
     "execution_count": 60,
     "metadata": {},
     "output_type": "execute_result"
    }
   ],
   "source": [
    "#soru 12:\n",
    "#oyundaki oyuncunun bir sola veya sağa alalım.\n",
    "oyun = [1,2,3,4,'X',5,6 ]\n",
    "oyuncu=\"X\"\n",
    "\n",
    "#-------\n",
    "konum = oyun.index(oyuncu)\n",
    "yeniKonum = konum-1\n",
    "\n",
    "#önce sağ taraf hesaplanır sonra sola atanır. unpacking yaptık.\n",
    "oyun[yeniKonum],oyun[konum] = oyun[konum], oyun[yeniKonum]\n",
    "\n",
    "oyun"
   ]
  }
 ],
 "metadata": {
  "kernelspec": {
   "display_name": "Python 3",
   "language": "python",
   "name": "python3"
  },
  "language_info": {
   "codemirror_mode": {
    "name": "ipython",
    "version": 3
   },
   "file_extension": ".py",
   "mimetype": "text/x-python",
   "name": "python",
   "nbconvert_exporter": "python",
   "pygments_lexer": "ipython3",
   "version": "3.11.3"
  }
 },
 "nbformat": 4,
 "nbformat_minor": 2
}
