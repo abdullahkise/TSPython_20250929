{
 "cells": [
  {
   "cell_type": "markdown",
   "id": "6b3b468c",
   "metadata": {},
   "source": [
    "## List, Tuple, Set, Dict Tipleri İnceleme\n",
    "![alt text](ListVeTuple.png)\n",
    "### list\n",
    "![alt text](list.png)"
   ]
  },
  {
   "cell_type": "code",
   "execution_count": 1,
   "id": "25dcb157",
   "metadata": {},
   "outputs": [
    {
     "data": {
      "text/plain": [
       "['M', 'E', 'R', 'H', 'A', 'B', 'A']"
      ]
     },
     "execution_count": 1,
     "metadata": {},
     "output_type": "execute_result"
    }
   ],
   "source": [
    "#boş liste\n",
    "[]\n",
    "list()\n",
    "\n",
    "#\n",
    "[1,2,3,\"metin\",\"metin\",True]\n",
    "list(\"MERHABA\") #str contaimer. tip dönüşümü"
   ]
  },
  {
   "cell_type": "code",
   "execution_count": 20,
   "id": "397087ab",
   "metadata": {},
   "outputs": [
    {
     "data": {
      "text/plain": [
       "[500, 400, 300, 200, 100, 99, 3, 2, 1, -99]"
      ]
     },
     "execution_count": 20,
     "metadata": {},
     "output_type": "execute_result"
    }
   ],
   "source": [
    "dir(list)\n",
    "\n",
    "\"\"\"\n",
    "'append',\n",
    " 'clear',\n",
    " 'copy',\n",
    " 'count',\n",
    " 'extend',\n",
    " 'index',\n",
    " 'insert',\n",
    " 'pop',\n",
    " 'remove',\n",
    " 'reverse',\n",
    " 'sort'\n",
    "\"\"\"\n",
    "lst = [1,2,3]\n",
    "#\n",
    "\n",
    "#\n",
    "lst.append(99) #elemanı olduğu gibi tek eleman olarak ekler.\n",
    "lst.append({1000,1001}) #tek eleman olarak ekler\n",
    "\n",
    "#\n",
    "lst.extend([100,200,300]) #verilen elemanları açarak tek tek ekler.\n",
    "lst +=[400,500]\n",
    "\n",
    "#\n",
    "lst.count(100) #eleman saydırmamızı sağlar.\n",
    "\n",
    "#\n",
    "lst.index(100) #100 elemanı 5. indexte\n",
    "lst[5] #index verdik elemanı aldık 100\n",
    "\n",
    "#\n",
    "lst.insert(0,-99) #0.indexe -99 ekle\n",
    "\n",
    "#\n",
    "lst.remove({1000, 1001}) #{1000, 1001} elemanını kaldırdık.\n",
    "\n",
    "#\n",
    "lst.sort(reverse=True) #orjinalini etkiler.\n",
    "lst[::-1] #sadece tersten görünrüsünü verir. orjinalini etkilemez.\n",
    "#\n",
    "lst"
   ]
  },
  {
   "cell_type": "markdown",
   "id": "dd950d98",
   "metadata": {},
   "source": [
    "## Tuple\n",
    "![alt text](tuple.png)"
   ]
  },
  {
   "cell_type": "code",
   "execution_count": 22,
   "id": "92a78e08",
   "metadata": {},
   "outputs": [
    {
     "data": {
      "text/plain": [
       "('M', 'E', 'R', 'H', 'A', 'B', 'A')"
      ]
     },
     "execution_count": 22,
     "metadata": {},
     "output_type": "execute_result"
    }
   ],
   "source": [
    "#boş tuple\n",
    "()\n",
    "tuple()\n",
    "\n",
    "t = (1,2,3,\"metin\",True)\n",
    "t = 1,2,3,\"metin\",True\n",
    "\n",
    "#\n",
    "tuple(\"MERHABA\") #tip dönüşüm fonksiyonlar"
   ]
  },
  {
   "cell_type": "code",
   "execution_count": 26,
   "id": "f5ee62bb",
   "metadata": {},
   "outputs": [
    {
     "data": {
      "text/plain": [
       "1"
      ]
     },
     "execution_count": 26,
     "metadata": {},
     "output_type": "execute_result"
    }
   ],
   "source": [
    "dir(tuple)\n",
    "\n",
    "\"\"\"\n",
    " 'count',\n",
    " 'index'\n",
    "\"\"\"\n",
    "\n",
    "t[0]\n",
    "#t[0] = 100000 #tuple immutable olduğu için değer atanmaz."
   ]
  },
  {
   "cell_type": "code",
   "execution_count": 30,
   "id": "096e0ecf",
   "metadata": {},
   "outputs": [
    {
     "data": {
      "text/plain": [
       "[500, 300, 100]"
      ]
     },
     "execution_count": 30,
     "metadata": {},
     "output_type": "execute_result"
    }
   ],
   "source": [
    "lst[0] #0.index\n",
    "lst[:5:2] #en baştan 4. indexe kadar 2 adımda bir getir. slicer start:stop:ste"
   ]
  },
  {
   "cell_type": "markdown",
   "id": "8c64fcf1",
   "metadata": {},
   "source": [
    "### Set\n",
    "![alt text](set.png)"
   ]
  },
  {
   "cell_type": "code",
   "execution_count": 33,
   "id": "3b52d989",
   "metadata": {},
   "outputs": [
    {
     "data": {
      "text/plain": [
       "{'A', 'B', 'I', 'K', 'L'}"
      ]
     },
     "execution_count": 33,
     "metadata": {},
     "output_type": "execute_result"
    }
   ],
   "source": [
    "#boş set\n",
    "{}\n",
    "set()\n",
    "\n",
    "#\n",
    "set(\"KALABALIK\") #tip dönüşümü benzersiz tutar.\n",
    "\n",
    "#dir(set)"
   ]
  },
  {
   "cell_type": "code",
   "execution_count": null,
   "id": "467d8e43",
   "metadata": {},
   "outputs": [
    {
     "data": {
      "text/plain": [
       "False"
      ]
     },
     "execution_count": 45,
     "metadata": {},
     "output_type": "execute_result"
    }
   ],
   "source": [
    "a = {1,2,3,\"dört\"}\n",
    "b = {3,4,5,6}\n",
    "\n",
    "#\n",
    "a.remove(\"dört\") #elemanı kaldıralım\n",
    "a.update((4,5))\n",
    "#\n",
    "#a\n",
    "\n",
    "#\n",
    "a.union(b) #birleşim\n",
    "a | b\n",
    "\n",
    "#\n",
    "a.difference(b) #a'da olıp b'de olmayan\n",
    "a - b\n",
    "\n",
    "#\n",
    "a.intersection(b) #a kesişim b\n",
    "a & b\n",
    "\n",
    "#\n",
    "a.issubset(b) #False a, b'nin alt kümesi mi?"
   ]
  },
  {
   "cell_type": "markdown",
   "id": "c4685f55",
   "metadata": {},
   "source": [
    "## dict\n",
    "![alt text](dict.png)"
   ]
  },
  {
   "cell_type": "code",
   "execution_count": null,
   "id": "f334b025",
   "metadata": {},
   "outputs": [
    {
     "data": {
      "text/plain": [
       "dict_items([('ad', 'Ali'), ('yas', 33)])"
      ]
     },
     "execution_count": 49,
     "metadata": {},
     "output_type": "execute_result"
    }
   ],
   "source": [
    "p = {\"ad\":\"Ali\",\n",
    "     \"yas\":33}\n",
    "\n",
    "p[\"ad\"]\n",
    "\n",
    "#\n",
    "p.keys() #dict_keys(['ad', 'yas']) tipinden bir nesne bu bir liste değil.\n",
    "p.values()\n",
    "\n",
    "#\n",
    "p.items() #[('ad', 'Ali'), ('yas', 33)] (key,value) şeklinde ikililer halinde veriyor."
   ]
  },
  {
   "cell_type": "code",
   "execution_count": 51,
   "id": "8f470b5f",
   "metadata": {},
   "outputs": [
    {
     "name": "stdout",
     "output_type": "stream",
     "text": [
      "Key : ad ----> Value:Ali\n",
      "Key : yas ----> Value:33\n"
     ]
    }
   ],
   "source": [
    "for kv in p.items():\n",
    "    #print(kv)\n",
    "    print(f\"Key : {kv[0]} ----> Value:{kv[1]}\")"
   ]
  },
  {
   "cell_type": "code",
   "execution_count": 52,
   "id": "c32712b4",
   "metadata": {},
   "outputs": [],
   "source": [
    "#dict2' yeni bir key:value atıyoruz.\n",
    "p[\"maas\"] = 1321.32"
   ]
  },
  {
   "cell_type": "code",
   "execution_count": 57,
   "id": "38b4261d",
   "metadata": {},
   "outputs": [
    {
     "data": {
      "text/plain": [
       "1321.32"
      ]
     },
     "execution_count": 57,
     "metadata": {},
     "output_type": "execute_result"
    }
   ],
   "source": [
    "#soru:\n",
    "#son keye ait value nedir?\n",
    "sonKey = list(p.keys())[-1]\n",
    "p[sonKey]"
   ]
  }
 ],
 "metadata": {
  "kernelspec": {
   "display_name": "Python 3 (ipykernel)",
   "language": "python",
   "name": "python3"
  },
  "language_info": {
   "codemirror_mode": {
    "name": "ipython",
    "version": 3
   },
   "file_extension": ".py",
   "mimetype": "text/x-python",
   "name": "python",
   "nbconvert_exporter": "python",
   "pygments_lexer": "ipython3",
   "version": "3.11.3"
  }
 },
 "nbformat": 4,
 "nbformat_minor": 5
}
