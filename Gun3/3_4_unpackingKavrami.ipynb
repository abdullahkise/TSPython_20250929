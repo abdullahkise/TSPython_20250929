{
 "cells": [
  {
   "cell_type": "markdown",
   "id": "c07520a0",
   "metadata": {},
   "source": [
    "# Unpacking Kavramı\n",
    "![alt text](Unpacking.png)"
   ]
  },
  {
   "cell_type": "code",
   "execution_count": 3,
   "id": "db2f2349",
   "metadata": {},
   "outputs": [
    {
     "name": "stdout",
     "output_type": "stream",
     "text": [
      "a=1 b=2 c=3\n"
     ]
    }
   ],
   "source": [
    "a = 1 #klasik atama\n",
    "a = b = 1 #zincir atama\n",
    "\n",
    "#\n",
    "a,b,c = 1,2,3 #desen ile değişken uyumlu olursa. değerler değişkenlere atanır. unpacking\n",
    "\n",
    "#print(a,b,c)\n",
    "print(f\"{a=} {b=} {c=}\") #a= hareketi f string yöntemin değişkenAd=degeri çıktısını üretiyor"
   ]
  },
  {
   "cell_type": "code",
   "execution_count": 6,
   "id": "d21af986",
   "metadata": {},
   "outputs": [
    {
     "name": "stdout",
     "output_type": "stream",
     "text": [
      "ad='Ali' ehliyetler=['A', 'B']\n",
      "ad='Ali' e1='A' e2='B'\n"
     ]
    }
   ],
   "source": [
    "ad,ehliyetler= \"Ali\",[\"A\",\"B\"]\n",
    "\n",
    "print(f\"{ad=} {ehliyetler=}\")\n",
    "\n",
    "#\n",
    "ad,(e1,e2)= \"Ali\",[\"A\",\"B\"] #ikielemna = ikieleman\n",
    "print(f\"{ad=} {e1=} {e2=}\")"
   ]
  },
  {
   "cell_type": "markdown",
   "id": "6a7f7b6c",
   "metadata": {},
   "source": [
    "## Desen uyumlu olmadığı durumda.\n",
    "1. mantıksız bir desen olduğunda hata verir.\n",
    "2. desen uyumlu eleman sayısı fazla olur ve elemanları görmezden gelmek isteyebiliriz\n",
    "3. desen uyumlu eleman sayısı fazla olur ve kalan elemanları bir değişkene atamak isteyebiliriz.\n"
   ]
  },
  {
   "cell_type": "code",
   "execution_count": null,
   "id": "c9de99cd",
   "metadata": {},
   "outputs": [
    {
     "name": "stdout",
     "output_type": "stream",
     "text": [
      "a=1 b=3 c=9\n"
     ]
    }
   ],
   "source": [
    "# elemanları görmezden gelme için _ veya *_\n",
    "\n",
    "a,_,b,*_,c = 1,2,3,4,5,6,7,8,9\n",
    "\"\"\"\n",
    "    1. eleman a\n",
    "    2. eleman _ atlansın\n",
    "    3. eleman b olsun.\n",
    "    son eleman c\n",
    "    aradakiler atlansın *_ ile atlandı.\n",
    "\"\"\"\n",
    "\n",
    "print(f\"{a=} {b=} {c=}\")"
   ]
  },
  {
   "cell_type": "code",
   "execution_count": null,
   "id": "f72c51b5",
   "metadata": {},
   "outputs": [
    {
     "name": "stdout",
     "output_type": "stream",
     "text": [
      "a=1 b=[5, 6, 7, 8, 9] c=4\n"
     ]
    }
   ],
   "source": [
    "# kalan elemanları bir değişkene atamak isteyebiliriz.\n",
    "a,_,_,*b,_,c = 1,2,3,4,5,6,7,8,9\n",
    "\"\"\"\n",
    "    1. eleman a\n",
    "    2. eleman _ ile atlandı.\n",
    "    3. eleman _ ile atlandı\n",
    "    son eleman c oldu\n",
    "    sondan bir önceki _ ile atlandı\n",
    "    geriye kalan eleman *b ile b'ye atandı\n",
    "\n",
    "\"\"\"\n",
    "print(f\"{a=} {b=} {c=}\")"
   ]
  },
  {
   "cell_type": "code",
   "execution_count": null,
   "id": "f88875f0",
   "metadata": {},
   "outputs": [
    {
     "data": {
      "text/plain": [
       "[1, 2, 3, 4, 5, 6, 7, 8, 9, 10]"
      ]
     },
     "execution_count": 15,
     "metadata": {},
     "output_type": "execute_result"
    }
   ],
   "source": [
    "# istersek *containerDegisken ile elemanları bir yere unpack edebiliriz.\n",
    "k = [1,2,3,4]\n",
    "l = [5,6]\n",
    "m = [7,8,9,10]\n",
    "\n",
    "#\n",
    "[k,l,m] #elemanları listele rolan bir liste ürettik. append\n",
    "[*k,*l,*m] #extend gibi elemanları açarak tek bir liste türetebiliriz."
   ]
  }
 ],
 "metadata": {
  "kernelspec": {
   "display_name": "Python 3 (ipykernel)",
   "language": "python",
   "name": "python3"
  },
  "language_info": {
   "codemirror_mode": {
    "name": "ipython",
    "version": 3
   },
   "file_extension": ".py",
   "mimetype": "text/x-python",
   "name": "python",
   "nbconvert_exporter": "python",
   "pygments_lexer": "ipython3",
   "version": "3.11.3"
  }
 },
 "nbformat": 4,
 "nbformat_minor": 5
}
