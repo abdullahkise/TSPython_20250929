{
 "cells": [
  {
   "cell_type": "markdown",
   "id": "249cf861",
   "metadata": {},
   "source": [
    "## Fonksiyonlar\n",
    "![alt text](Fonksiyonlar.png)"
   ]
  },
  {
   "cell_type": "code",
   "execution_count": 6,
   "id": "9714940e",
   "metadata": {},
   "outputs": [
    {
     "data": {
      "text/plain": [
       "'Normal'"
      ]
     },
     "execution_count": 6,
     "metadata": {},
     "output_type": "execute_result"
    }
   ],
   "source": [
    "#parametreler varsayılan değer alabilir. Varsayılan değerli parametreler en sonda tanımalnır.\n",
    "#parametlerin yanındaki tipler type hint olarak isimlendirilir. bilgi amaçlıdır. kullanıcı zorunlu tutmaz.\n",
    "def obeziteSeviyesi(kilo:int, boy:float=1.75) -> str:\n",
    "    \"\"\"\n",
    "        Bu fonksiyon kilo ve boy bilgisi alır. Obezite seviyesini verir.\n",
    "\n",
    "        Parametreler:\n",
    "        ----------------------------------\n",
    "        kilo: int tipinden kilonuz\n",
    "        boy: float tipinden boyunuz\n",
    "\n",
    "        return: str tipinden obeziste seviyesi\n",
    "    \"\"\"\n",
    "\n",
    "    bki = kilo/boy**2\n",
    "\n",
    "    #\n",
    "    if bki>=40:\n",
    "        return \"3. Dereceden Obez\"\n",
    "    elif bki>=35:\n",
    "        return \"2. Dereceden Obez\"\n",
    "    elif bki>=25:\n",
    "        return \"1. Dereceden Obez\"\n",
    "    elif bki>=18.5:\n",
    "        return \"Normal\"\n",
    "    elif bki>=17:\n",
    "        return \"Hafif Düzeyde Zayıf\"\n",
    "    elif bki>=16:\n",
    "        return \"Orta Düzeyde Zayıf\"\n",
    "    else:\n",
    "        return \"Ağır Düzeyde Zayıf\"\n",
    "\n",
    "#---------------------------------------\n",
    "obeziteSeviyesi(80,1.50) #parametreler tanımlanma sırasında girilir.\n",
    "obeziteSeviyesi(boy=1.80, kilo=130) #parametre adı girilirse sıraya gerek yok.\n",
    "obeziteSeviyesi(kilo=65) #boy için varsayılan değer atanır. 1.75"
   ]
  },
  {
   "cell_type": "code",
   "execution_count": null,
   "id": "8f271a9b",
   "metadata": {},
   "outputs": [
    {
     "name": "stdout",
     "output_type": "stream",
     "text": [
      "\n",
      "        Bu fonksiyon kilo ve boy bilgisi alır. Obezite seviyesini verir.\n",
      "\n",
      "        Parametreler:\n",
      "        ----------------------------------\n",
      "        kilo: int tipinden kilonuz\n",
      "        boy: float tipinden boyunuz\n",
      "\n",
      "        return: str tipinden obeziste seviyesi\n",
      "    \n",
      "\n",
      "        Bu fonksiyon kilo ve boy bilgisi alır. Obezite seviyesini verir.\n",
      "\n",
      "        Parametreler:\n",
      "        ----------------------------------\n",
      "        kilo: int tipinden kilonuz\n",
      "        boy: float tipinden boyunuz\n",
      "\n",
      "        return: str tipinden obeziste seviyesi\n",
      "    \n",
      "Bu metin __doc__ ile eklendi.\n"
     ]
    }
   ],
   "source": [
    "#help(obeziteSeviyesi)\n",
    "\n",
    "\"\"\"\n",
    "    1. Fonksiyon başlığı üzerindeki yorum satırı helpte görünür.\n",
    "    2. Başlıktan sontaki metin helpte görünür.\n",
    "    3. __doc__ attribute ile doc string tanımlayabilir. helpi geliştirebilirim.\n",
    "\"\"\"\n",
    "\n",
    "print(obeziteSeviyesi.__doc__) #help strsi bu değişkende mevcut.\n",
    "\n",
    "obeziteSeviyesi.__doc__ += \"\\nBu metin __doc__ ile eklendi.\"\n",
    "\n",
    "print(obeziteSeviyesi.__doc__)"
   ]
  },
  {
   "cell_type": "markdown",
   "id": "92bcf78a",
   "metadata": {},
   "source": [
    "### Fonskiyon Parametrleri\n",
    "![alt text](FonksiyonParametreleri.png)"
   ]
  },
  {
   "cell_type": "code",
   "execution_count": 10,
   "id": "8fd46b8a",
   "metadata": {},
   "outputs": [
    {
     "name": "stdout",
     "output_type": "stream",
     "text": [
      "sinirsizValue : (1, 2, 3, 4, 4, 5)\n",
      "{'ad': 'ali', 'yas': 33}\n"
     ]
    }
   ],
   "source": [
    "def fnk_sinirsizDegerliParametreler(*sinirsizValue , **sinirsizKeyValue):\n",
    "    print(f\"sinirsizValue : {sinirsizValue}\")    #tuple olarak tutulur.\n",
    "    print(sinirsizKeyValue) #dict olarak tutulur.\n",
    "\n",
    "#-----------------------\n",
    "fnk_sinirsizDegerliParametreler(1,2,3,4,4,5,ad=\"ali\",yas=33)"
   ]
  },
  {
   "cell_type": "code",
   "execution_count": null,
   "id": "2487cdea",
   "metadata": {},
   "outputs": [
    {
     "data": {
      "text/plain": [
       "12"
      ]
     },
     "execution_count": 17,
     "metadata": {},
     "output_type": "execute_result"
    }
   ],
   "source": [
    "#soru:\n",
    "#fonksiyona verilen sayıların çift olanlarının, toplamını, adedini ve kendisini getirelim.\n",
    "def fnk_ciftHesaplari(*sayilar):\n",
    "\n",
    "    lst_ciftler = [] #boş listede çiftleri tutalım\n",
    "    #\n",
    "    for s in set(sayilar): #set elemanları tekilleştirilir.\n",
    "        if s%2==0:\n",
    "            #print(s)\n",
    "            lst_ciftler.append(s)\n",
    "\n",
    "    #\n",
    "    #return lst_ciftler,sum(lst_ciftler),len(lst_ciftler) #tuple döner.\n",
    "    return {\n",
    "            \"Elemanlar\":lst_ciftler,\n",
    "            \"Toplam\": sum(lst_ciftler),\n",
    "            \"Uzunluk\":len(lst_ciftler)\n",
    "            } #dict döndürdük\n",
    "\n",
    "#(,,,,) veya ,,,, tuple anlamına geliyor.\n",
    "#------------------\n",
    "fnk_ciftHesaplari(1,2,3,4,5,5,5,3,3,3,3,6,7,5,755645,6,47,6,)\n",
    "\n",
    "#\n",
    "fnk_ciftHesaplari(1,2,3,4,5,5,5,3,3,3,3,6,7,5,755645,6,47,6,)[\"Toplam\"]"
   ]
  },
  {
   "cell_type": "markdown",
   "id": "fed59d2e",
   "metadata": {},
   "source": [
    "## Lambda Fonksiyon / İsimsiz /Gövdesiz\n",
    "![alt text](lambda.png)"
   ]
  },
  {
   "cell_type": "code",
   "execution_count": 19,
   "id": "46aeb458",
   "metadata": {},
   "outputs": [
    {
     "data": {
      "text/plain": [
       "50.0"
      ]
     },
     "execution_count": 19,
     "metadata": {},
     "output_type": "execute_result"
    }
   ],
   "source": [
    "#C alsın geriye F döndürsünm.\n",
    "def c2f(C):\n",
    "    return 1.8*C + 32\n",
    "\n",
    "#---------------------------------------------\n",
    "#aynısın ılambda ile yazalım\n",
    "lambda C:1.8*C + 32\n",
    "\n",
    "#fonksiyon nesnesini bir değişkene atayıp kullanabiiriz.\n",
    "c2f = lambda C:1.8*C + 32\n",
    "\n",
    "#\n",
    "c2f(10)"
   ]
  },
  {
   "cell_type": "code",
   "execution_count": null,
   "id": "761246c3",
   "metadata": {},
   "outputs": [
    {
     "data": {
      "text/plain": [
       "122.0"
      ]
     },
     "execution_count": 20,
     "metadata": {},
     "output_type": "execute_result"
    }
   ],
   "source": [
    "(lambda C:1.8*C + 32)(50)#hiç isim vermedne veya değişkene atamadan doğrudan kullılabilir."
   ]
  }
 ],
 "metadata": {
  "kernelspec": {
   "display_name": "Python 3",
   "language": "python",
   "name": "python3"
  },
  "language_info": {
   "codemirror_mode": {
    "name": "ipython",
    "version": 3
   },
   "file_extension": ".py",
   "mimetype": "text/x-python",
   "name": "python",
   "nbconvert_exporter": "python",
   "pygments_lexer": "ipython3",
   "version": "3.11.3"
  }
 },
 "nbformat": 4,
 "nbformat_minor": 5
}
